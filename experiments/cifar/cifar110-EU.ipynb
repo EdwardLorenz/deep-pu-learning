{
 "cells": [
  {
   "cell_type": "code",
   "execution_count": 13,
   "metadata": {},
   "outputs": [],
   "source": [
    "from __future__ import (print_function, absolute_import)\n",
    "import os\n",
    "import numpy as np\n",
    "import pandas as pd\n",
    "import keras\n",
    "import keras.backend as K\n",
    "from keras import datasets\n",
    "from keras.preprocessing.image import ImageDataGenerator\n",
    "from keras.models import load_model\n",
    "\n",
    "from models import CNN, VGG8\n",
    "from wide_resnet import WideResidualNetwork\n",
    "from pulearn.utils import synthesize_pu_labels\n",
    "\n",
    "from keras.callbacks import (\n",
    "    ReduceLROnPlateau,\n",
    "    LearningRateScheduler,\n",
    "    CSVLogger,\n",
    "    EarlyStopping,\n",
    "    ModelCheckpoint)\n",
    "\n",
    "from keras_tqdm import TQDMNotebookCallback\n",
    "\n",
    "import tensorflow as tf\n",
    "\n",
    "os.environ[\"CUDA_VISIBLE_DEVICES\"]=\"1\"\n",
    "\n",
    "global _SESSION\n",
    "config = tf.ConfigProto(allow_soft_placement=True)\n",
    "config.gpu_options.allow_growth = True\n",
    "_SESSION = tf.Session(config=config)\n",
    "K.set_session(_SESSION)"
   ]
  },
  {
   "cell_type": "markdown",
   "metadata": {},
   "source": [
    "# CIFAR110"
   ]
  },
  {
   "cell_type": "code",
   "execution_count": 14,
   "metadata": {
    "collapsed": true
   },
   "outputs": [],
   "source": [
    "num_classes = 11\n",
    "batch_size = 128\n",
    "epochs = 200\n",
    "data_augmentation = True\n",
    "checkpoint = None\n",
    "# checkpoint = 'model_checkpoint_cifar10_wide_resnet.h5'\n",
    "title = 'cifar110_vgg8'\n",
    "# title = 'cifar110_wide_resnet'"
   ]
  },
  {
   "cell_type": "code",
   "execution_count": 15,
   "metadata": {
    "collapsed": true
   },
   "outputs": [],
   "source": [
    "(x_train_10, y_train_10), (x_test_10, y_test_10) = datasets.cifar10.load_data()\n",
    "(x_train_100, y_train_100), (x_test_100, y_test_100) = datasets.cifar100.load_data()\n",
    "\n",
    "y_train_10 = y_train_10 + 1\n",
    "y_test_10 = y_test_10 + 1\n",
    "y_train_100[...] = 0\n",
    "y_test_100[...] = 0\n",
    "\n",
    "x_train = np.concatenate((x_train_10, x_train_100), axis=0).astype('float32')\n",
    "y_train = np.concatenate((y_train_10, y_train_100), axis=0).astype('int8')\n",
    "x_test = np.concatenate((x_test_10, x_test_100), axis=0).astype('float32')\n",
    "y_test = np.concatenate((y_test_10, y_test_100), axis=0).astype('int8')\n",
    "\n",
    "x_train = x_train.astype(K.floatx())\n",
    "x_test = x_test.astype(K.floatx())\n",
    "\n",
    "y_train = keras.utils.to_categorical(y_train, num_classes)\n",
    "y_test = keras.utils.to_categorical(y_test, num_classes)\n"
   ]
  },
  {
   "cell_type": "code",
   "execution_count": 16,
   "metadata": {},
   "outputs": [
    {
     "name": "stdout",
     "output_type": "stream",
     "text": [
      "(100000, 32, 32, 3) (100000, 11)\n",
      "(20000, 32, 32, 3) (20000, 11)\n"
     ]
    }
   ],
   "source": [
    "print(x_train.shape, y_train.shape)\n",
    "print(x_test.shape, y_test.shape)"
   ]
  },
  {
   "cell_type": "code",
   "execution_count": 17,
   "metadata": {},
   "outputs": [
    {
     "name": "stdout",
     "output_type": "stream",
     "text": [
      "('Positive (pct_missing=0.0):', 275000, ' vs.', 275000)\n",
      "('Positive (pct_missing=0.1):', 275000, ' vs.', 247600)\n",
      "('Positive (pct_missing=0.2):', 275000, ' vs.', 220445)\n",
      "('Positive (pct_missing=0.3):', 275000, ' vs.', 191504)\n",
      "('Positive (pct_missing=0.4):', 275000, ' vs.', 165099)\n",
      "('Positive (pct_missing=0.5):', 275000, ' vs.', 137356)\n",
      "('Positive (pct_missing=0.6):', 275000, ' vs.', 109480)\n",
      "('Positive (pct_missing=0.7):', 275000, ' vs.', 81796)\n",
      "('Positive (pct_missing=0.8):', 275000, ' vs.', 55673)\n",
      "('Positive (pct_missing=0.9):', 275000, ' vs.', 27323)\n",
      "('Positive (pct_missing=1.0):', 275000, ' vs.', 0)\n",
      "class_weight [ 0.12116043  3.62331969  3.69699434  3.61180337  3.63490967  3.6161134\n",
      "  3.65831352  3.7000037   3.56926152  3.67904051  3.62476439]\n"
     ]
    }
   ],
   "source": [
    "pct_missing = 0.5\n",
    "y_train_pu = synthesize_pu_labels(y_train, random_state=42, verbose=True)\n",
    "\n",
    "from sklearn.utils import class_weight\n",
    "y_train_enc = y_train_pu[pct_missing]\n",
    "y_train_dec = np.argmax(y_train_enc, axis=1)\n",
    "class_weight = class_weight.compute_class_weight('balanced',\n",
    "                                                 np.unique(y_train_dec),\n",
    "                                                 y_train_dec)\n",
    "print('class_weight', class_weight)"
   ]
  },
  {
   "cell_type": "code",
   "execution_count": 18,
   "metadata": {},
   "outputs": [],
   "source": [
    "# Checkpoint\n",
    "checkpointer = ModelCheckpoint(\n",
    "    filepath=\"model_checkpoint_{}_eu_{}.h5\".format(title, pct_missing),\n",
    "    verbose=1,\n",
    "    save_best_only=True)\n",
    "\n",
    "# csvlogger\n",
    "csv_logger = CSVLogger(\n",
    "    'csv_logger_{}_eu_{}.csv'.format(title, pct_missing))\n",
    "\n",
    "# EarlyStopping\n",
    "early_stopper = EarlyStopping(monitor='val_loss',\n",
    "                              min_delta=0.001,\n",
    "                              patience=50)\n",
    "# Reduce lr with schedule\n",
    "# def schedule(epoch):\n",
    "#     lr = K.get_value(model.optimizer.lr)\n",
    "#     if epoch in [60, 120, 160]:\n",
    "#         lr = lr * np.sqrt(0.1)\n",
    "#     return lr\n",
    "# lr_scheduler = LearningRateScheduler(schedule)\n",
    "\n",
    "# Reduce lr on plateau\n",
    "lr_reducer = ReduceLROnPlateau(factor=np.sqrt(0.1),\n",
    "                               cooldown=0,\n",
    "                               patience=20,\n",
    "                               min_lr=1e-6)\n",
    "\n",
    "# Loss function switch\n",
    "alpha = K.variable(1.)\n",
    "class LossSwitch(keras.callbacks.Callback):\n",
    "    def __init__(self, alpha):\n",
    "        self.alpha = alpha       \n",
    "    def on_epoch_begin(self, epoch, logs={}):\n",
    "        if epoch < 10:\n",
    "            K.set_value(self.alpha, K.get_value(self.alpha) * (0.95 ** epoch))\n",
    "        else:\n",
    "            K.set_value(self.alpha, 0.)\n",
    "loss_switch = LossSwitch(alpha)"
   ]
  },
  {
   "cell_type": "code",
   "execution_count": null,
   "metadata": {},
   "outputs": [
    {
     "name": "stdout",
     "output_type": "stream",
     "text": [
      "_________________________________________________________________\n",
      "Layer (type)                 Output Shape              Param #   \n",
      "=================================================================\n",
      "conv2d_19 (Conv2D)           (None, 32, 32, 32)        896       \n",
      "_________________________________________________________________\n",
      "leaky_re_lu_19 (LeakyReLU)   (None, 32, 32, 32)        0         \n",
      "_________________________________________________________________\n",
      "conv2d_20 (Conv2D)           (None, 32, 32, 32)        9248      \n",
      "_________________________________________________________________\n",
      "leaky_re_lu_20 (LeakyReLU)   (None, 32, 32, 32)        0         \n",
      "_________________________________________________________________\n",
      "max_pooling2d_10 (MaxPooling (None, 16, 16, 32)        0         \n",
      "_________________________________________________________________\n",
      "dropout_13 (Dropout)         (None, 16, 16, 32)        0         \n",
      "_________________________________________________________________\n",
      "conv2d_21 (Conv2D)           (None, 16, 16, 64)        18496     \n",
      "_________________________________________________________________\n",
      "leaky_re_lu_21 (LeakyReLU)   (None, 16, 16, 64)        0         \n",
      "_________________________________________________________________\n",
      "conv2d_22 (Conv2D)           (None, 16, 16, 64)        36928     \n",
      "_________________________________________________________________\n",
      "leaky_re_lu_22 (LeakyReLU)   (None, 16, 16, 64)        0         \n",
      "_________________________________________________________________\n",
      "max_pooling2d_11 (MaxPooling (None, 8, 8, 64)          0         \n",
      "_________________________________________________________________\n",
      "dropout_14 (Dropout)         (None, 8, 8, 64)          0         \n",
      "_________________________________________________________________\n",
      "conv2d_23 (Conv2D)           (None, 8, 8, 128)         73856     \n",
      "_________________________________________________________________\n",
      "leaky_re_lu_23 (LeakyReLU)   (None, 8, 8, 128)         0         \n",
      "_________________________________________________________________\n",
      "conv2d_24 (Conv2D)           (None, 8, 8, 128)         147584    \n",
      "_________________________________________________________________\n",
      "leaky_re_lu_24 (LeakyReLU)   (None, 8, 8, 128)         0         \n",
      "_________________________________________________________________\n",
      "max_pooling2d_12 (MaxPooling (None, 4, 4, 128)         0         \n",
      "_________________________________________________________________\n",
      "dropout_15 (Dropout)         (None, 4, 4, 128)         0         \n",
      "_________________________________________________________________\n",
      "flatten_4 (Flatten)          (None, 2048)              0         \n",
      "_________________________________________________________________\n",
      "dense_7 (Dense)              (None, 512)               1049088   \n",
      "_________________________________________________________________\n",
      "activation_7 (Activation)    (None, 512)               0         \n",
      "_________________________________________________________________\n",
      "dropout_16 (Dropout)         (None, 512)               0         \n",
      "_________________________________________________________________\n",
      "dense_8 (Dense)              (None, 11)                5643      \n",
      "_________________________________________________________________\n",
      "activation_8 (Activation)    (None, 11)                0         \n",
      "=================================================================\n",
      "Total params: 1,341,739\n",
      "Trainable params: 1,341,739\n",
      "Non-trainable params: 0\n",
      "_________________________________________________________________\n"
     ]
    }
   ],
   "source": [
    "if title == 'cifar110_vgg8':\n",
    "    model = VGG8(input_shape=x_train.shape[1:], num_classes=num_classes)\n",
    "elif title == 'cifar110_wide_resnet':\n",
    "    model = WideResidualNetwork(depth=28, width=8, dropout_rate=0.5,\n",
    "                                classes=num_classes, include_top=True,\n",
    "                                weights=None)\n",
    "if checkpoint is not None:\n",
    "    model = load_model(checkpoint)\n",
    "    \n",
    "from pulearn.losses.keras_losses import unlabelled_exponential_loss\n",
    "def fade_in_unlabelled_exponential_loss(y_true, y_pred):\n",
    "    return alpha * keras.losses.categorical_crossentropy(y_true, y_pred) \\\n",
    "        + (1 - alpha) * unlabelled_exponential_loss(y_true, y_pred)\n",
    "\n",
    "optimizer = keras.optimizers.Adam(1e-3)\n",
    "model.compile(loss=fade_in_unlabelled_exponential_loss,\n",
    "              optimizer=optimizer,\n",
    "              metrics=['accuracy'])\n",
    "model.summary()"
   ]
  },
  {
   "cell_type": "code",
   "execution_count": null,
   "metadata": {},
   "outputs": [
    {
     "name": "stdout",
     "output_type": "stream",
     "text": [
      "Using real-time data augmentation.\n"
     ]
    },
    {
     "data": {
      "application/vnd.jupyter.widget-view+json": {
       "model_id": "5fe15d5c756047d8a06104f66b8122d8"
      }
     },
     "metadata": {},
     "output_type": "display_data"
    },
    {
     "data": {
      "application/vnd.jupyter.widget-view+json": {
       "model_id": "bab561f813824d0187733a69382bcebb"
      }
     },
     "metadata": {},
     "output_type": "display_data"
    },
    {
     "name": "stdout",
     "output_type": "stream",
     "text": [
      "Epoch 1/200\n",
      "780/781 [============================>.] - ETA: 0s - loss: 1.0188 - acc: 0.7478Epoch 00000: val_loss improved from inf to 1.32786, saving model to model_checkpoint_cifar110_vgg8_eu_0.5.h5\n",
      "781/781 [==============================] - 45s - loss: 1.0187 - acc: 0.7478 - val_loss: 1.3279 - val_acc: 0.5162\n"
     ]
    },
    {
     "data": {
      "application/vnd.jupyter.widget-view+json": {
       "model_id": "3c3ad977402c48e8a68e73b92e653580"
      }
     },
     "metadata": {},
     "output_type": "display_data"
    },
    {
     "name": "stdout",
     "output_type": "stream",
     "text": [
      "Epoch 2/200\n",
      "780/781 [============================>.] - ETA: 0s - loss: 0.8787 - acc: 0.7469Epoch 00001: val_loss improved from 1.32786 to 1.26225, saving model to model_checkpoint_cifar110_vgg8_eu_0.5.h5\n",
      "781/781 [==============================] - 45s - loss: 0.8785 - acc: 0.7469 - val_loss: 1.2622 - val_acc: 0.5379\n"
     ]
    },
    {
     "data": {
      "application/vnd.jupyter.widget-view+json": {
       "model_id": "c708cbde74394f91a338d56e03f16d91"
      }
     },
     "metadata": {},
     "output_type": "display_data"
    },
    {
     "name": "stdout",
     "output_type": "stream",
     "text": [
      "Epoch 3/200\n",
      "780/781 [============================>.] - ETA: 0s - loss: 0.8299 - acc: 0.7456Epoch 00002: val_loss improved from 1.26225 to 1.12979, saving model to model_checkpoint_cifar110_vgg8_eu_0.5.h5\n",
      "781/781 [==============================] - 45s - loss: 0.8298 - acc: 0.7456 - val_loss: 1.1298 - val_acc: 0.5652\n"
     ]
    },
    {
     "data": {
      "application/vnd.jupyter.widget-view+json": {
       "model_id": "52d8afc70f1448fa8ffc4f87fdaebe9e"
      }
     },
     "metadata": {},
     "output_type": "display_data"
    },
    {
     "name": "stdout",
     "output_type": "stream",
     "text": [
      "Epoch 4/200\n",
      "780/781 [============================>.] - ETA: 0s - loss: 0.7966 - acc: 0.7453Epoch 00003: val_loss did not improve\n",
      "781/781 [==============================] - 45s - loss: 0.7966 - acc: 0.7453 - val_loss: 1.1576 - val_acc: 0.5717\n"
     ]
    },
    {
     "data": {
      "application/vnd.jupyter.widget-view+json": {
       "model_id": "fdeb9e67e5af41c680fa94afc2eb73bb"
      }
     },
     "metadata": {},
     "output_type": "display_data"
    },
    {
     "name": "stdout",
     "output_type": "stream",
     "text": [
      "Epoch 5/200\n",
      "780/781 [============================>.] - ETA: 0s - loss: 0.7740 - acc: 0.7408Epoch 00004: val_loss improved from 1.12979 to 1.03330, saving model to model_checkpoint_cifar110_vgg8_eu_0.5.h5\n",
      "781/781 [==============================] - 45s - loss: 0.7739 - acc: 0.7409 - val_loss: 1.0333 - val_acc: 0.6000\n"
     ]
    },
    {
     "data": {
      "application/vnd.jupyter.widget-view+json": {
       "model_id": "1e3e8891e3554eb8972dc29f9a6c8916"
      }
     },
     "metadata": {},
     "output_type": "display_data"
    },
    {
     "name": "stdout",
     "output_type": "stream",
     "text": [
      "Epoch 6/200\n",
      "780/781 [============================>.] - ETA: 0s - loss: 0.7558 - acc: 0.7390Epoch 00005: val_loss did not improve\n",
      "781/781 [==============================] - 45s - loss: 0.7557 - acc: 0.7391 - val_loss: 1.1591 - val_acc: 0.5538\n"
     ]
    },
    {
     "data": {
      "application/vnd.jupyter.widget-view+json": {
       "model_id": "b3cc6ad803194647bfd60b092248c67f"
      }
     },
     "metadata": {},
     "output_type": "display_data"
    },
    {
     "name": "stdout",
     "output_type": "stream",
     "text": [
      "Epoch 7/200\n",
      "780/781 [============================>.] - ETA: 0s - loss: 0.7364 - acc: 0.7368Epoch 00006: val_loss improved from 1.03330 to 0.96834, saving model to model_checkpoint_cifar110_vgg8_eu_0.5.h5\n",
      "781/781 [==============================] - 45s - loss: 0.7365 - acc: 0.7368 - val_loss: 0.9683 - val_acc: 0.6337\n"
     ]
    },
    {
     "data": {
      "application/vnd.jupyter.widget-view+json": {
       "model_id": "5ab98650e31746fdadfd2be248fe27b8"
      }
     },
     "metadata": {},
     "output_type": "display_data"
    },
    {
     "name": "stdout",
     "output_type": "stream",
     "text": [
      "Epoch 8/200\n",
      "780/781 [============================>.] - ETA: 0s - loss: 0.7187 - acc: 0.7316Epoch 00007: val_loss improved from 0.96834 to 0.94505, saving model to model_checkpoint_cifar110_vgg8_eu_0.5.h5\n",
      "781/781 [==============================] - 45s - loss: 0.7186 - acc: 0.7316 - val_loss: 0.9451 - val_acc: 0.6470\n"
     ]
    },
    {
     "data": {
      "application/vnd.jupyter.widget-view+json": {
       "model_id": "050aba66678c4a7097639fe6d3ac674b"
      }
     },
     "metadata": {},
     "output_type": "display_data"
    },
    {
     "name": "stdout",
     "output_type": "stream",
     "text": [
      "Epoch 9/200\n",
      "780/781 [============================>.] - ETA: 0s - loss: 0.7120 - acc: 0.7246Epoch 00008: val_loss did not improve\n",
      "781/781 [==============================] - 45s - loss: 0.7120 - acc: 0.7246 - val_loss: 0.9533 - val_acc: 0.6439\n"
     ]
    },
    {
     "data": {
      "application/vnd.jupyter.widget-view+json": {
       "model_id": "fd8961aeae6e48d19f2196fff965dfd2"
      }
     },
     "metadata": {},
     "output_type": "display_data"
    },
    {
     "name": "stdout",
     "output_type": "stream",
     "text": [
      "Epoch 10/200\n",
      "780/781 [============================>.] - ETA: 0s - loss: 0.6965 - acc: 0.7204Epoch 00009: val_loss improved from 0.94505 to 0.83119, saving model to model_checkpoint_cifar110_vgg8_eu_0.5.h5\n",
      "781/781 [==============================] - 45s - loss: 0.6963 - acc: 0.7205 - val_loss: 0.8312 - val_acc: 0.7020\n"
     ]
    },
    {
     "data": {
      "application/vnd.jupyter.widget-view+json": {
       "model_id": "fef81db494ed4a83a74101d8b2fcc485"
      }
     },
     "metadata": {},
     "output_type": "display_data"
    },
    {
     "name": "stdout",
     "output_type": "stream",
     "text": [
      "Epoch 11/200\n",
      "780/781 [============================>.] - ETA: 0s - loss: 0.6791 - acc: 0.6999Epoch 00010: val_loss improved from 0.83119 to 0.81468, saving model to model_checkpoint_cifar110_vgg8_eu_0.5.h5\n",
      "781/781 [==============================] - 45s - loss: 0.6792 - acc: 0.6999 - val_loss: 0.8147 - val_acc: 0.6937\n"
     ]
    },
    {
     "data": {
      "application/vnd.jupyter.widget-view+json": {
       "model_id": "55dcaebcf99145728ae337a5bac87ef6"
      }
     },
     "metadata": {},
     "output_type": "display_data"
    },
    {
     "name": "stdout",
     "output_type": "stream",
     "text": [
      "Epoch 12/200\n",
      "780/781 [============================>.] - ETA: 0s - loss: 0.6752 - acc: 0.6969Epoch 00011: val_loss improved from 0.81468 to 0.76844, saving model to model_checkpoint_cifar110_vgg8_eu_0.5.h5\n",
      "781/781 [==============================] - 45s - loss: 0.6754 - acc: 0.6970 - val_loss: 0.7684 - val_acc: 0.7116\n"
     ]
    },
    {
     "data": {
      "application/vnd.jupyter.widget-view+json": {
       "model_id": "6132bfb0e38c4607873249d230818c7d"
      }
     },
     "metadata": {},
     "output_type": "display_data"
    },
    {
     "name": "stdout",
     "output_type": "stream",
     "text": [
      "Epoch 13/200\n",
      "780/781 [============================>.] - ETA: 0s - loss: 0.6713 - acc: 0.6968Epoch 00012: val_loss did not improve\n",
      "781/781 [==============================] - 45s - loss: 0.6714 - acc: 0.6968 - val_loss: 0.7835 - val_acc: 0.7135\n"
     ]
    },
    {
     "data": {
      "application/vnd.jupyter.widget-view+json": {
       "model_id": "0e3abd7dd57b44b1b034ea09fde360c4"
      }
     },
     "metadata": {},
     "output_type": "display_data"
    },
    {
     "name": "stdout",
     "output_type": "stream",
     "text": [
      "Epoch 14/200\n",
      "780/781 [============================>.] - ETA: 0s - loss: 0.6626 - acc: 0.6982Epoch 00013: val_loss did not improve\n",
      "781/781 [==============================] - 45s - loss: 0.6625 - acc: 0.6982 - val_loss: 0.7701 - val_acc: 0.7205\n"
     ]
    },
    {
     "data": {
      "application/vnd.jupyter.widget-view+json": {
       "model_id": "28a7e0dbc37a4e1ab4cc351f062c52da"
      }
     },
     "metadata": {},
     "output_type": "display_data"
    },
    {
     "name": "stdout",
     "output_type": "stream",
     "text": [
      "Epoch 15/200\n",
      "780/781 [============================>.] - ETA: 0s - loss: 0.6600 - acc: 0.6995Epoch 00014: val_loss improved from 0.76844 to 0.76591, saving model to model_checkpoint_cifar110_vgg8_eu_0.5.h5\n",
      "781/781 [==============================] - 45s - loss: 0.6600 - acc: 0.6995 - val_loss: 0.7659 - val_acc: 0.7185\n"
     ]
    },
    {
     "data": {
      "application/vnd.jupyter.widget-view+json": {
       "model_id": "076c194c56e041cca662e26318369cdf"
      }
     },
     "metadata": {},
     "output_type": "display_data"
    },
    {
     "name": "stdout",
     "output_type": "stream",
     "text": [
      "Epoch 16/200\n",
      "780/781 [============================>.] - ETA: 0s - loss: 0.6579 - acc: 0.6978Epoch 00015: val_loss did not improve\n",
      "781/781 [==============================] - 45s - loss: 0.6579 - acc: 0.6979 - val_loss: 0.7715 - val_acc: 0.7145\n"
     ]
    },
    {
     "data": {
      "application/vnd.jupyter.widget-view+json": {
       "model_id": "36243d2f69bc4a2ba58f9d58ed088a94"
      }
     },
     "metadata": {},
     "output_type": "display_data"
    },
    {
     "name": "stdout",
     "output_type": "stream",
     "text": [
      "Epoch 17/200\n",
      "780/781 [============================>.] - ETA: 0s - loss: 0.6574 - acc: 0.6960Epoch 00016: val_loss did not improve\n",
      "781/781 [==============================] - 45s - loss: 0.6573 - acc: 0.6960 - val_loss: 0.7859 - val_acc: 0.7131\n"
     ]
    },
    {
     "data": {
      "application/vnd.jupyter.widget-view+json": {
       "model_id": "7eed84d787ed4d50b1bf6b02b3614582"
      }
     },
     "metadata": {},
     "output_type": "display_data"
    },
    {
     "name": "stdout",
     "output_type": "stream",
     "text": [
      "Epoch 18/200\n",
      "780/781 [============================>.] - ETA: 0s - loss: 0.6578 - acc: 0.6943Epoch 00017: val_loss improved from 0.76591 to 0.75629, saving model to model_checkpoint_cifar110_vgg8_eu_0.5.h5\n",
      "781/781 [==============================] - 45s - loss: 0.6578 - acc: 0.6943 - val_loss: 0.7563 - val_acc: 0.7208\n"
     ]
    },
    {
     "data": {
      "application/vnd.jupyter.widget-view+json": {
       "model_id": "660a7063336a47739e2be4149cfdee3e"
      }
     },
     "metadata": {},
     "output_type": "display_data"
    },
    {
     "name": "stdout",
     "output_type": "stream",
     "text": [
      "Epoch 19/200\n",
      "780/781 [============================>.] - ETA: 0s - loss: 0.6545 - acc: 0.6947Epoch 00018: val_loss improved from 0.75629 to 0.74869, saving model to model_checkpoint_cifar110_vgg8_eu_0.5.h5\n",
      "781/781 [==============================] - 45s - loss: 0.6543 - acc: 0.6947 - val_loss: 0.7487 - val_acc: 0.7202\n"
     ]
    },
    {
     "data": {
      "application/vnd.jupyter.widget-view+json": {
       "model_id": "b1f148fc48924389ae962201591072b1"
      }
     },
     "metadata": {},
     "output_type": "display_data"
    },
    {
     "name": "stdout",
     "output_type": "stream",
     "text": [
      "Epoch 20/200\n",
      "780/781 [============================>.] - ETA: 0s - loss: 0.6511 - acc: 0.6986Epoch 00019: val_loss improved from 0.74869 to 0.73117, saving model to model_checkpoint_cifar110_vgg8_eu_0.5.h5\n",
      "781/781 [==============================] - 45s - loss: 0.6511 - acc: 0.6986 - val_loss: 0.7312 - val_acc: 0.7301\n"
     ]
    },
    {
     "data": {
      "application/vnd.jupyter.widget-view+json": {
       "model_id": "be66b62f12c644edbd156a62dfff3637"
      }
     },
     "metadata": {},
     "output_type": "display_data"
    },
    {
     "name": "stdout",
     "output_type": "stream",
     "text": [
      "Epoch 21/200\n",
      "780/781 [============================>.] - ETA: 0s - loss: 0.6501 - acc: 0.6968Epoch 00020: val_loss did not improve\n",
      "781/781 [==============================] - 45s - loss: 0.6500 - acc: 0.6968 - val_loss: 0.7418 - val_acc: 0.7244\n"
     ]
    },
    {
     "data": {
      "application/vnd.jupyter.widget-view+json": {
       "model_id": "f6d5a125aedf487f81f7bba5247c292c"
      }
     },
     "metadata": {},
     "output_type": "display_data"
    },
    {
     "name": "stdout",
     "output_type": "stream",
     "text": [
      "Epoch 22/200\n",
      "780/781 [============================>.] - ETA: 0s - loss: 0.6468 - acc: 0.6954Epoch 00021: val_loss did not improve\n",
      "781/781 [==============================] - 45s - loss: 0.6467 - acc: 0.6954 - val_loss: 0.8077 - val_acc: 0.7067\n"
     ]
    },
    {
     "data": {
      "application/vnd.jupyter.widget-view+json": {
       "model_id": "0c1f69a10cd542eca1f6ebd0c9f1580b"
      }
     },
     "metadata": {},
     "output_type": "display_data"
    },
    {
     "name": "stdout",
     "output_type": "stream",
     "text": [
      "Epoch 23/200\n",
      "780/781 [============================>.] - ETA: 0s - loss: 0.6444 - acc: 0.6973Epoch 00022: val_loss improved from 0.73117 to 0.70034, saving model to model_checkpoint_cifar110_vgg8_eu_0.5.h5\n",
      "781/781 [==============================] - 45s - loss: 0.6446 - acc: 0.6973 - val_loss: 0.7003 - val_acc: 0.7372\n"
     ]
    },
    {
     "data": {
      "application/vnd.jupyter.widget-view+json": {
       "model_id": "a72cc83b6dd0405f88e5a647519d5c54"
      }
     },
     "metadata": {},
     "output_type": "display_data"
    },
    {
     "name": "stdout",
     "output_type": "stream",
     "text": [
      "Epoch 24/200\n",
      "780/781 [============================>.] - ETA: 0s - loss: 0.6445 - acc: 0.6958Epoch 00023: val_loss did not improve\n",
      "781/781 [==============================] - 45s - loss: 0.6445 - acc: 0.6959 - val_loss: 0.7364 - val_acc: 0.7319\n"
     ]
    },
    {
     "data": {
      "application/vnd.jupyter.widget-view+json": {
       "model_id": "ec5c4b18340848329570f0de6b8a6660"
      }
     },
     "metadata": {},
     "output_type": "display_data"
    },
    {
     "name": "stdout",
     "output_type": "stream",
     "text": [
      "Epoch 25/200\n",
      "780/781 [============================>.] - ETA: 0s - loss: 0.6451 - acc: 0.6968Epoch 00024: val_loss did not improve\n",
      "781/781 [==============================] - 45s - loss: 0.6454 - acc: 0.6967 - val_loss: 0.8251 - val_acc: 0.7005\n"
     ]
    },
    {
     "data": {
      "application/vnd.jupyter.widget-view+json": {
       "model_id": "c4556a58a14a424fa04ce3b2a888a763"
      }
     },
     "metadata": {},
     "output_type": "display_data"
    },
    {
     "name": "stdout",
     "output_type": "stream",
     "text": [
      "Epoch 26/200\n",
      "780/781 [============================>.] - ETA: 0s - loss: 0.6465 - acc: 0.6945Epoch 00025: val_loss did not improve\n",
      "781/781 [==============================] - 45s - loss: 0.6463 - acc: 0.6946 - val_loss: 0.7340 - val_acc: 0.7300\n"
     ]
    },
    {
     "data": {
      "application/vnd.jupyter.widget-view+json": {
       "model_id": "777678ad13774b23af3a908027814dcb"
      }
     },
     "metadata": {},
     "output_type": "display_data"
    },
    {
     "name": "stdout",
     "output_type": "stream",
     "text": [
      "Epoch 27/200\n",
      "780/781 [============================>.] - ETA: 0s - loss: 0.6452 - acc: 0.6952Epoch 00026: val_loss did not improve\n",
      "781/781 [==============================] - 45s - loss: 0.6455 - acc: 0.6952 - val_loss: 0.7730 - val_acc: 0.7222\n"
     ]
    },
    {
     "data": {
      "application/vnd.jupyter.widget-view+json": {
       "model_id": "218d3a996d7a470e8fa21ffae44ea86e"
      }
     },
     "metadata": {},
     "output_type": "display_data"
    },
    {
     "name": "stdout",
     "output_type": "stream",
     "text": [
      "Epoch 28/200\n",
      "780/781 [============================>.] - ETA: 0s - loss: 0.6440 - acc: 0.6965Epoch 00027: val_loss did not improve\n",
      "781/781 [==============================] - 45s - loss: 0.6441 - acc: 0.6964 - val_loss: 0.7216 - val_acc: 0.7318\n"
     ]
    },
    {
     "data": {
      "application/vnd.jupyter.widget-view+json": {
       "model_id": "a5248783ce434d4fb9b1b91be54982e3"
      }
     },
     "metadata": {},
     "output_type": "display_data"
    },
    {
     "name": "stdout",
     "output_type": "stream",
     "text": [
      "Epoch 29/200\n",
      "780/781 [============================>.] - ETA: 0s - loss: 0.6433 - acc: 0.6950Epoch 00028: val_loss did not improve\n",
      "781/781 [==============================] - 45s - loss: 0.6432 - acc: 0.6950 - val_loss: 0.7345 - val_acc: 0.7356\n"
     ]
    },
    {
     "data": {
      "application/vnd.jupyter.widget-view+json": {
       "model_id": "d736268eefb84ff494baece25f5861e6"
      }
     },
     "metadata": {},
     "output_type": "display_data"
    },
    {
     "name": "stdout",
     "output_type": "stream",
     "text": [
      "Epoch 30/200\n",
      "780/781 [============================>.] - ETA: 0s - loss: 0.6410 - acc: 0.6937Epoch 00029: val_loss improved from 0.70034 to 0.68019, saving model to model_checkpoint_cifar110_vgg8_eu_0.5.h5\n",
      "781/781 [==============================] - 45s - loss: 0.6410 - acc: 0.6938 - val_loss: 0.6802 - val_acc: 0.7417\n"
     ]
    },
    {
     "data": {
      "application/vnd.jupyter.widget-view+json": {
       "model_id": "7be5034d9d094cbe81e054ff3a1518db"
      }
     },
     "metadata": {},
     "output_type": "display_data"
    },
    {
     "name": "stdout",
     "output_type": "stream",
     "text": [
      "Epoch 31/200\n",
      "780/781 [============================>.] - ETA: 0s - loss: 0.6372 - acc: 0.6962Epoch 00030: val_loss did not improve\n",
      "781/781 [==============================] - 45s - loss: 0.6371 - acc: 0.6962 - val_loss: 0.7152 - val_acc: 0.7291\n"
     ]
    },
    {
     "data": {
      "application/vnd.jupyter.widget-view+json": {
       "model_id": "9539f637a49d4bd1b69b18b411b59545"
      }
     },
     "metadata": {},
     "output_type": "display_data"
    },
    {
     "name": "stdout",
     "output_type": "stream",
     "text": [
      "Epoch 32/200\n",
      "780/781 [============================>.] - ETA: 0s - loss: 0.6417 - acc: 0.6955Epoch 00031: val_loss did not improve\n",
      "781/781 [==============================] - 45s - loss: 0.6415 - acc: 0.6956 - val_loss: 0.7316 - val_acc: 0.7336\n"
     ]
    },
    {
     "data": {
      "application/vnd.jupyter.widget-view+json": {
       "model_id": "05ed2122c2384151baf2b71d91cdeaf1"
      }
     },
     "metadata": {},
     "output_type": "display_data"
    },
    {
     "name": "stdout",
     "output_type": "stream",
     "text": [
      "Epoch 33/200\n",
      "780/781 [============================>.] - ETA: 0s - loss: 0.6417 - acc: 0.6916Epoch 00032: val_loss did not improve\n",
      "781/781 [==============================] - 45s - loss: 0.6416 - acc: 0.6916 - val_loss: 0.6982 - val_acc: 0.7351\n"
     ]
    },
    {
     "data": {
      "application/vnd.jupyter.widget-view+json": {
       "model_id": "61af8db4ab374337b2d379c2f7333e3b"
      }
     },
     "metadata": {},
     "output_type": "display_data"
    },
    {
     "name": "stdout",
     "output_type": "stream",
     "text": [
      "Epoch 34/200\n",
      "780/781 [============================>.] - ETA: 0s - loss: 0.6382 - acc: 0.6925Epoch 00033: val_loss did not improve\n",
      "781/781 [==============================] - 45s - loss: 0.6381 - acc: 0.6925 - val_loss: 0.6959 - val_acc: 0.7374\n"
     ]
    },
    {
     "data": {
      "application/vnd.jupyter.widget-view+json": {
       "model_id": "67375c34ff0e4cc7a66f1548b791e15d"
      }
     },
     "metadata": {},
     "output_type": "display_data"
    },
    {
     "name": "stdout",
     "output_type": "stream",
     "text": [
      "Epoch 35/200\n",
      "780/781 [============================>.] - ETA: 0s - loss: 0.6365 - acc: 0.6941Epoch 00034: val_loss improved from 0.68019 to 0.66924, saving model to model_checkpoint_cifar110_vgg8_eu_0.5.h5\n",
      "781/781 [==============================] - 45s - loss: 0.6366 - acc: 0.6940 - val_loss: 0.6692 - val_acc: 0.7473\n"
     ]
    },
    {
     "data": {
      "application/vnd.jupyter.widget-view+json": {
       "model_id": "036b3605e69d4ad2bb7329e5c96d42b9"
      }
     },
     "metadata": {},
     "output_type": "display_data"
    },
    {
     "name": "stdout",
     "output_type": "stream",
     "text": [
      "Epoch 36/200\n",
      "780/781 [============================>.] - ETA: 0s - loss: 0.6413 - acc: 0.6927Epoch 00035: val_loss did not improve\n",
      "781/781 [==============================] - 45s - loss: 0.6414 - acc: 0.6928 - val_loss: 0.7117 - val_acc: 0.7358\n"
     ]
    },
    {
     "data": {
      "application/vnd.jupyter.widget-view+json": {
       "model_id": "b1fc7a0876d3418086a40c9f8db2e935"
      }
     },
     "metadata": {},
     "output_type": "display_data"
    },
    {
     "name": "stdout",
     "output_type": "stream",
     "text": [
      "Epoch 37/200\n",
      "780/781 [============================>.] - ETA: 0s - loss: 0.6349 - acc: 0.6964Epoch 00036: val_loss did not improve\n",
      "781/781 [==============================] - 45s - loss: 0.6348 - acc: 0.6966 - val_loss: 0.7591 - val_acc: 0.7243\n"
     ]
    },
    {
     "data": {
      "application/vnd.jupyter.widget-view+json": {
       "model_id": "02c199276f704a17a145a61ccb2b9cb3"
      }
     },
     "metadata": {},
     "output_type": "display_data"
    },
    {
     "name": "stdout",
     "output_type": "stream",
     "text": [
      "Epoch 38/200\n",
      "780/781 [============================>.] - ETA: 0s - loss: 0.6369 - acc: 0.6957Epoch 00037: val_loss did not improve\n",
      "781/781 [==============================] - 45s - loss: 0.6366 - acc: 0.6958 - val_loss: 0.6984 - val_acc: 0.7460\n"
     ]
    },
    {
     "data": {
      "application/vnd.jupyter.widget-view+json": {
       "model_id": "bd02116278c3464f9b82365dc3f678b9"
      }
     },
     "metadata": {},
     "output_type": "display_data"
    },
    {
     "name": "stdout",
     "output_type": "stream",
     "text": [
      "Epoch 39/200\n",
      "780/781 [============================>.] - ETA: 0s - loss: 0.6351 - acc: 0.6948Epoch 00038: val_loss did not improve\n",
      "781/781 [==============================] - 45s - loss: 0.6352 - acc: 0.6948 - val_loss: 0.7210 - val_acc: 0.7346\n"
     ]
    },
    {
     "data": {
      "application/vnd.jupyter.widget-view+json": {
       "model_id": "bae8ca77cb994be89f05390f826c94b3"
      }
     },
     "metadata": {},
     "output_type": "display_data"
    },
    {
     "name": "stdout",
     "output_type": "stream",
     "text": [
      "Epoch 40/200\n",
      "780/781 [============================>.] - ETA: 0s - loss: 0.6380 - acc: 0.6908Epoch 00039: val_loss did not improve\n",
      "781/781 [==============================] - 45s - loss: 0.6380 - acc: 0.6908 - val_loss: 0.7337 - val_acc: 0.7355\n"
     ]
    },
    {
     "data": {
      "application/vnd.jupyter.widget-view+json": {
       "model_id": "6ce5ea44ee12480d9f451d3696ba4492"
      }
     },
     "metadata": {},
     "output_type": "display_data"
    },
    {
     "name": "stdout",
     "output_type": "stream",
     "text": [
      "Epoch 41/200\n",
      "780/781 [============================>.] - ETA: 0s - loss: 0.6375 - acc: 0.6953Epoch 00040: val_loss did not improve\n",
      "781/781 [==============================] - 45s - loss: 0.6375 - acc: 0.6953 - val_loss: 0.7421 - val_acc: 0.7293\n"
     ]
    },
    {
     "data": {
      "application/vnd.jupyter.widget-view+json": {
       "model_id": "a9802894c2fc447e9324026090c76fa0"
      }
     },
     "metadata": {},
     "output_type": "display_data"
    },
    {
     "name": "stdout",
     "output_type": "stream",
     "text": [
      "Epoch 42/200\n",
      "780/781 [============================>.] - ETA: 0s - loss: 0.6362 - acc: 0.6935Epoch 00041: val_loss did not improve\n",
      "781/781 [==============================] - 45s - loss: 0.6361 - acc: 0.6936 - val_loss: 0.7575 - val_acc: 0.7343\n"
     ]
    },
    {
     "data": {
      "application/vnd.jupyter.widget-view+json": {
       "model_id": "6ddfbd936c194c979790cb3145d56cc8"
      }
     },
     "metadata": {},
     "output_type": "display_data"
    },
    {
     "name": "stdout",
     "output_type": "stream",
     "text": [
      "Epoch 43/200\n",
      "780/781 [============================>.] - ETA: 0s - loss: 0.6291 - acc: 0.6935Epoch 00042: val_loss did not improve\n",
      "781/781 [==============================] - 45s - loss: 0.6290 - acc: 0.6936 - val_loss: 0.7156 - val_acc: 0.7365\n"
     ]
    },
    {
     "data": {
      "application/vnd.jupyter.widget-view+json": {
       "model_id": "fe6e67b00ed94d889a767724f8e81546"
      }
     },
     "metadata": {},
     "output_type": "display_data"
    },
    {
     "name": "stdout",
     "output_type": "stream",
     "text": [
      "Epoch 44/200\n",
      "780/781 [============================>.] - ETA: 0s - loss: 0.6366 - acc: 0.6931Epoch 00043: val_loss did not improve\n",
      "781/781 [==============================] - 45s - loss: 0.6367 - acc: 0.6932 - val_loss: 0.6780 - val_acc: 0.7547\n"
     ]
    },
    {
     "data": {
      "application/vnd.jupyter.widget-view+json": {
       "model_id": "82c519eed20b4333ad9cc8fb6961bf97"
      }
     },
     "metadata": {},
     "output_type": "display_data"
    },
    {
     "name": "stdout",
     "output_type": "stream",
     "text": [
      "Epoch 45/200\n",
      "780/781 [============================>.] - ETA: 0s - loss: 0.6376 - acc: 0.6943Epoch 00044: val_loss did not improve\n",
      "781/781 [==============================] - 45s - loss: 0.6378 - acc: 0.6943 - val_loss: 0.7645 - val_acc: 0.7264\n"
     ]
    },
    {
     "data": {
      "application/vnd.jupyter.widget-view+json": {
       "model_id": "fbbe42c7eccd42c2a5350efe69d96ade"
      }
     },
     "metadata": {},
     "output_type": "display_data"
    },
    {
     "name": "stdout",
     "output_type": "stream",
     "text": [
      "Epoch 46/200\n",
      "780/781 [============================>.] - ETA: 0s - loss: 0.6357 - acc: 0.6926Epoch 00045: val_loss did not improve\n",
      "781/781 [==============================] - 45s - loss: 0.6357 - acc: 0.6927 - val_loss: 0.6823 - val_acc: 0.7506\n"
     ]
    },
    {
     "data": {
      "application/vnd.jupyter.widget-view+json": {
       "model_id": "df222d9d3af7487c800447b66c1a0f8b"
      }
     },
     "metadata": {},
     "output_type": "display_data"
    },
    {
     "name": "stdout",
     "output_type": "stream",
     "text": [
      "Epoch 47/200\n",
      "780/781 [============================>.] - ETA: 0s - loss: 0.6300 - acc: 0.6958Epoch 00046: val_loss improved from 0.66924 to 0.65085, saving model to model_checkpoint_cifar110_vgg8_eu_0.5.h5\n",
      "781/781 [==============================] - 45s - loss: 0.6300 - acc: 0.6959 - val_loss: 0.6509 - val_acc: 0.7553\n"
     ]
    },
    {
     "data": {
      "application/vnd.jupyter.widget-view+json": {
       "model_id": "c2064aa177274971aae21f70fce571d6"
      }
     },
     "metadata": {},
     "output_type": "display_data"
    },
    {
     "name": "stdout",
     "output_type": "stream",
     "text": [
      "Epoch 48/200\n",
      "780/781 [============================>.] - ETA: 0s - loss: 0.6335 - acc: 0.6930Epoch 00047: val_loss did not improve\n",
      "781/781 [==============================] - 45s - loss: 0.6335 - acc: 0.6930 - val_loss: 0.6952 - val_acc: 0.7464\n"
     ]
    },
    {
     "data": {
      "application/vnd.jupyter.widget-view+json": {
       "model_id": "14d7e8510ecc472f8d73e25ba888628e"
      }
     },
     "metadata": {},
     "output_type": "display_data"
    },
    {
     "name": "stdout",
     "output_type": "stream",
     "text": [
      "Epoch 49/200\n",
      "780/781 [============================>.] - ETA: 0s - loss: 0.6397 - acc: 0.6954Epoch 00048: val_loss did not improve\n",
      "781/781 [==============================] - 45s - loss: 0.6395 - acc: 0.6954 - val_loss: 0.7119 - val_acc: 0.7418\n"
     ]
    },
    {
     "data": {
      "application/vnd.jupyter.widget-view+json": {
       "model_id": "b3008d62fe9d4a8ba6639c571f63a41c"
      }
     },
     "metadata": {},
     "output_type": "display_data"
    },
    {
     "name": "stdout",
     "output_type": "stream",
     "text": [
      "Epoch 50/200\n",
      "780/781 [============================>.] - ETA: 0s - loss: 0.6346 - acc: 0.6949Epoch 00049: val_loss improved from 0.65085 to 0.64203, saving model to model_checkpoint_cifar110_vgg8_eu_0.5.h5\n",
      "781/781 [==============================] - 45s - loss: 0.6345 - acc: 0.6949 - val_loss: 0.6420 - val_acc: 0.7562\n"
     ]
    },
    {
     "data": {
      "application/vnd.jupyter.widget-view+json": {
       "model_id": "0080d67c17cb41b99719ab536b86988b"
      }
     },
     "metadata": {},
     "output_type": "display_data"
    },
    {
     "name": "stdout",
     "output_type": "stream",
     "text": [
      "Epoch 51/200\n",
      "780/781 [============================>.] - ETA: 0s - loss: 0.6331 - acc: 0.6935Epoch 00050: val_loss did not improve\n",
      "781/781 [==============================] - 45s - loss: 0.6332 - acc: 0.6934 - val_loss: 0.6684 - val_acc: 0.7515\n"
     ]
    },
    {
     "data": {
      "application/vnd.jupyter.widget-view+json": {
       "model_id": "b509cdccf29c45319f252399814cd42e"
      }
     },
     "metadata": {},
     "output_type": "display_data"
    },
    {
     "name": "stdout",
     "output_type": "stream",
     "text": [
      "Epoch 52/200\n",
      "780/781 [============================>.] - ETA: 0s - loss: 0.6336 - acc: 0.6936Epoch 00051: val_loss did not improve\n",
      "781/781 [==============================] - 45s - loss: 0.6338 - acc: 0.6934 - val_loss: 0.6797 - val_acc: 0.7493\n"
     ]
    },
    {
     "data": {
      "application/vnd.jupyter.widget-view+json": {
       "model_id": "e52bb0f16de04f8b80cdc900d384d620"
      }
     },
     "metadata": {},
     "output_type": "display_data"
    },
    {
     "name": "stdout",
     "output_type": "stream",
     "text": [
      "Epoch 53/200\n",
      "780/781 [============================>.] - ETA: 0s - loss: 0.6338 - acc: 0.6923Epoch 00052: val_loss did not improve\n",
      "781/781 [==============================] - 45s - loss: 0.6337 - acc: 0.6923 - val_loss: 0.6681 - val_acc: 0.7562\n"
     ]
    },
    {
     "data": {
      "application/vnd.jupyter.widget-view+json": {
       "model_id": "baece78e3a444e8eb72bb0682f384747"
      }
     },
     "metadata": {},
     "output_type": "display_data"
    },
    {
     "name": "stdout",
     "output_type": "stream",
     "text": [
      "Epoch 54/200\n",
      "780/781 [============================>.] - ETA: 0s - loss: 0.6319 - acc: 0.6932Epoch 00053: val_loss did not improve\n",
      "781/781 [==============================] - 45s - loss: 0.6318 - acc: 0.6932 - val_loss: 0.7233 - val_acc: 0.7435\n"
     ]
    },
    {
     "data": {
      "application/vnd.jupyter.widget-view+json": {
       "model_id": "e81e2d1da4f945f2aa4d27eb2767628f"
      }
     },
     "metadata": {},
     "output_type": "display_data"
    },
    {
     "name": "stdout",
     "output_type": "stream",
     "text": [
      "Epoch 55/200\n",
      "780/781 [============================>.] - ETA: 0s - loss: 0.6360 - acc: 0.6933Epoch 00054: val_loss did not improve\n",
      "781/781 [==============================] - 45s - loss: 0.6360 - acc: 0.6932 - val_loss: 0.6737 - val_acc: 0.7511\n"
     ]
    },
    {
     "data": {
      "application/vnd.jupyter.widget-view+json": {
       "model_id": "fb2a1fa9df214418bc756370b874ad7c"
      }
     },
     "metadata": {},
     "output_type": "display_data"
    },
    {
     "name": "stdout",
     "output_type": "stream",
     "text": [
      "Epoch 56/200\n",
      "780/781 [============================>.] - ETA: 0s - loss: 0.6330 - acc: 0.6942Epoch 00055: val_loss did not improve\n",
      "781/781 [==============================] - 45s - loss: 0.6330 - acc: 0.6942 - val_loss: 0.6554 - val_acc: 0.7549\n"
     ]
    },
    {
     "data": {
      "application/vnd.jupyter.widget-view+json": {
       "model_id": "dcf99f9952144a598908f83a95a1c2bb"
      }
     },
     "metadata": {},
     "output_type": "display_data"
    },
    {
     "name": "stdout",
     "output_type": "stream",
     "text": [
      "Epoch 57/200\n",
      "780/781 [============================>.] - ETA: 0s - loss: 0.6333 - acc: 0.6922Epoch 00056: val_loss did not improve\n",
      "781/781 [==============================] - 45s - loss: 0.6333 - acc: 0.6922 - val_loss: 0.6749 - val_acc: 0.7521\n"
     ]
    },
    {
     "data": {
      "application/vnd.jupyter.widget-view+json": {
       "model_id": "21df9e77d8854a26ab3c98b06f2e722b"
      }
     },
     "metadata": {},
     "output_type": "display_data"
    },
    {
     "name": "stdout",
     "output_type": "stream",
     "text": [
      "Epoch 58/200\n",
      "780/781 [============================>.] - ETA: 0s - loss: 0.6347 - acc: 0.6952Epoch 00057: val_loss did not improve\n",
      "781/781 [==============================] - 45s - loss: 0.6346 - acc: 0.6952 - val_loss: 0.6526 - val_acc: 0.7548\n"
     ]
    },
    {
     "data": {
      "application/vnd.jupyter.widget-view+json": {
       "model_id": "714b48d64cce4027ba390fc77e669f22"
      }
     },
     "metadata": {},
     "output_type": "display_data"
    },
    {
     "name": "stdout",
     "output_type": "stream",
     "text": [
      "Epoch 59/200\n",
      "780/781 [============================>.] - ETA: 0s - loss: 0.6351 - acc: 0.6941Epoch 00058: val_loss did not improve\n",
      "781/781 [==============================] - 45s - loss: 0.6354 - acc: 0.6941 - val_loss: 0.6636 - val_acc: 0.7601\n"
     ]
    },
    {
     "data": {
      "application/vnd.jupyter.widget-view+json": {
       "model_id": "01824b7103684bae9c38244d74633934"
      }
     },
     "metadata": {},
     "output_type": "display_data"
    },
    {
     "name": "stdout",
     "output_type": "stream",
     "text": [
      "Epoch 60/200\n",
      "780/781 [============================>.] - ETA: 0s - loss: 0.6360 - acc: 0.6929Epoch 00059: val_loss did not improve\n",
      "781/781 [==============================] - 45s - loss: 0.6358 - acc: 0.6930 - val_loss: 0.7077 - val_acc: 0.7412\n"
     ]
    },
    {
     "data": {
      "application/vnd.jupyter.widget-view+json": {
       "model_id": "f2bf83ee41d94b46a94e56b86449243f"
      }
     },
     "metadata": {},
     "output_type": "display_data"
    },
    {
     "name": "stdout",
     "output_type": "stream",
     "text": [
      "Epoch 61/200\n",
      "780/781 [============================>.] - ETA: 0s - loss: 0.6361 - acc: 0.6910Epoch 00060: val_loss did not improve\n",
      "781/781 [==============================] - 45s - loss: 0.6362 - acc: 0.6909 - val_loss: 0.7563 - val_acc: 0.7509\n"
     ]
    },
    {
     "data": {
      "application/vnd.jupyter.widget-view+json": {
       "model_id": "acadcdd558c54030b26b5b9c90437379"
      }
     },
     "metadata": {},
     "output_type": "display_data"
    },
    {
     "name": "stdout",
     "output_type": "stream",
     "text": [
      "Epoch 62/200\n",
      "780/781 [============================>.] - ETA: 0s - loss: 0.6368 - acc: 0.6921Epoch 00061: val_loss did not improve\n",
      "781/781 [==============================] - 45s - loss: 0.6368 - acc: 0.6921 - val_loss: 0.6878 - val_acc: 0.7533\n"
     ]
    },
    {
     "data": {
      "application/vnd.jupyter.widget-view+json": {
       "model_id": "3b51b49363c24dbeb567583983a5cbe9"
      }
     },
     "metadata": {},
     "output_type": "display_data"
    },
    {
     "name": "stdout",
     "output_type": "stream",
     "text": [
      "Epoch 63/200\n",
      "780/781 [============================>.] - ETA: 0s - loss: 0.6294 - acc: 0.6939Epoch 00062: val_loss did not improve\n",
      "781/781 [==============================] - 45s - loss: 0.6293 - acc: 0.6940 - val_loss: 0.7054 - val_acc: 0.7488\n"
     ]
    },
    {
     "data": {
      "application/vnd.jupyter.widget-view+json": {
       "model_id": "819c6e38f9bb4a1aaed46677eafa2d61"
      }
     },
     "metadata": {},
     "output_type": "display_data"
    },
    {
     "name": "stdout",
     "output_type": "stream",
     "text": [
      "Epoch 64/200\n",
      "780/781 [============================>.] - ETA: 0s - loss: 0.6314 - acc: 0.6930Epoch 00063: val_loss did not improve\n",
      "781/781 [==============================] - 45s - loss: 0.6313 - acc: 0.6930 - val_loss: 0.7101 - val_acc: 0.7461\n"
     ]
    },
    {
     "data": {
      "application/vnd.jupyter.widget-view+json": {
       "model_id": "17ee42f8afe54ede8bcc4d79ad47ff5a"
      }
     },
     "metadata": {},
     "output_type": "display_data"
    },
    {
     "name": "stdout",
     "output_type": "stream",
     "text": [
      "Epoch 65/200\n",
      "780/781 [============================>.] - ETA: 0s - loss: 0.6330 - acc: 0.6940Epoch 00064: val_loss did not improve\n",
      "781/781 [==============================] - 45s - loss: 0.6328 - acc: 0.6942 - val_loss: 0.6792 - val_acc: 0.7495\n"
     ]
    },
    {
     "data": {
      "application/vnd.jupyter.widget-view+json": {
       "model_id": "306377d2b428462d9dbfc23ddd434168"
      }
     },
     "metadata": {},
     "output_type": "display_data"
    },
    {
     "name": "stdout",
     "output_type": "stream",
     "text": [
      "Epoch 66/200\n",
      "780/781 [============================>.] - ETA: 0s - loss: 0.6348 - acc: 0.6900Epoch 00065: val_loss did not improve\n",
      "781/781 [==============================] - 45s - loss: 0.6348 - acc: 0.6900 - val_loss: 0.6917 - val_acc: 0.7476\n"
     ]
    },
    {
     "data": {
      "application/vnd.jupyter.widget-view+json": {
       "model_id": "60c28f76fd57444badb5434e7702f217"
      }
     },
     "metadata": {},
     "output_type": "display_data"
    },
    {
     "name": "stdout",
     "output_type": "stream",
     "text": [
      "Epoch 67/200\n",
      "780/781 [============================>.] - ETA: 0s - loss: 0.6329 - acc: 0.6922Epoch 00066: val_loss did not improve\n",
      "781/781 [==============================] - 45s - loss: 0.6330 - acc: 0.6922 - val_loss: 0.6921 - val_acc: 0.7526\n"
     ]
    },
    {
     "data": {
      "application/vnd.jupyter.widget-view+json": {
       "model_id": "686d9aab393545ddac9fbaa156c09ef5"
      }
     },
     "metadata": {},
     "output_type": "display_data"
    },
    {
     "name": "stdout",
     "output_type": "stream",
     "text": [
      "Epoch 68/200\n",
      "780/781 [============================>.] - ETA: 0s - loss: 0.6358 - acc: 0.6914Epoch 00067: val_loss did not improve\n",
      "781/781 [==============================] - 45s - loss: 0.6359 - acc: 0.6913 - val_loss: 0.6886 - val_acc: 0.7528\n"
     ]
    },
    {
     "data": {
      "application/vnd.jupyter.widget-view+json": {
       "model_id": "15eb0c918d5e442ea71f358efd3052ae"
      }
     },
     "metadata": {},
     "output_type": "display_data"
    },
    {
     "name": "stdout",
     "output_type": "stream",
     "text": [
      "Epoch 69/200\n",
      "780/781 [============================>.] - ETA: 0s - loss: 0.6307 - acc: 0.6954Epoch 00068: val_loss did not improve\n",
      "781/781 [==============================] - 45s - loss: 0.6309 - acc: 0.6953 - val_loss: 0.7032 - val_acc: 0.7456\n"
     ]
    },
    {
     "data": {
      "application/vnd.jupyter.widget-view+json": {
       "model_id": "877a2e8db1aa431f8de88bbe198d3f66"
      }
     },
     "metadata": {},
     "output_type": "display_data"
    },
    {
     "name": "stdout",
     "output_type": "stream",
     "text": [
      "Epoch 70/200\n",
      "780/781 [============================>.] - ETA: 0s - loss: 0.6385 - acc: 0.6942Epoch 00069: val_loss did not improve\n",
      "781/781 [==============================] - 45s - loss: 0.6386 - acc: 0.6941 - val_loss: 0.6729 - val_acc: 0.7506\n"
     ]
    },
    {
     "data": {
      "application/vnd.jupyter.widget-view+json": {
       "model_id": "a2c5e58e05e449d49fff6a880feacee2"
      }
     },
     "metadata": {},
     "output_type": "display_data"
    },
    {
     "name": "stdout",
     "output_type": "stream",
     "text": [
      "Epoch 71/200\n",
      "780/781 [============================>.] - ETA: 0s - loss: 0.6374 - acc: 0.6914Epoch 00070: val_loss did not improve\n",
      "781/781 [==============================] - 45s - loss: 0.6372 - acc: 0.6915 - val_loss: 0.6458 - val_acc: 0.7622\n"
     ]
    },
    {
     "data": {
      "application/vnd.jupyter.widget-view+json": {
       "model_id": "6b3138851ff844628118960684891558"
      }
     },
     "metadata": {},
     "output_type": "display_data"
    },
    {
     "name": "stdout",
     "output_type": "stream",
     "text": [
      "Epoch 72/200\n",
      "780/781 [============================>.] - ETA: 0s - loss: 0.5796 - acc: 0.7034Epoch 00071: val_loss improved from 0.64203 to 0.61613, saving model to model_checkpoint_cifar110_vgg8_eu_0.5.h5\n",
      "781/781 [==============================] - 45s - loss: 0.5797 - acc: 0.7034 - val_loss: 0.6161 - val_acc: 0.7799\n"
     ]
    },
    {
     "data": {
      "application/vnd.jupyter.widget-view+json": {
       "model_id": "794b335605ea496188d1d5382998cf5d"
      }
     },
     "metadata": {},
     "output_type": "display_data"
    },
    {
     "name": "stdout",
     "output_type": "stream",
     "text": [
      "Epoch 73/200\n",
      "205/781 [======>.......................] - ETA: 31s - loss: 0.5712 - acc: 0.7074"
     ]
    }
   ],
   "source": [
    "def normalize(x):\n",
    "    \"\"\"Substract mean and Divide by std.\"\"\"\n",
    "    x -= np.array([125.3, 123.0, 113.9], dtype=K.floatx())\n",
    "    x /= np.array([63.0, 62.1, 66.7], dtype=K.floatx())\n",
    "    return x\n",
    "\n",
    "\n",
    "x_train = normalize(x_train)\n",
    "x_test = normalize(x_test)\n",
    "\n",
    "if not data_augmentation:\n",
    "    print('No data augmentation applied.')\n",
    "    model.fit(x_train, y_train,\n",
    "              batch_size=batch_size,\n",
    "              epochs=epochs,\n",
    "              validation_data=(x_test, y_test),\n",
    "              class_weight=class_weight,\n",
    "              shuffle=True,\n",
    "              callbacks=[csv_logger, checkpointer, early_stopper]) \n",
    "else:\n",
    "    print('Using real-time data augmentation.')\n",
    "    # This will do preprocessing and realtime data augmentation:\n",
    "    datagen = ImageDataGenerator(\n",
    "        featurewise_center=False,  # set input mean to 0 over the dataset\n",
    "        samplewise_center=False,  # set each sample mean to 0\n",
    "        featurewise_std_normalization=False,  # divide inputs by std\n",
    "        samplewise_std_normalization=False,  # divide each input by its std\n",
    "        zca_whitening=False,  # apply ZCA whitening\n",
    "        # randomly rotate images in the range (degrees, 0 to 180)\n",
    "        rotation_range=0,\n",
    "        # randomly shift images horizontally (fraction of total width)\n",
    "        width_shift_range=0.1,\n",
    "        # randomly shift images vertically (fraction of total height)\n",
    "        height_shift_range=0.1,\n",
    "        horizontal_flip=True,  # randomly flip images\n",
    "        vertical_flip=False)  # randomly flip images\n",
    "\n",
    "    # Compute quantities required for feature-wise normalization\n",
    "    # (std, mean, and principal components if ZCA whitening is applied).\n",
    "    datagen.fit(x_train)\n",
    "\n",
    "    # Fit the model on the batches generated by datagen.flow().\n",
    "    model.fit_generator(datagen.flow(x_train, y_train_pu[pct_missing],\n",
    "                                     batch_size=batch_size, shuffle=True),\n",
    "                        steps_per_epoch=x_train.shape[0] // batch_size,\n",
    "                        epochs=epochs,\n",
    "                        validation_data=(x_test, y_test),\n",
    "                        class_weight=class_weight,\n",
    "                        callbacks=[csv_logger, checkpointer, early_stopper,\n",
    "                                   lr_reducer, TQDMNotebookCallback(),\n",
    "                                  loss_switch])\n",
    "    model.save('{}_eu_{}.h5'.format(title, pct_missing))\n",
    "    \n",
    "    # Predict\n",
    "    y_train_pred_enc = model.predict(x_train)\n",
    "    y_test_pred_enc = model.predict(x_test)\n",
    "    \n",
    "    lst = []\n",
    "    y_train_pred = np.argmax(y_train_pred_enc, axis=-1)\n",
    "    y_train_true = np.argmax(y_train, axis=-1)\n",
    "    y_train_label = np.argmax(y_train_pu[pct_missing], axis=-1)\n",
    "    for y_pred, y_true, y_label in zip(y_train_pred, y_train_true, y_train_label):\n",
    "        lst.append(dict(y_pred=y_pred, y_true=y_true, y_label=y_label, split='train'))\n",
    "\n",
    "    y_test_pred = np.argmax(y_test_pred_enc, axis=-1)\n",
    "    y_test_true = np.argmax(y_test, axis=-1)\n",
    "    for y_pred, y_true in zip(y_test_pred, y_test_true):\n",
    "        lst.append(dict(y_pred=y_pred, y_true=y_true, y_label=y_true, split='test'))\n",
    "    \n",
    "    df = pd.DataFrame(lst)\n",
    "    df.to_csv('prediction_{}_eu_{}.csv'.format(title, pct_missing), index=False, mode='a')"
   ]
  },
  {
   "cell_type": "code",
   "execution_count": null,
   "metadata": {
    "collapsed": true
   },
   "outputs": [],
   "source": []
  }
 ],
 "metadata": {
  "kernelspec": {
   "display_name": "Python 2",
   "language": "python",
   "name": "python2"
  },
  "language_info": {
   "codemirror_mode": {
    "name": "ipython",
    "version": 2
   },
   "file_extension": ".py",
   "mimetype": "text/x-python",
   "name": "python",
   "nbconvert_exporter": "python",
   "pygments_lexer": "ipython2",
   "version": "2.7.12"
  }
 },
 "nbformat": 4,
 "nbformat_minor": 2
}
