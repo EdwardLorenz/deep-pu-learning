{
 "cells": [
  {
   "cell_type": "code",
   "execution_count": 1,
   "metadata": {},
   "outputs": [
    {
     "name": "stderr",
     "output_type": "stream",
     "text": [
      "Using TensorFlow backend.\n"
     ]
    }
   ],
   "source": [
    "from __future__ import (print_function, absolute_import)\n",
    "import os\n",
    "import numpy as np\n",
    "import pandas as pd\n",
    "import keras\n",
    "import keras.backend as K\n",
    "from keras import datasets\n",
    "from keras.preprocessing.image import ImageDataGenerator\n",
    "from keras.models import load_model\n",
    "\n",
    "from models import CNN, VGG8\n",
    "from wide_resnet import WideResidualNetwork\n",
    "from pulearn.utils import synthesize_pu_labels\n",
    "\n",
    "from keras.callbacks import (\n",
    "    ReduceLROnPlateau,\n",
    "    LearningRateScheduler,\n",
    "    CSVLogger,\n",
    "    EarlyStopping,\n",
    "    ModelCheckpoint)\n",
    "\n",
    "from keras_tqdm import TQDMNotebookCallback\n",
    "\n",
    "import tensorflow as tf\n",
    "\n",
    "os.environ[\"CUDA_VISIBLE_DEVICES\"]=\"1\"\n",
    "\n",
    "global _SESSION\n",
    "config = tf.ConfigProto(allow_soft_placement=True)\n",
    "config.gpu_options.allow_growth = True\n",
    "_SESSION = tf.Session(config=config)\n",
    "K.set_session(_SESSION)"
   ]
  },
  {
   "cell_type": "markdown",
   "metadata": {},
   "source": [
    "# CIFAR110"
   ]
  },
  {
   "cell_type": "code",
   "execution_count": 2,
   "metadata": {
    "collapsed": true
   },
   "outputs": [],
   "source": [
    "num_classes = 11\n",
    "batch_size = 128\n",
    "epochs = 200\n",
    "data_augmentation = True\n",
    "checkpoint = None\n",
    "# checkpoint = 'model_checkpoint_cifar10_wide_resnet.h5'\n",
    "title = 'cifar110_vgg8'\n",
    "# title = 'cifar110_wide_resnet'"
   ]
  },
  {
   "cell_type": "code",
   "execution_count": 3,
   "metadata": {
    "collapsed": true
   },
   "outputs": [],
   "source": [
    "(x_train_10, y_train_10), (x_test_10, y_test_10) = datasets.cifar10.load_data()\n",
    "(x_train_100, y_train_100), (x_test_100, y_test_100) = datasets.cifar100.load_data()\n",
    "\n",
    "y_train_10 = y_train_10 + 1\n",
    "y_test_10 = y_test_10 + 1\n",
    "y_train_100[...] = 0\n",
    "y_test_100[...] = 0\n",
    "\n",
    "x_train = np.concatenate((x_train_10, x_train_100), axis=0).astype('float32')\n",
    "y_train = np.concatenate((y_train_10, y_train_100), axis=0).astype('int8')\n",
    "x_test = np.concatenate((x_test_10, x_test_100), axis=0).astype('float32')\n",
    "y_test = np.concatenate((y_test_10, y_test_100), axis=0).astype('int8')\n",
    "\n",
    "x_train = x_train.astype(K.floatx())\n",
    "x_test = x_test.astype(K.floatx())\n",
    "\n",
    "y_train = keras.utils.to_categorical(y_train, num_classes)\n",
    "y_test = keras.utils.to_categorical(y_test, num_classes)\n",
    "\n",
    "def normalize(x):\n",
    "    \"\"\"Substract mean and Divide by std.\"\"\"\n",
    "    x -= np.array([125.3, 123.0, 113.9], dtype=K.floatx())\n",
    "    x /= np.array([63.0, 62.1, 66.7], dtype=K.floatx())\n",
    "    return x\n",
    "\n",
    "\n",
    "x_train = normalize(x_train)\n",
    "x_test = normalize(x_test)"
   ]
  },
  {
   "cell_type": "code",
   "execution_count": 4,
   "metadata": {},
   "outputs": [
    {
     "name": "stdout",
     "output_type": "stream",
     "text": [
      "(100000, 32, 32, 3) (100000, 11)\n",
      "(20000, 32, 32, 3) (20000, 11)\n"
     ]
    }
   ],
   "source": [
    "print(x_train.shape, y_train.shape)\n",
    "print(x_test.shape, y_test.shape)"
   ]
  },
  {
   "cell_type": "code",
   "execution_count": 5,
   "metadata": {},
   "outputs": [
    {
     "name": "stdout",
     "output_type": "stream",
     "text": [
      "('Positive (pct_missing=0.0):', 50000, ' -> ', 50000)\n",
      "('Positive (pct_missing=0.1):', 50000, ' -> ', 45005)\n",
      "('Positive (pct_missing=0.2):', 50000, ' -> ', 39933)\n",
      "('Positive (pct_missing=0.3):', 50000, ' -> ', 34992)\n",
      "('Positive (pct_missing=0.4):', 50000, ' -> ', 30182)\n",
      "('Positive (pct_missing=0.5):', 50000, ' -> ', 24970)\n",
      "('Positive (pct_missing=0.6):', 50000, ' -> ', 19969)\n",
      "('Positive (pct_missing=0.7):', 50000, ' -> ', 14799)\n",
      "('Positive (pct_missing=0.8):', 50000, ' -> ', 10048)\n",
      "('Positive (pct_missing=0.9):', 50000, ' -> ', 4956)\n",
      "('Positive (pct_missing=1.0):', 50000, ' -> ', 0)\n",
      "class_weight {0: 0.66640010662401705, 1: 2.0024028834601522, 2: 2.0024028834601522, 3: 2.0024028834601522, 4: 2.0024028834601522, 5: 2.0024028834601522, 6: 2.0024028834601522, 7: 2.0024028834601522, 8: 2.0024028834601522, 9: 2.0024028834601522, 10: 2.0024028834601522}\n"
     ]
    }
   ],
   "source": [
    "pct_missing = 0.5\n",
    "y_train_pu = synthesize_pu_labels(y_train, random_state=40, verbose=True)\n",
    "\n",
    "y_train_enc = y_train_pu[pct_missing]\n",
    "from sklearn.utils import class_weight\n",
    "# y_train_dec = np.argmax(y_train_enc, axis=1)\n",
    "# class_weights = class_weight.compute_class_weight('balanced',\n",
    "#                                                  np.unique(y_train_dec),\n",
    "#                                                  y_train_dec)\n",
    "# class_weight = {}\n",
    "# for k, w in enumerate(class_weights):\n",
    "#     class_weight[k] = w\n",
    "\n",
    "y_train_dec = 1 - y_train_enc[:, 0]\n",
    "class_weights = class_weight.compute_class_weight('balanced',\n",
    "                                                 [0, 1],\n",
    "                                                 y_train_dec)\n",
    "# class_weights = [1., 2.]\n",
    "class_weight = {}\n",
    "class_weight[0] = class_weights[0]\n",
    "for k in range(1, num_classes):\n",
    "    class_weight[k] = class_weights[1]\n",
    "\n",
    "# pu_ratio = np.sum(y_train_enc[:, 1:]) / np.sum(y_train_enc[:, 0])\n",
    "\n",
    "# class_weight = {0: 1}\n",
    "# for k in range(1, num_classes):\n",
    "#     class_weight[k] = 1 / pu_ratio\n",
    "\n",
    "print('class_weight', class_weight)"
   ]
  },
  {
   "cell_type": "code",
   "execution_count": 6,
   "metadata": {
    "collapsed": true
   },
   "outputs": [],
   "source": [
    "# Checkpoint\n",
    "checkpointer = ModelCheckpoint(\n",
    "    monitor='val_acc',\n",
    "    filepath=\"model_checkpoint_{}_eu_{}.h5\".format(title, pct_missing),\n",
    "    verbose=1,\n",
    "    save_best_only=True)\n",
    "\n",
    "# csvlogger\n",
    "csv_logger = CSVLogger(\n",
    "    'csv_logger_{}_eu_{}.csv'.format(title, pct_missing))\n",
    "\n",
    "# EarlyStopping\n",
    "early_stopper = EarlyStopping(monitor='val_acc',\n",
    "                              min_delta=0.001,\n",
    "                              patience=50)\n",
    "# Reduce lr with schedule\n",
    "# def schedule(epoch):\n",
    "#     lr = K.get_value(self.model.optimizer.lr)\n",
    "#     if epoch in [60, 120, 160]:\n",
    "#         lr = lr * np.sqrt(0.1)\n",
    "#     return lr\n",
    "# lr_scheduler = LearningRateScheduler(schedule)\n",
    "\n",
    "# Reduce lr on plateau\n",
    "lr_reducer = ReduceLROnPlateau(monitor='val_acc',\n",
    "                               factor=np.sqrt(0.1),\n",
    "                               cooldown=0,\n",
    "                               patience=20,\n",
    "                               min_lr=0.3e-6)\n",
    "\n",
    "# Loss function switch\n",
    "alpha = K.variable(0.)\n",
    "class LossSwitch(keras.callbacks.Callback):\n",
    "    def __init__(self, alpha):\n",
    "        self.alpha = alpha       \n",
    "    def on_epoch_end(self, epoch, logs={}):\n",
    "        if epoch < 0:\n",
    "            K.set_value(self.alpha, .05)\n",
    "#             K.set_value(self.alpha, K.get_value(self.alpha) * (0.8 ** epoch))\n",
    "        else:\n",
    "            K.set_value(self.alpha, 0.)\n",
    "loss_switch = LossSwitch(alpha)"
   ]
  },
  {
   "cell_type": "code",
   "execution_count": 7,
   "metadata": {},
   "outputs": [
    {
     "name": "stdout",
     "output_type": "stream",
     "text": [
      "_________________________________________________________________\n",
      "Layer (type)                 Output Shape              Param #   \n",
      "=================================================================\n",
      "conv2d_1 (Conv2D)            (None, 32, 32, 32)        896       \n",
      "_________________________________________________________________\n",
      "leaky_re_lu_1 (LeakyReLU)    (None, 32, 32, 32)        0         \n",
      "_________________________________________________________________\n",
      "conv2d_2 (Conv2D)            (None, 32, 32, 32)        9248      \n",
      "_________________________________________________________________\n",
      "leaky_re_lu_2 (LeakyReLU)    (None, 32, 32, 32)        0         \n",
      "_________________________________________________________________\n",
      "max_pooling2d_1 (MaxPooling2 (None, 16, 16, 32)        0         \n",
      "_________________________________________________________________\n",
      "dropout_1 (Dropout)          (None, 16, 16, 32)        0         \n",
      "_________________________________________________________________\n",
      "conv2d_3 (Conv2D)            (None, 16, 16, 64)        18496     \n",
      "_________________________________________________________________\n",
      "leaky_re_lu_3 (LeakyReLU)    (None, 16, 16, 64)        0         \n",
      "_________________________________________________________________\n",
      "conv2d_4 (Conv2D)            (None, 16, 16, 64)        36928     \n",
      "_________________________________________________________________\n",
      "leaky_re_lu_4 (LeakyReLU)    (None, 16, 16, 64)        0         \n",
      "_________________________________________________________________\n",
      "max_pooling2d_2 (MaxPooling2 (None, 8, 8, 64)          0         \n",
      "_________________________________________________________________\n",
      "dropout_2 (Dropout)          (None, 8, 8, 64)          0         \n",
      "_________________________________________________________________\n",
      "conv2d_5 (Conv2D)            (None, 8, 8, 128)         73856     \n",
      "_________________________________________________________________\n",
      "leaky_re_lu_5 (LeakyReLU)    (None, 8, 8, 128)         0         \n",
      "_________________________________________________________________\n",
      "conv2d_6 (Conv2D)            (None, 8, 8, 128)         147584    \n",
      "_________________________________________________________________\n",
      "leaky_re_lu_6 (LeakyReLU)    (None, 8, 8, 128)         0         \n",
      "_________________________________________________________________\n",
      "max_pooling2d_3 (MaxPooling2 (None, 4, 4, 128)         0         \n",
      "_________________________________________________________________\n",
      "dropout_3 (Dropout)          (None, 4, 4, 128)         0         \n",
      "_________________________________________________________________\n",
      "flatten_1 (Flatten)          (None, 2048)              0         \n",
      "_________________________________________________________________\n",
      "dense_1 (Dense)              (None, 512)               1049088   \n",
      "_________________________________________________________________\n",
      "activation_1 (Activation)    (None, 512)               0         \n",
      "_________________________________________________________________\n",
      "dense_2 (Dense)              (None, 11)                5643      \n",
      "_________________________________________________________________\n",
      "activation_2 (Activation)    (None, 11)                0         \n",
      "=================================================================\n",
      "Total params: 1,341,739\n",
      "Trainable params: 1,341,739\n",
      "Non-trainable params: 0\n",
      "_________________________________________________________________\n"
     ]
    }
   ],
   "source": [
    "if title == 'cifar110_vgg8':\n",
    "    model = VGG8(input_shape=x_train.shape[1:], num_classes=num_classes)\n",
    "elif title == 'cifar110_wide_resnet':\n",
    "    model = WideResidualNetwork(depth=28, width=8, dropout_rate=0.5,\n",
    "                                classes=num_classes, include_top=True,\n",
    "                                weights=None)\n",
    "if checkpoint is not None:\n",
    "    model = load_model(checkpoint)\n",
    "    \n",
    "from pulearn.losses.keras_losses import unlabeled_exponential_loss\n",
    "def fade_in_unlabeled_exponential_loss(y_true, y_pred):\n",
    "    return alpha * keras.losses.categorical_crossentropy(y_true, y_pred) \\\n",
    "        + (1 - alpha) * unlabeled_exponential_loss(y_true, y_pred)\n",
    "\n",
    "optimizer = keras.optimizers.Adam(1e-3)\n",
    "model.compile(loss=fade_in_unlabeled_exponential_loss,\n",
    "              optimizer=optimizer,\n",
    "              metrics=['accuracy'])\n",
    "model.summary()"
   ]
  },
  {
   "cell_type": "code",
   "execution_count": 8,
   "metadata": {},
   "outputs": [
    {
     "name": "stdout",
     "output_type": "stream",
     "text": [
      "Using real-time data augmentation.\n"
     ]
    },
    {
     "data": {
      "application/vnd.jupyter.widget-view+json": {
       "model_id": "8ad4aa9df50c4294af8ce387a0ed62d4"
      }
     },
     "metadata": {},
     "output_type": "display_data"
    },
    {
     "data": {
      "application/vnd.jupyter.widget-view+json": {
       "model_id": "0cc182a57378453babb9b598bc728ead"
      }
     },
     "metadata": {},
     "output_type": "display_data"
    },
    {
     "name": "stdout",
     "output_type": "stream",
     "text": [
      "Epoch 1/200\n",
      "780/781 [============================>.] - ETA: 0s - loss: 1.2425 - acc: 0.2397Epoch 00000: val_acc improved from -inf to 0.46785, saving model to model_checkpoint_cifar110_vgg8_eu_0.5.h5\n",
      "781/781 [==============================] - 65s - loss: 1.2420 - acc: 0.2399 - val_loss: 0.9732 - val_acc: 0.4678\n"
     ]
    },
    {
     "data": {
      "application/vnd.jupyter.widget-view+json": {
       "model_id": "ba92b4e948404c1aab61dc01a9297435"
      }
     },
     "metadata": {},
     "output_type": "display_data"
    },
    {
     "name": "stdout",
     "output_type": "stream",
     "text": [
      "Epoch 2/200\n",
      "780/781 [============================>.] - ETA: 0s - loss: 0.9845 - acc: 0.3616Epoch 00001: val_acc improved from 0.46785 to 0.51945, saving model to model_checkpoint_cifar110_vgg8_eu_0.5.h5\n",
      "781/781 [==============================] - 90s - loss: 0.9844 - acc: 0.3616 - val_loss: 0.8417 - val_acc: 0.5194\n"
     ]
    },
    {
     "data": {
      "application/vnd.jupyter.widget-view+json": {
       "model_id": "4d23ec2ded664d33a6c9de8fd07363f5"
      }
     },
     "metadata": {},
     "output_type": "display_data"
    },
    {
     "name": "stdout",
     "output_type": "stream",
     "text": [
      "Epoch 3/200\n",
      "780/781 [============================>.] - ETA: 0s - loss: 0.8966 - acc: 0.4010Epoch 00002: val_acc improved from 0.51945 to 0.52075, saving model to model_checkpoint_cifar110_vgg8_eu_0.5.h5\n",
      "781/781 [==============================] - 89s - loss: 0.8969 - acc: 0.4009 - val_loss: 0.8104 - val_acc: 0.5208\n"
     ]
    },
    {
     "data": {
      "application/vnd.jupyter.widget-view+json": {
       "model_id": "c0fb2ce21a3e49e1918c5bbaf8f39615"
      }
     },
     "metadata": {},
     "output_type": "display_data"
    },
    {
     "name": "stdout",
     "output_type": "stream",
     "text": [
      "Epoch 4/200\n",
      "780/781 [============================>.] - ETA: 0s - loss: 0.8337 - acc: 0.4256Epoch 00003: val_acc improved from 0.52075 to 0.61760, saving model to model_checkpoint_cifar110_vgg8_eu_0.5.h5\n",
      "781/781 [==============================] - 89s - loss: 0.8337 - acc: 0.4256 - val_loss: 0.7457 - val_acc: 0.6176\n"
     ]
    },
    {
     "data": {
      "application/vnd.jupyter.widget-view+json": {
       "model_id": "8bfa3856cfae4e68b0d8e6b740e2a887"
      }
     },
     "metadata": {},
     "output_type": "display_data"
    },
    {
     "name": "stdout",
     "output_type": "stream",
     "text": [
      "Epoch 5/200\n",
      "780/781 [============================>.] - ETA: 0s - loss: 0.7969 - acc: 0.4481Epoch 00004: val_acc improved from 0.61760 to 0.64180, saving model to model_checkpoint_cifar110_vgg8_eu_0.5.h5\n",
      "781/781 [==============================] - 89s - loss: 0.7972 - acc: 0.4480 - val_loss: 0.7241 - val_acc: 0.6418\n"
     ]
    },
    {
     "data": {
      "application/vnd.jupyter.widget-view+json": {
       "model_id": "c34e57c403db461cbdbd687112fef912"
      }
     },
     "metadata": {},
     "output_type": "display_data"
    },
    {
     "name": "stdout",
     "output_type": "stream",
     "text": [
      "Epoch 6/200\n",
      "780/781 [============================>.] - ETA: 0s - loss: 0.7693 - acc: 0.4613Epoch 00005: val_acc did not improve\n",
      "781/781 [==============================] - 90s - loss: 0.7691 - acc: 0.4613 - val_loss: 0.6757 - val_acc: 0.6303\n"
     ]
    },
    {
     "data": {
      "application/vnd.jupyter.widget-view+json": {
       "model_id": "0d0ba243dec0469aac0b86fc4a5448f5"
      }
     },
     "metadata": {},
     "output_type": "display_data"
    },
    {
     "name": "stdout",
     "output_type": "stream",
     "text": [
      "Epoch 7/200\n",
      "780/781 [============================>.] - ETA: 0s - loss: 0.7419 - acc: 0.4695Epoch 00006: val_acc did not improve\n",
      "781/781 [==============================] - 89s - loss: 0.7419 - acc: 0.4694 - val_loss: 0.6799 - val_acc: 0.6217\n"
     ]
    },
    {
     "data": {
      "application/vnd.jupyter.widget-view+json": {
       "model_id": "70d2c8d89d7544978390d1450ac7dc32"
      }
     },
     "metadata": {},
     "output_type": "display_data"
    },
    {
     "name": "stdout",
     "output_type": "stream",
     "text": [
      "Epoch 8/200\n",
      "780/781 [============================>.] - ETA: 0s - loss: 0.7238 - acc: 0.4818Epoch 00007: val_acc improved from 0.64180 to 0.67575, saving model to model_checkpoint_cifar110_vgg8_eu_0.5.h5\n",
      "781/781 [==============================] - 90s - loss: 0.7241 - acc: 0.4818 - val_loss: 0.6600 - val_acc: 0.6757\n"
     ]
    },
    {
     "data": {
      "application/vnd.jupyter.widget-view+json": {
       "model_id": "cfa93d501db24332a58e4980124b125a"
      }
     },
     "metadata": {},
     "output_type": "display_data"
    },
    {
     "name": "stdout",
     "output_type": "stream",
     "text": [
      "Epoch 9/200\n",
      "780/781 [============================>.] - ETA: 0s - loss: 0.7097 - acc: 0.4797Epoch 00008: val_acc did not improve\n",
      "781/781 [==============================] - 90s - loss: 0.7098 - acc: 0.4796 - val_loss: 0.6769 - val_acc: 0.6194\n"
     ]
    },
    {
     "data": {
      "application/vnd.jupyter.widget-view+json": {
       "model_id": "992e52c0e15b4e70a0780ca384d71138"
      }
     },
     "metadata": {},
     "output_type": "display_data"
    },
    {
     "name": "stdout",
     "output_type": "stream",
     "text": [
      "Epoch 10/200\n",
      "780/781 [============================>.] - ETA: 0s - loss: 0.6924 - acc: 0.4919Epoch 00009: val_acc did not improve\n",
      "781/781 [==============================] - 89s - loss: 0.6927 - acc: 0.4919 - val_loss: 0.6597 - val_acc: 0.6549\n"
     ]
    },
    {
     "data": {
      "application/vnd.jupyter.widget-view+json": {
       "model_id": "19b0ddf9fedd4221911c9dea300be445"
      }
     },
     "metadata": {},
     "output_type": "display_data"
    },
    {
     "name": "stdout",
     "output_type": "stream",
     "text": [
      "Epoch 11/200\n",
      "780/781 [============================>.] - ETA: 0s - loss: 0.6850 - acc: 0.4993Epoch 00010: val_acc did not improve\n",
      "781/781 [==============================] - 89s - loss: 0.6851 - acc: 0.4992 - val_loss: 0.6430 - val_acc: 0.6706\n"
     ]
    },
    {
     "data": {
      "application/vnd.jupyter.widget-view+json": {
       "model_id": "e0e1745d61d04c97828c8f7c15e18999"
      }
     },
     "metadata": {},
     "output_type": "display_data"
    },
    {
     "name": "stdout",
     "output_type": "stream",
     "text": [
      "Epoch 12/200\n",
      "780/781 [============================>.] - ETA: 0s - loss: 0.6757 - acc: 0.5048Epoch 00011: val_acc improved from 0.67575 to 0.68245, saving model to model_checkpoint_cifar110_vgg8_eu_0.5.h5\n",
      "781/781 [==============================] - 90s - loss: 0.6756 - acc: 0.5050 - val_loss: 0.6454 - val_acc: 0.6825\n"
     ]
    },
    {
     "data": {
      "application/vnd.jupyter.widget-view+json": {
       "model_id": "7ca52e1dc76b44c98d5699a46d466e3b"
      }
     },
     "metadata": {},
     "output_type": "display_data"
    },
    {
     "name": "stdout",
     "output_type": "stream",
     "text": [
      "Epoch 13/200\n",
      "780/781 [============================>.] - ETA: 0s - loss: 0.6606 - acc: 0.5102Epoch 00012: val_acc improved from 0.68245 to 0.69680, saving model to model_checkpoint_cifar110_vgg8_eu_0.5.h5\n",
      "781/781 [==============================] - 89s - loss: 0.6606 - acc: 0.5103 - val_loss: 0.6353 - val_acc: 0.6968\n"
     ]
    },
    {
     "data": {
      "application/vnd.jupyter.widget-view+json": {
       "model_id": "9253a9bb5bb14817b62638a4692ce9c7"
      }
     },
     "metadata": {},
     "output_type": "display_data"
    },
    {
     "name": "stdout",
     "output_type": "stream",
     "text": [
      "Epoch 14/200\n",
      "780/781 [============================>.] - ETA: 0s - loss: 0.6542 - acc: 0.5116Epoch 00013: val_acc did not improve\n",
      "781/781 [==============================] - 89s - loss: 0.6543 - acc: 0.5117 - val_loss: 0.6034 - val_acc: 0.6888\n"
     ]
    },
    {
     "data": {
      "application/vnd.jupyter.widget-view+json": {
       "model_id": "24f1a49aa7d6406a8df0536cf50bccb8"
      }
     },
     "metadata": {},
     "output_type": "display_data"
    },
    {
     "name": "stdout",
     "output_type": "stream",
     "text": [
      "Epoch 15/200\n",
      "780/781 [============================>.] - ETA: 0s - loss: 0.6398 - acc: 0.5170Epoch 00014: val_acc did not improve\n",
      "781/781 [==============================] - 89s - loss: 0.6399 - acc: 0.5169 - val_loss: 0.6329 - val_acc: 0.6579\n"
     ]
    },
    {
     "data": {
      "application/vnd.jupyter.widget-view+json": {
       "model_id": "a749dc382ec7483f9a74f8005fbae075"
      }
     },
     "metadata": {},
     "output_type": "display_data"
    },
    {
     "name": "stdout",
     "output_type": "stream",
     "text": [
      "Epoch 16/200\n",
      "780/781 [============================>.] - ETA: 0s - loss: 0.6425 - acc: 0.5197Epoch 00015: val_acc improved from 0.69680 to 0.70535, saving model to model_checkpoint_cifar110_vgg8_eu_0.5.h5\n",
      "781/781 [==============================] - 89s - loss: 0.6423 - acc: 0.5198 - val_loss: 0.6282 - val_acc: 0.7054\n"
     ]
    },
    {
     "data": {
      "application/vnd.jupyter.widget-view+json": {
       "model_id": "55661aae25844ed48c9b6a7d590b7f05"
      }
     },
     "metadata": {},
     "output_type": "display_data"
    },
    {
     "name": "stdout",
     "output_type": "stream",
     "text": [
      "Epoch 17/200\n",
      "780/781 [============================>.] - ETA: 0s - loss: 0.6344 - acc: 0.5240Epoch 00016: val_acc did not improve\n",
      "781/781 [==============================] - 89s - loss: 0.6343 - acc: 0.5241 - val_loss: 0.6236 - val_acc: 0.6659\n"
     ]
    },
    {
     "data": {
      "application/vnd.jupyter.widget-view+json": {
       "model_id": "4ff4fca5f3364807b0a29b474b4b0f92"
      }
     },
     "metadata": {},
     "output_type": "display_data"
    },
    {
     "name": "stdout",
     "output_type": "stream",
     "text": [
      "Epoch 18/200\n",
      "780/781 [============================>.] - ETA: 0s - loss: 0.6256 - acc: 0.5253Epoch 00017: val_acc improved from 0.70535 to 0.70855, saving model to model_checkpoint_cifar110_vgg8_eu_0.5.h5\n",
      "781/781 [==============================] - 90s - loss: 0.6260 - acc: 0.5252 - val_loss: 0.5726 - val_acc: 0.7086\n"
     ]
    },
    {
     "data": {
      "application/vnd.jupyter.widget-view+json": {
       "model_id": "b06f3ea46ff041c59653180fbb8ea6b5"
      }
     },
     "metadata": {},
     "output_type": "display_data"
    },
    {
     "name": "stdout",
     "output_type": "stream",
     "text": [
      "Epoch 19/200\n",
      "780/781 [============================>.] - ETA: 0s - loss: 0.6213 - acc: 0.5251Epoch 00018: val_acc did not improve\n",
      "781/781 [==============================] - 89s - loss: 0.6212 - acc: 0.5250 - val_loss: 0.6334 - val_acc: 0.6784\n"
     ]
    },
    {
     "data": {
      "application/vnd.jupyter.widget-view+json": {
       "model_id": "666806590b9441c59e04e117ad54af73"
      }
     },
     "metadata": {},
     "output_type": "display_data"
    },
    {
     "name": "stdout",
     "output_type": "stream",
     "text": [
      "Epoch 20/200\n",
      "780/781 [============================>.] - ETA: 0s - loss: 0.6105 - acc: 0.5296Epoch 00019: val_acc did not improve\n",
      "781/781 [==============================] - 90s - loss: 0.6104 - acc: 0.5296 - val_loss: 0.6170 - val_acc: 0.6979\n"
     ]
    },
    {
     "data": {
      "application/vnd.jupyter.widget-view+json": {
       "model_id": "4ee79616f732479e8c08c6dae628063b"
      }
     },
     "metadata": {},
     "output_type": "display_data"
    },
    {
     "name": "stdout",
     "output_type": "stream",
     "text": [
      "Epoch 21/200\n",
      "780/781 [============================>.] - ETA: 0s - loss: 0.6112 - acc: 0.5296Epoch 00020: val_acc improved from 0.70855 to 0.71865, saving model to model_checkpoint_cifar110_vgg8_eu_0.5.h5\n",
      "781/781 [==============================] - 90s - loss: 0.6112 - acc: 0.5297 - val_loss: 0.6079 - val_acc: 0.7187\n"
     ]
    },
    {
     "data": {
      "application/vnd.jupyter.widget-view+json": {
       "model_id": "cf0ba9b94f7b4b34a891e76cb3f73432"
      }
     },
     "metadata": {},
     "output_type": "display_data"
    },
    {
     "name": "stdout",
     "output_type": "stream",
     "text": [
      "Epoch 22/200\n",
      "780/781 [============================>.] - ETA: 0s - loss: 0.6004 - acc: 0.5308Epoch 00021: val_acc did not improve\n",
      "781/781 [==============================] - 90s - loss: 0.6004 - acc: 0.5307 - val_loss: 0.5986 - val_acc: 0.7174\n"
     ]
    },
    {
     "data": {
      "application/vnd.jupyter.widget-view+json": {
       "model_id": "ed112e7468734aa3b614e8fdddf4e053"
      }
     },
     "metadata": {},
     "output_type": "display_data"
    },
    {
     "name": "stdout",
     "output_type": "stream",
     "text": [
      "Epoch 23/200\n",
      "780/781 [============================>.] - ETA: 0s - loss: 0.5946 - acc: 0.5405Epoch 00022: val_acc did not improve\n",
      "781/781 [==============================] - 89s - loss: 0.5947 - acc: 0.5404 - val_loss: 0.6183 - val_acc: 0.7007\n"
     ]
    },
    {
     "data": {
      "application/vnd.jupyter.widget-view+json": {
       "model_id": "c366cf7102c84e798ca11be7c8d216b6"
      }
     },
     "metadata": {},
     "output_type": "display_data"
    },
    {
     "name": "stdout",
     "output_type": "stream",
     "text": [
      "Epoch 24/200\n",
      "780/781 [============================>.] - ETA: 0s - loss: 0.5997 - acc: 0.5389Epoch 00023: val_acc did not improve\n",
      "781/781 [==============================] - 89s - loss: 0.5996 - acc: 0.5389 - val_loss: 0.5931 - val_acc: 0.7151\n"
     ]
    },
    {
     "data": {
      "application/vnd.jupyter.widget-view+json": {
       "model_id": "663588ad918e4f06aca0b874d11ba2d4"
      }
     },
     "metadata": {},
     "output_type": "display_data"
    },
    {
     "name": "stdout",
     "output_type": "stream",
     "text": [
      "Epoch 25/200\n",
      "780/781 [============================>.] - ETA: 0s - loss: 0.5915 - acc: 0.5477Epoch 00024: val_acc did not improve\n",
      "781/781 [==============================] - 90s - loss: 0.5915 - acc: 0.5477 - val_loss: 0.6139 - val_acc: 0.7132\n"
     ]
    },
    {
     "data": {
      "application/vnd.jupyter.widget-view+json": {
       "model_id": "790ef7f570c14688977584ef50f6f50a"
      }
     },
     "metadata": {},
     "output_type": "display_data"
    },
    {
     "name": "stdout",
     "output_type": "stream",
     "text": [
      "Epoch 26/200\n",
      "780/781 [============================>.] - ETA: 0s - loss: 0.5857 - acc: 0.5443Epoch 00025: val_acc did not improve\n",
      "781/781 [==============================] - 90s - loss: 0.5859 - acc: 0.5443 - val_loss: 0.6156 - val_acc: 0.7117\n"
     ]
    },
    {
     "data": {
      "application/vnd.jupyter.widget-view+json": {
       "model_id": "799fccbab86446febb2ed15cee30ef82"
      }
     },
     "metadata": {},
     "output_type": "display_data"
    },
    {
     "name": "stdout",
     "output_type": "stream",
     "text": [
      "Epoch 27/200\n",
      "780/781 [============================>.] - ETA: 0s - loss: 0.5840 - acc: 0.5444Epoch 00026: val_acc improved from 0.71865 to 0.71975, saving model to model_checkpoint_cifar110_vgg8_eu_0.5.h5\n",
      "781/781 [==============================] - 90s - loss: 0.5839 - acc: 0.5445 - val_loss: 0.6013 - val_acc: 0.7198\n"
     ]
    },
    {
     "data": {
      "application/vnd.jupyter.widget-view+json": {
       "model_id": "279c9ef364644bc6bb3340c50f00d89e"
      }
     },
     "metadata": {},
     "output_type": "display_data"
    },
    {
     "name": "stdout",
     "output_type": "stream",
     "text": [
      "Epoch 28/200\n",
      "780/781 [============================>.] - ETA: 0s - loss: 0.5762 - acc: 0.5506Epoch 00027: val_acc did not improve\n",
      "781/781 [==============================] - 90s - loss: 0.5763 - acc: 0.5506 - val_loss: 0.5949 - val_acc: 0.7085\n"
     ]
    },
    {
     "data": {
      "application/vnd.jupyter.widget-view+json": {
       "model_id": "33c47bd660fe41d7b6da861626715379"
      }
     },
     "metadata": {},
     "output_type": "display_data"
    },
    {
     "name": "stdout",
     "output_type": "stream",
     "text": [
      "Epoch 29/200\n",
      "780/781 [============================>.] - ETA: 0s - loss: 0.5771 - acc: 0.5459Epoch 00028: val_acc improved from 0.71975 to 0.72830, saving model to model_checkpoint_cifar110_vgg8_eu_0.5.h5\n",
      "781/781 [==============================] - 89s - loss: 0.5770 - acc: 0.5459 - val_loss: 0.5945 - val_acc: 0.7283\n"
     ]
    },
    {
     "data": {
      "application/vnd.jupyter.widget-view+json": {
       "model_id": "5b30e06e809f445eb47bfccdb935afe8"
      }
     },
     "metadata": {},
     "output_type": "display_data"
    },
    {
     "name": "stdout",
     "output_type": "stream",
     "text": [
      "Epoch 30/200\n",
      "780/781 [============================>.] - ETA: 0s - loss: 0.5815 - acc: 0.5483Epoch 00029: val_acc did not improve\n",
      "781/781 [==============================] - 89s - loss: 0.5816 - acc: 0.5484 - val_loss: 0.5791 - val_acc: 0.7155\n"
     ]
    },
    {
     "data": {
      "application/vnd.jupyter.widget-view+json": {
       "model_id": "262d57ecb4cd4c21871a5b0bb72c5d87"
      }
     },
     "metadata": {},
     "output_type": "display_data"
    },
    {
     "name": "stdout",
     "output_type": "stream",
     "text": [
      "Epoch 31/200\n",
      "780/781 [============================>.] - ETA: 0s - loss: 0.5738 - acc: 0.5494Epoch 00030: val_acc improved from 0.72830 to 0.73040, saving model to model_checkpoint_cifar110_vgg8_eu_0.5.h5\n",
      "781/781 [==============================] - 89s - loss: 0.5741 - acc: 0.5495 - val_loss: 0.6133 - val_acc: 0.7304\n"
     ]
    },
    {
     "data": {
      "application/vnd.jupyter.widget-view+json": {
       "model_id": "d46df4711a2f45a4bc01b8e5405326fc"
      }
     },
     "metadata": {},
     "output_type": "display_data"
    },
    {
     "name": "stdout",
     "output_type": "stream",
     "text": [
      "Epoch 32/200\n",
      "780/781 [============================>.] - ETA: 0s - loss: 0.5727 - acc: 0.5515Epoch 00031: val_acc did not improve\n",
      "781/781 [==============================] - 89s - loss: 0.5728 - acc: 0.5514 - val_loss: 0.5849 - val_acc: 0.6949\n"
     ]
    },
    {
     "data": {
      "application/vnd.jupyter.widget-view+json": {
       "model_id": "be12b5b9b5b64894a299cedbbb2fa723"
      }
     },
     "metadata": {},
     "output_type": "display_data"
    },
    {
     "name": "stdout",
     "output_type": "stream",
     "text": [
      "Epoch 33/200\n",
      "780/781 [============================>.] - ETA: 0s - loss: 0.5658 - acc: 0.5544Epoch 00032: val_acc improved from 0.73040 to 0.73045, saving model to model_checkpoint_cifar110_vgg8_eu_0.5.h5\n",
      "781/781 [==============================] - 89s - loss: 0.5665 - acc: 0.5544 - val_loss: 0.6009 - val_acc: 0.7305\n"
     ]
    },
    {
     "data": {
      "application/vnd.jupyter.widget-view+json": {
       "model_id": "faf8288216e940a59fba8468ab6d9e93"
      }
     },
     "metadata": {},
     "output_type": "display_data"
    },
    {
     "name": "stdout",
     "output_type": "stream",
     "text": [
      "Epoch 34/200\n",
      "780/781 [============================>.] - ETA: 0s - loss: 0.5666 - acc: 0.5538Epoch 00033: val_acc did not improve\n",
      "781/781 [==============================] - 89s - loss: 0.5669 - acc: 0.5537 - val_loss: 0.5884 - val_acc: 0.7102\n"
     ]
    },
    {
     "data": {
      "application/vnd.jupyter.widget-view+json": {
       "model_id": "1466c9c9ec2445c49213a5a7d9b9827a"
      }
     },
     "metadata": {},
     "output_type": "display_data"
    },
    {
     "name": "stdout",
     "output_type": "stream",
     "text": [
      "Epoch 35/200\n",
      "780/781 [============================>.] - ETA: 0s - loss: 0.5691 - acc: 0.5531Epoch 00034: val_acc improved from 0.73045 to 0.73425, saving model to model_checkpoint_cifar110_vgg8_eu_0.5.h5\n",
      "781/781 [==============================] - 89s - loss: 0.5690 - acc: 0.5531 - val_loss: 0.5862 - val_acc: 0.7342\n"
     ]
    },
    {
     "data": {
      "application/vnd.jupyter.widget-view+json": {
       "model_id": "fe2fc592ff31461c8a3d563da3c68da0"
      }
     },
     "metadata": {},
     "output_type": "display_data"
    },
    {
     "name": "stdout",
     "output_type": "stream",
     "text": [
      "Epoch 36/200\n",
      "780/781 [============================>.] - ETA: 0s - loss: 0.5607 - acc: 0.5597Epoch 00035: val_acc did not improve\n",
      "781/781 [==============================] - 89s - loss: 0.5605 - acc: 0.5598 - val_loss: 0.6622 - val_acc: 0.7244\n"
     ]
    },
    {
     "data": {
      "application/vnd.jupyter.widget-view+json": {
       "model_id": "b3e821f9b2b44211aa8d3f636b081941"
      }
     },
     "metadata": {},
     "output_type": "display_data"
    },
    {
     "name": "stdout",
     "output_type": "stream",
     "text": [
      "Epoch 37/200\n",
      "780/781 [============================>.] - ETA: 0s - loss: 0.5626 - acc: 0.5596Epoch 00036: val_acc did not improve\n",
      "781/781 [==============================] - 89s - loss: 0.5629 - acc: 0.5595 - val_loss: 0.6153 - val_acc: 0.7162\n"
     ]
    },
    {
     "data": {
      "application/vnd.jupyter.widget-view+json": {
       "model_id": "ab21a567bd064d22964526e93468e14b"
      }
     },
     "metadata": {},
     "output_type": "display_data"
    },
    {
     "name": "stdout",
     "output_type": "stream",
     "text": [
      "Epoch 38/200\n",
      "780/781 [============================>.] - ETA: 0s - loss: 0.5646 - acc: 0.5591Epoch 00037: val_acc did not improve\n",
      "781/781 [==============================] - 89s - loss: 0.5646 - acc: 0.5590 - val_loss: 0.6102 - val_acc: 0.7077\n"
     ]
    },
    {
     "data": {
      "application/vnd.jupyter.widget-view+json": {
       "model_id": "ed39af70a02a4c939cf37b584e66b138"
      }
     },
     "metadata": {},
     "output_type": "display_data"
    },
    {
     "name": "stdout",
     "output_type": "stream",
     "text": [
      "Epoch 39/200\n",
      "780/781 [============================>.] - ETA: 0s - loss: 0.5538 - acc: 0.5630Epoch 00038: val_acc did not improve\n",
      "781/781 [==============================] - 89s - loss: 0.5538 - acc: 0.5631 - val_loss: 0.6313 - val_acc: 0.7284\n"
     ]
    },
    {
     "data": {
      "application/vnd.jupyter.widget-view+json": {
       "model_id": "1b535b5d3651475381848242320176ad"
      }
     },
     "metadata": {},
     "output_type": "display_data"
    },
    {
     "name": "stdout",
     "output_type": "stream",
     "text": [
      "Epoch 40/200\n",
      "780/781 [============================>.] - ETA: 0s - loss: 0.5558 - acc: 0.5588Epoch 00039: val_acc did not improve\n",
      "781/781 [==============================] - 89s - loss: 0.5557 - acc: 0.5588 - val_loss: 0.6067 - val_acc: 0.7040\n"
     ]
    },
    {
     "data": {
      "application/vnd.jupyter.widget-view+json": {
       "model_id": "29d9347c6539415d90666ee4e2a5bb94"
      }
     },
     "metadata": {},
     "output_type": "display_data"
    },
    {
     "name": "stdout",
     "output_type": "stream",
     "text": [
      "Epoch 41/200\n",
      "780/781 [============================>.] - ETA: 0s - loss: 0.5497 - acc: 0.5600Epoch 00040: val_acc did not improve\n",
      "781/781 [==============================] - 89s - loss: 0.5496 - acc: 0.5600 - val_loss: 0.6151 - val_acc: 0.7035\n"
     ]
    },
    {
     "data": {
      "application/vnd.jupyter.widget-view+json": {
       "model_id": "e0e9f440c5a147428856030808f263c0"
      }
     },
     "metadata": {},
     "output_type": "display_data"
    },
    {
     "name": "stdout",
     "output_type": "stream",
     "text": [
      "Epoch 42/200\n",
      "780/781 [============================>.] - ETA: 0s - loss: 0.5399 - acc: 0.5679Epoch 00041: val_acc did not improve\n",
      "781/781 [==============================] - 89s - loss: 0.5401 - acc: 0.5679 - val_loss: 0.6132 - val_acc: 0.7147\n"
     ]
    },
    {
     "data": {
      "application/vnd.jupyter.widget-view+json": {
       "model_id": "32b5c5b240744851a608a54ae7e7dbea"
      }
     },
     "metadata": {},
     "output_type": "display_data"
    },
    {
     "name": "stdout",
     "output_type": "stream",
     "text": [
      "Epoch 43/200\n",
      "780/781 [============================>.] - ETA: 0s - loss: 0.5497 - acc: 0.5667Epoch 00042: val_acc did not improve\n",
      "781/781 [==============================] - 89s - loss: 0.5498 - acc: 0.5668 - val_loss: 0.6092 - val_acc: 0.7257\n"
     ]
    },
    {
     "data": {
      "application/vnd.jupyter.widget-view+json": {
       "model_id": "7a201e98ed9946cfa6caf6b6535b090c"
      }
     },
     "metadata": {},
     "output_type": "display_data"
    },
    {
     "name": "stdout",
     "output_type": "stream",
     "text": [
      "Epoch 44/200\n",
      "780/781 [============================>.] - ETA: 0s - loss: 0.5528 - acc: 0.5651Epoch 00043: val_acc did not improve\n",
      "781/781 [==============================] - 89s - loss: 0.5527 - acc: 0.5651 - val_loss: 0.6006 - val_acc: 0.7275\n"
     ]
    },
    {
     "data": {
      "application/vnd.jupyter.widget-view+json": {
       "model_id": "db338ea7962442ea93746d2f140304e8"
      }
     },
     "metadata": {},
     "output_type": "display_data"
    },
    {
     "name": "stdout",
     "output_type": "stream",
     "text": [
      "Epoch 45/200\n",
      "780/781 [============================>.] - ETA: 0s - loss: 0.5504 - acc: 0.5657Epoch 00044: val_acc did not improve\n",
      "781/781 [==============================] - 90s - loss: 0.5505 - acc: 0.5656 - val_loss: 0.6068 - val_acc: 0.7119\n"
     ]
    },
    {
     "data": {
      "application/vnd.jupyter.widget-view+json": {
       "model_id": "7f7f4c51dc874a88899a9342b628edb3"
      }
     },
     "metadata": {},
     "output_type": "display_data"
    },
    {
     "name": "stdout",
     "output_type": "stream",
     "text": [
      "Epoch 46/200\n",
      "780/781 [============================>.] - ETA: 0s - loss: 0.5438 - acc: 0.5657Epoch 00045: val_acc did not improve\n",
      "781/781 [==============================] - 90s - loss: 0.5439 - acc: 0.5656 - val_loss: 0.5826 - val_acc: 0.7185\n"
     ]
    },
    {
     "data": {
      "application/vnd.jupyter.widget-view+json": {
       "model_id": "79ba0065d0b449a28289b87fde213446"
      }
     },
     "metadata": {},
     "output_type": "display_data"
    },
    {
     "name": "stdout",
     "output_type": "stream",
     "text": [
      "Epoch 47/200\n",
      "780/781 [============================>.] - ETA: 0s - loss: 0.5441 - acc: 0.5655Epoch 00046: val_acc improved from 0.73425 to 0.73785, saving model to model_checkpoint_cifar110_vgg8_eu_0.5.h5\n",
      "781/781 [==============================] - 89s - loss: 0.5440 - acc: 0.5655 - val_loss: 0.6078 - val_acc: 0.7379\n"
     ]
    },
    {
     "data": {
      "application/vnd.jupyter.widget-view+json": {
       "model_id": "88403e1b9afc4dfda67833d79cc7e734"
      }
     },
     "metadata": {},
     "output_type": "display_data"
    },
    {
     "name": "stdout",
     "output_type": "stream",
     "text": [
      "Epoch 48/200\n",
      "780/781 [============================>.] - ETA: 0s - loss: 0.5378 - acc: 0.5662Epoch 00047: val_acc did not improve\n",
      "781/781 [==============================] - 89s - loss: 0.5379 - acc: 0.5662 - val_loss: 0.6171 - val_acc: 0.7228\n"
     ]
    },
    {
     "data": {
      "application/vnd.jupyter.widget-view+json": {
       "model_id": "8990ae6c6f90426599d0ed96bb5d4777"
      }
     },
     "metadata": {},
     "output_type": "display_data"
    },
    {
     "name": "stdout",
     "output_type": "stream",
     "text": [
      "Epoch 49/200\n",
      "780/781 [============================>.] - ETA: 0s - loss: 0.5378 - acc: 0.5713Epoch 00048: val_acc did not improve\n",
      "781/781 [==============================] - 89s - loss: 0.5379 - acc: 0.5712 - val_loss: 0.6215 - val_acc: 0.7245\n"
     ]
    },
    {
     "data": {
      "application/vnd.jupyter.widget-view+json": {
       "model_id": "e8f48bd12fd44135a0e40dc9ffaef231"
      }
     },
     "metadata": {},
     "output_type": "display_data"
    },
    {
     "name": "stdout",
     "output_type": "stream",
     "text": [
      "Epoch 50/200\n",
      "780/781 [============================>.] - ETA: 0s - loss: 0.5283 - acc: 0.5734Epoch 00049: val_acc did not improve\n",
      "781/781 [==============================] - 89s - loss: 0.5283 - acc: 0.5735 - val_loss: 0.5844 - val_acc: 0.7258\n"
     ]
    },
    {
     "data": {
      "application/vnd.jupyter.widget-view+json": {
       "model_id": "be8babf26f3e42c7896d66512b64e418"
      }
     },
     "metadata": {},
     "output_type": "display_data"
    },
    {
     "name": "stdout",
     "output_type": "stream",
     "text": [
      "Epoch 51/200\n",
      "780/781 [============================>.] - ETA: 0s - loss: 0.5362 - acc: 0.5734Epoch 00050: val_acc did not improve\n",
      "781/781 [==============================] - 90s - loss: 0.5363 - acc: 0.5735 - val_loss: 0.6916 - val_acc: 0.7088\n"
     ]
    },
    {
     "data": {
      "application/vnd.jupyter.widget-view+json": {
       "model_id": "3e1a2d53c4a8493d9ac040994e02a02e"
      }
     },
     "metadata": {},
     "output_type": "display_data"
    },
    {
     "name": "stdout",
     "output_type": "stream",
     "text": [
      "Epoch 52/200\n",
      "780/781 [============================>.] - ETA: 0s - loss: 0.5473 - acc: 0.5686Epoch 00051: val_acc did not improve\n",
      "781/781 [==============================] - 89s - loss: 0.5475 - acc: 0.5686 - val_loss: 0.6240 - val_acc: 0.7291\n"
     ]
    },
    {
     "data": {
      "application/vnd.jupyter.widget-view+json": {
       "model_id": "2c63dadf23724e94939119d1d926c5fc"
      }
     },
     "metadata": {},
     "output_type": "display_data"
    },
    {
     "name": "stdout",
     "output_type": "stream",
     "text": [
      "Epoch 53/200\n",
      "780/781 [============================>.] - ETA: 0s - loss: 0.5304 - acc: 0.5747Epoch 00052: val_acc did not improve\n",
      "781/781 [==============================] - 89s - loss: 0.5304 - acc: 0.5747 - val_loss: 0.6352 - val_acc: 0.7242\n"
     ]
    },
    {
     "data": {
      "application/vnd.jupyter.widget-view+json": {
       "model_id": "01262949aef247d1ad77913278ec640c"
      }
     },
     "metadata": {},
     "output_type": "display_data"
    },
    {
     "name": "stdout",
     "output_type": "stream",
     "text": [
      "Epoch 54/200\n",
      "780/781 [============================>.] - ETA: 0s - loss: 0.5380 - acc: 0.5685Epoch 00053: val_acc improved from 0.73785 to 0.73790, saving model to model_checkpoint_cifar110_vgg8_eu_0.5.h5\n",
      "781/781 [==============================] - 89s - loss: 0.5382 - acc: 0.5686 - val_loss: 0.5910 - val_acc: 0.7379\n"
     ]
    },
    {
     "data": {
      "application/vnd.jupyter.widget-view+json": {
       "model_id": "422de2b02d8046eda5006bb0ca78ae48"
      }
     },
     "metadata": {},
     "output_type": "display_data"
    },
    {
     "name": "stdout",
     "output_type": "stream",
     "text": [
      "Epoch 55/200\n",
      "780/781 [============================>.] - ETA: 0s - loss: 0.5377 - acc: 0.5678Epoch 00054: val_acc did not improve\n",
      "781/781 [==============================] - 89s - loss: 0.5379 - acc: 0.5679 - val_loss: 0.6017 - val_acc: 0.7326\n"
     ]
    },
    {
     "data": {
      "application/vnd.jupyter.widget-view+json": {
       "model_id": "cc2384b402c5469a972f0636d9665c77"
      }
     },
     "metadata": {},
     "output_type": "display_data"
    },
    {
     "name": "stdout",
     "output_type": "stream",
     "text": [
      "Epoch 56/200\n",
      "780/781 [============================>.] - ETA: 0s - loss: 0.5332 - acc: 0.5720Epoch 00055: val_acc did not improve\n",
      "781/781 [==============================] - 88s - loss: 0.5331 - acc: 0.5720 - val_loss: 0.6091 - val_acc: 0.7153\n"
     ]
    },
    {
     "data": {
      "application/vnd.jupyter.widget-view+json": {
       "model_id": "830197a698eb4a9b9d7b4a5146682597"
      }
     },
     "metadata": {},
     "output_type": "display_data"
    },
    {
     "name": "stdout",
     "output_type": "stream",
     "text": [
      "Epoch 57/200\n",
      "780/781 [============================>.] - ETA: 0s - loss: 0.5371 - acc: 0.5710Epoch 00056: val_acc did not improve\n",
      "781/781 [==============================] - 89s - loss: 0.5370 - acc: 0.5709 - val_loss: 0.6446 - val_acc: 0.7177\n"
     ]
    },
    {
     "data": {
      "application/vnd.jupyter.widget-view+json": {
       "model_id": "7f93b2207daa496d9dd2e48c675699bd"
      }
     },
     "metadata": {},
     "output_type": "display_data"
    },
    {
     "name": "stdout",
     "output_type": "stream",
     "text": [
      "Epoch 58/200\n",
      "780/781 [============================>.] - ETA: 0s - loss: 0.5307 - acc: 0.5741Epoch 00057: val_acc did not improve\n",
      "781/781 [==============================] - 89s - loss: 0.5311 - acc: 0.5741 - val_loss: 0.6218 - val_acc: 0.7265\n"
     ]
    },
    {
     "data": {
      "application/vnd.jupyter.widget-view+json": {
       "model_id": "2d1e633f52ea4aa0813c4df782d2d408"
      }
     },
     "metadata": {},
     "output_type": "display_data"
    },
    {
     "name": "stdout",
     "output_type": "stream",
     "text": [
      "Epoch 59/200\n",
      "780/781 [============================>.] - ETA: 0s - loss: 0.5288 - acc: 0.5756Epoch 00058: val_acc did not improve\n",
      "781/781 [==============================] - 89s - loss: 0.5289 - acc: 0.5755 - val_loss: 0.6296 - val_acc: 0.7319\n"
     ]
    },
    {
     "data": {
      "application/vnd.jupyter.widget-view+json": {
       "model_id": "f18abfb82af84c92afe5360f55b5b4c4"
      }
     },
     "metadata": {},
     "output_type": "display_data"
    },
    {
     "name": "stdout",
     "output_type": "stream",
     "text": [
      "Epoch 60/200\n",
      "780/781 [============================>.] - ETA: 0s - loss: 0.5285 - acc: 0.5736Epoch 00059: val_acc did not improve\n",
      "781/781 [==============================] - 89s - loss: 0.5283 - acc: 0.5737 - val_loss: 0.6361 - val_acc: 0.7367\n"
     ]
    },
    {
     "data": {
      "application/vnd.jupyter.widget-view+json": {
       "model_id": "7a18ea1ec9114f7ba2d36131aa655f7a"
      }
     },
     "metadata": {},
     "output_type": "display_data"
    },
    {
     "name": "stdout",
     "output_type": "stream",
     "text": [
      "Epoch 61/200\n",
      "780/781 [============================>.] - ETA: 0s - loss: 0.5197 - acc: 0.5771Epoch 00060: val_acc did not improve\n",
      "781/781 [==============================] - 89s - loss: 0.5196 - acc: 0.5771 - val_loss: 0.6361 - val_acc: 0.7299\n"
     ]
    },
    {
     "data": {
      "application/vnd.jupyter.widget-view+json": {
       "model_id": "2de03d18345343978c387b8f68ba8fb1"
      }
     },
     "metadata": {},
     "output_type": "display_data"
    },
    {
     "name": "stdout",
     "output_type": "stream",
     "text": [
      "Epoch 62/200\n",
      "780/781 [============================>.] - ETA: 0s - loss: 0.5293 - acc: 0.5708Epoch 00061: val_acc did not improve\n",
      "781/781 [==============================] - 90s - loss: 0.5294 - acc: 0.5708 - val_loss: 0.6222 - val_acc: 0.7212\n"
     ]
    },
    {
     "data": {
      "application/vnd.jupyter.widget-view+json": {
       "model_id": "d726e9bcb6074659926dd7768ce4ef2f"
      }
     },
     "metadata": {},
     "output_type": "display_data"
    },
    {
     "name": "stdout",
     "output_type": "stream",
     "text": [
      "Epoch 63/200\n",
      "780/781 [============================>.] - ETA: 0s - loss: 0.5304 - acc: 0.5792Epoch 00062: val_acc did not improve\n",
      "781/781 [==============================] - 90s - loss: 0.5303 - acc: 0.5792 - val_loss: 0.6205 - val_acc: 0.7318\n"
     ]
    },
    {
     "data": {
      "application/vnd.jupyter.widget-view+json": {
       "model_id": "d52626341d85486a968e9481cf22d1d8"
      }
     },
     "metadata": {},
     "output_type": "display_data"
    },
    {
     "name": "stdout",
     "output_type": "stream",
     "text": [
      "Epoch 64/200\n",
      "780/781 [============================>.] - ETA: 0s - loss: 0.5264 - acc: 0.5780Epoch 00063: val_acc did not improve\n",
      "781/781 [==============================] - 89s - loss: 0.5264 - acc: 0.5780 - val_loss: 0.6675 - val_acc: 0.7244\n"
     ]
    },
    {
     "data": {
      "application/vnd.jupyter.widget-view+json": {
       "model_id": "01afcf85860047a9867f5cca7bc633c6"
      }
     },
     "metadata": {},
     "output_type": "display_data"
    },
    {
     "name": "stdout",
     "output_type": "stream",
     "text": [
      "Epoch 65/200\n",
      "780/781 [============================>.] - ETA: 0s - loss: 0.5296 - acc: 0.5792Epoch 00064: val_acc did not improve\n",
      "781/781 [==============================] - 89s - loss: 0.5295 - acc: 0.5792 - val_loss: 0.6204 - val_acc: 0.7166\n"
     ]
    },
    {
     "data": {
      "application/vnd.jupyter.widget-view+json": {
       "model_id": "6f636dd9f8e64f43a233711a8bf92190"
      }
     },
     "metadata": {},
     "output_type": "display_data"
    },
    {
     "name": "stdout",
     "output_type": "stream",
     "text": [
      "Epoch 66/200\n",
      "780/781 [============================>.] - ETA: 0s - loss: 0.5170 - acc: 0.5795Epoch 00065: val_acc improved from 0.73790 to 0.73925, saving model to model_checkpoint_cifar110_vgg8_eu_0.5.h5\n",
      "781/781 [==============================] - 89s - loss: 0.5175 - acc: 0.5796 - val_loss: 0.6396 - val_acc: 0.7392\n"
     ]
    },
    {
     "data": {
      "application/vnd.jupyter.widget-view+json": {
       "model_id": "1b9eea48426840d1ac55189a0e1d7387"
      }
     },
     "metadata": {},
     "output_type": "display_data"
    },
    {
     "name": "stdout",
     "output_type": "stream",
     "text": [
      "Epoch 67/200\n",
      "780/781 [============================>.] - ETA: 0s - loss: 0.5183 - acc: 0.5813Epoch 00066: val_acc did not improve\n",
      "781/781 [==============================] - 89s - loss: 0.5182 - acc: 0.5812 - val_loss: 0.6284 - val_acc: 0.7097\n"
     ]
    },
    {
     "data": {
      "application/vnd.jupyter.widget-view+json": {
       "model_id": "c8ed20806a40448b9231b18302948c5c"
      }
     },
     "metadata": {},
     "output_type": "display_data"
    },
    {
     "name": "stdout",
     "output_type": "stream",
     "text": [
      "Epoch 68/200\n",
      "780/781 [============================>.] - ETA: 0s - loss: 0.5284 - acc: 0.5741Epoch 00067: val_acc did not improve\n",
      "781/781 [==============================] - 90s - loss: 0.5286 - acc: 0.5741 - val_loss: 0.6428 - val_acc: 0.7211\n"
     ]
    },
    {
     "data": {
      "application/vnd.jupyter.widget-view+json": {
       "model_id": "db0b8c61e2e84308a7b1b707b61b0e12"
      }
     },
     "metadata": {},
     "output_type": "display_data"
    },
    {
     "name": "stdout",
     "output_type": "stream",
     "text": [
      "Epoch 69/200\n",
      "780/781 [============================>.] - ETA: 0s - loss: 0.5156 - acc: 0.5817Epoch 00068: val_acc improved from 0.73925 to 0.74995, saving model to model_checkpoint_cifar110_vgg8_eu_0.5.h5\n",
      "781/781 [==============================] - 90s - loss: 0.5155 - acc: 0.5818 - val_loss: 0.6471 - val_acc: 0.7500\n"
     ]
    },
    {
     "data": {
      "application/vnd.jupyter.widget-view+json": {
       "model_id": "72b1b7541c0e4b7cbb9572a278295442"
      }
     },
     "metadata": {},
     "output_type": "display_data"
    },
    {
     "name": "stdout",
     "output_type": "stream",
     "text": [
      "Epoch 70/200\n",
      "780/781 [============================>.] - ETA: 0s - loss: 0.5355 - acc: 0.5767Epoch 00069: val_acc did not improve\n",
      "781/781 [==============================] - 90s - loss: 0.5355 - acc: 0.5768 - val_loss: 0.6438 - val_acc: 0.7291\n"
     ]
    },
    {
     "data": {
      "application/vnd.jupyter.widget-view+json": {
       "model_id": "9bbc49d22ba4448cb6652325aca6d619"
      }
     },
     "metadata": {},
     "output_type": "display_data"
    },
    {
     "name": "stdout",
     "output_type": "stream",
     "text": [
      "Epoch 71/200\n",
      "780/781 [============================>.] - ETA: 0s - loss: 0.5168 - acc: 0.5800Epoch 00070: val_acc did not improve\n",
      "781/781 [==============================] - 90s - loss: 0.5168 - acc: 0.5800 - val_loss: 0.6618 - val_acc: 0.7276\n"
     ]
    },
    {
     "data": {
      "application/vnd.jupyter.widget-view+json": {
       "model_id": "9d6f2860284345f2af829fb7d62156ce"
      }
     },
     "metadata": {},
     "output_type": "display_data"
    },
    {
     "name": "stdout",
     "output_type": "stream",
     "text": [
      "Epoch 72/200\n",
      "780/781 [============================>.] - ETA: 0s - loss: 0.5178 - acc: 0.5812Epoch 00071: val_acc did not improve\n",
      "781/781 [==============================] - 90s - loss: 0.5177 - acc: 0.5813 - val_loss: 0.6181 - val_acc: 0.7214\n"
     ]
    },
    {
     "data": {
      "application/vnd.jupyter.widget-view+json": {
       "model_id": "cb7b1d9356f046d29d9e4dad0f392606"
      }
     },
     "metadata": {},
     "output_type": "display_data"
    },
    {
     "name": "stdout",
     "output_type": "stream",
     "text": [
      "Epoch 73/200\n",
      "780/781 [============================>.] - ETA: 0s - loss: 0.5205 - acc: 0.5764Epoch 00072: val_acc did not improve\n",
      "781/781 [==============================] - 90s - loss: 0.5205 - acc: 0.5764 - val_loss: 0.6208 - val_acc: 0.7317\n"
     ]
    },
    {
     "data": {
      "application/vnd.jupyter.widget-view+json": {
       "model_id": "8a1f52b97f5a46c1b050dd2b70c059cf"
      }
     },
     "metadata": {},
     "output_type": "display_data"
    },
    {
     "name": "stdout",
     "output_type": "stream",
     "text": [
      "Epoch 74/200\n",
      "780/781 [============================>.] - ETA: 0s - loss: 0.5255 - acc: 0.5803Epoch 00073: val_acc did not improve\n",
      "781/781 [==============================] - 90s - loss: 0.5252 - acc: 0.5803 - val_loss: 0.6452 - val_acc: 0.7224\n"
     ]
    },
    {
     "data": {
      "application/vnd.jupyter.widget-view+json": {
       "model_id": "56e5d16ca52345e3914383dab3e3e942"
      }
     },
     "metadata": {},
     "output_type": "display_data"
    },
    {
     "name": "stdout",
     "output_type": "stream",
     "text": [
      "Epoch 75/200\n",
      "780/781 [============================>.] - ETA: 0s - loss: 0.5297 - acc: 0.5808Epoch 00074: val_acc did not improve\n",
      "781/781 [==============================] - 90s - loss: 0.5295 - acc: 0.5807 - val_loss: 0.6109 - val_acc: 0.7411\n"
     ]
    },
    {
     "data": {
      "application/vnd.jupyter.widget-view+json": {
       "model_id": "83bfa52c8ee847a7bf67d8c0a7646f46"
      }
     },
     "metadata": {},
     "output_type": "display_data"
    },
    {
     "name": "stdout",
     "output_type": "stream",
     "text": [
      "Epoch 76/200\n",
      "780/781 [============================>.] - ETA: 0s - loss: 0.5242 - acc: 0.5776Epoch 00075: val_acc did not improve\n",
      "781/781 [==============================] - 91s - loss: 0.5242 - acc: 0.5776 - val_loss: 0.5971 - val_acc: 0.7383\n"
     ]
    },
    {
     "data": {
      "application/vnd.jupyter.widget-view+json": {
       "model_id": "293bd8c7186f46cfb3d6f65712a6b9b6"
      }
     },
     "metadata": {},
     "output_type": "display_data"
    },
    {
     "name": "stdout",
     "output_type": "stream",
     "text": [
      "Epoch 77/200\n",
      "780/781 [============================>.] - ETA: 0s - loss: 0.5258 - acc: 0.5791Epoch 00076: val_acc did not improve\n",
      "781/781 [==============================] - 90s - loss: 0.5259 - acc: 0.5791 - val_loss: 0.6202 - val_acc: 0.7278\n"
     ]
    },
    {
     "data": {
      "application/vnd.jupyter.widget-view+json": {
       "model_id": "5fa5354ab04240fb887f1d0ed89ea0fc"
      }
     },
     "metadata": {},
     "output_type": "display_data"
    },
    {
     "name": "stdout",
     "output_type": "stream",
     "text": [
      "Epoch 78/200\n",
      "780/781 [============================>.] - ETA: 0s - loss: 0.5266 - acc: 0.5786Epoch 00077: val_acc did not improve\n",
      "781/781 [==============================] - 90s - loss: 0.5265 - acc: 0.5786 - val_loss: 0.6561 - val_acc: 0.7270\n"
     ]
    },
    {
     "data": {
      "application/vnd.jupyter.widget-view+json": {
       "model_id": "6c32b60ab576432d8b4f78f20b9d45a2"
      }
     },
     "metadata": {},
     "output_type": "display_data"
    },
    {
     "name": "stdout",
     "output_type": "stream",
     "text": [
      "Epoch 79/200\n",
      "780/781 [============================>.] - ETA: 0s - loss: 0.5268 - acc: 0.5814Epoch 00078: val_acc did not improve\n",
      "781/781 [==============================] - 90s - loss: 0.5267 - acc: 0.5814 - val_loss: 0.6268 - val_acc: 0.7239\n"
     ]
    },
    {
     "data": {
      "application/vnd.jupyter.widget-view+json": {
       "model_id": "199bde4bc79a4c9986d07eb733c457ac"
      }
     },
     "metadata": {},
     "output_type": "display_data"
    },
    {
     "name": "stdout",
     "output_type": "stream",
     "text": [
      "Epoch 80/200\n",
      "780/781 [============================>.] - ETA: 0s - loss: 0.5251 - acc: 0.5819Epoch 00079: val_acc did not improve\n",
      "781/781 [==============================] - 90s - loss: 0.5249 - acc: 0.5819 - val_loss: 0.6217 - val_acc: 0.7485\n"
     ]
    },
    {
     "data": {
      "application/vnd.jupyter.widget-view+json": {
       "model_id": "c658dfc31d124b8d812cc33ccab7ece7"
      }
     },
     "metadata": {},
     "output_type": "display_data"
    },
    {
     "name": "stdout",
     "output_type": "stream",
     "text": [
      "Epoch 81/200\n",
      "780/781 [============================>.] - ETA: 0s - loss: 0.5262 - acc: 0.5804Epoch 00080: val_acc improved from 0.74995 to 0.75950, saving model to model_checkpoint_cifar110_vgg8_eu_0.5.h5\n",
      "781/781 [==============================] - 90s - loss: 0.5260 - acc: 0.5805 - val_loss: 0.6528 - val_acc: 0.7595\n"
     ]
    },
    {
     "data": {
      "application/vnd.jupyter.widget-view+json": {
       "model_id": "d70f6da1978e4a3b826a2024eef2bde7"
      }
     },
     "metadata": {},
     "output_type": "display_data"
    },
    {
     "name": "stdout",
     "output_type": "stream",
     "text": [
      "Epoch 82/200\n",
      "780/781 [============================>.] - ETA: 0s - loss: 0.5186 - acc: 0.5868Epoch 00081: val_acc did not improve\n",
      "781/781 [==============================] - 90s - loss: 0.5188 - acc: 0.5867 - val_loss: 0.6998 - val_acc: 0.7115\n"
     ]
    },
    {
     "data": {
      "application/vnd.jupyter.widget-view+json": {
       "model_id": "5b060b7c350c4fda9ff078d544d53563"
      }
     },
     "metadata": {},
     "output_type": "display_data"
    },
    {
     "name": "stdout",
     "output_type": "stream",
     "text": [
      "Epoch 83/200\n",
      "780/781 [============================>.] - ETA: 0s - loss: 0.5248 - acc: 0.5815Epoch 00082: val_acc did not improve\n",
      "781/781 [==============================] - 90s - loss: 0.5247 - acc: 0.5815 - val_loss: 0.6452 - val_acc: 0.7402\n"
     ]
    },
    {
     "data": {
      "application/vnd.jupyter.widget-view+json": {
       "model_id": "71c8844971a44c5f8810c0dede7b6464"
      }
     },
     "metadata": {},
     "output_type": "display_data"
    },
    {
     "name": "stdout",
     "output_type": "stream",
     "text": [
      "Epoch 84/200\n",
      "780/781 [============================>.] - ETA: 0s - loss: 0.5327 - acc: 0.5759Epoch 00083: val_acc did not improve\n",
      "781/781 [==============================] - 90s - loss: 0.5327 - acc: 0.5759 - val_loss: 0.6565 - val_acc: 0.7401\n"
     ]
    },
    {
     "data": {
      "application/vnd.jupyter.widget-view+json": {
       "model_id": "a141322eb22e452aa566851259e0b346"
      }
     },
     "metadata": {},
     "output_type": "display_data"
    },
    {
     "name": "stdout",
     "output_type": "stream",
     "text": [
      "Epoch 85/200\n",
      "780/781 [============================>.] - ETA: 0s - loss: 0.5188 - acc: 0.5858Epoch 00084: val_acc did not improve\n",
      "781/781 [==============================] - 90s - loss: 0.5188 - acc: 0.5858 - val_loss: 0.6805 - val_acc: 0.7148\n"
     ]
    },
    {
     "data": {
      "application/vnd.jupyter.widget-view+json": {
       "model_id": "b78687762b5340f18739efb629691912"
      }
     },
     "metadata": {},
     "output_type": "display_data"
    },
    {
     "name": "stdout",
     "output_type": "stream",
     "text": [
      "Epoch 86/200\n",
      "780/781 [============================>.] - ETA: 0s - loss: 0.5291 - acc: 0.5801Epoch 00085: val_acc did not improve\n",
      "781/781 [==============================] - 90s - loss: 0.5290 - acc: 0.5801 - val_loss: 0.6244 - val_acc: 0.7355\n"
     ]
    },
    {
     "data": {
      "application/vnd.jupyter.widget-view+json": {
       "model_id": "e52a828440bd41bcac18ee23ec320569"
      }
     },
     "metadata": {},
     "output_type": "display_data"
    },
    {
     "name": "stdout",
     "output_type": "stream",
     "text": [
      "Epoch 87/200\n",
      "780/781 [============================>.] - ETA: 0s - loss: 0.5151 - acc: 0.5831Epoch 00086: val_acc did not improve\n",
      "781/781 [==============================] - 90s - loss: 0.5151 - acc: 0.5831 - val_loss: 0.6318 - val_acc: 0.7271\n"
     ]
    },
    {
     "data": {
      "application/vnd.jupyter.widget-view+json": {
       "model_id": "9214030467684e4ab47511d22588468d"
      }
     },
     "metadata": {},
     "output_type": "display_data"
    },
    {
     "name": "stdout",
     "output_type": "stream",
     "text": [
      "Epoch 88/200\n",
      "780/781 [============================>.] - ETA: 0s - loss: 0.5164 - acc: 0.5840Epoch 00087: val_acc did not improve\n",
      "781/781 [==============================] - 90s - loss: 0.5163 - acc: 0.5841 - val_loss: 0.6542 - val_acc: 0.7462\n"
     ]
    },
    {
     "data": {
      "application/vnd.jupyter.widget-view+json": {
       "model_id": "ba0fa34a061443adba97d8cbb81e274a"
      }
     },
     "metadata": {},
     "output_type": "display_data"
    },
    {
     "name": "stdout",
     "output_type": "stream",
     "text": [
      "Epoch 89/200\n",
      "780/781 [============================>.] - ETA: 0s - loss: 0.5216 - acc: 0.5822Epoch 00088: val_acc did not improve\n",
      "781/781 [==============================] - 90s - loss: 0.5215 - acc: 0.5822 - val_loss: 0.6358 - val_acc: 0.7196\n"
     ]
    },
    {
     "data": {
      "application/vnd.jupyter.widget-view+json": {
       "model_id": "e5f181a474654d5a9f0d325a5c5c6cad"
      }
     },
     "metadata": {},
     "output_type": "display_data"
    },
    {
     "name": "stdout",
     "output_type": "stream",
     "text": [
      "Epoch 90/200\n",
      "780/781 [============================>.] - ETA: 0s - loss: 0.5175 - acc: 0.5883Epoch 00089: val_acc did not improve\n",
      "781/781 [==============================] - 90s - loss: 0.5177 - acc: 0.5883 - val_loss: 0.6387 - val_acc: 0.7386\n"
     ]
    },
    {
     "data": {
      "application/vnd.jupyter.widget-view+json": {
       "model_id": "9e1c25d331e9467bbd8138012a23ff22"
      }
     },
     "metadata": {},
     "output_type": "display_data"
    },
    {
     "name": "stdout",
     "output_type": "stream",
     "text": [
      "Epoch 91/200\n",
      "780/781 [============================>.] - ETA: 0s - loss: 0.5142 - acc: 0.5840Epoch 00090: val_acc did not improve\n",
      "781/781 [==============================] - 90s - loss: 0.5147 - acc: 0.5840 - val_loss: 0.6148 - val_acc: 0.7376\n"
     ]
    },
    {
     "data": {
      "application/vnd.jupyter.widget-view+json": {
       "model_id": "f8d67a82dc3643b39a8f1aaf67bd8ebc"
      }
     },
     "metadata": {},
     "output_type": "display_data"
    },
    {
     "name": "stdout",
     "output_type": "stream",
     "text": [
      "Epoch 92/200\n",
      "780/781 [============================>.] - ETA: 0s - loss: 0.5182 - acc: 0.5879Epoch 00091: val_acc did not improve\n",
      "781/781 [==============================] - 90s - loss: 0.5182 - acc: 0.5878 - val_loss: 0.6745 - val_acc: 0.7323\n"
     ]
    },
    {
     "data": {
      "application/vnd.jupyter.widget-view+json": {
       "model_id": "940649e84f3248099bf7977faeda7a51"
      }
     },
     "metadata": {},
     "output_type": "display_data"
    },
    {
     "name": "stdout",
     "output_type": "stream",
     "text": [
      "Epoch 93/200\n",
      "780/781 [============================>.] - ETA: 0s - loss: 0.5264 - acc: 0.5787Epoch 00092: val_acc did not improve\n",
      "781/781 [==============================] - 90s - loss: 0.5267 - acc: 0.5786 - val_loss: 0.6216 - val_acc: 0.7130\n"
     ]
    },
    {
     "data": {
      "application/vnd.jupyter.widget-view+json": {
       "model_id": "daee6e4c1c8b4310922398f5fc8cbd66"
      }
     },
     "metadata": {},
     "output_type": "display_data"
    },
    {
     "name": "stdout",
     "output_type": "stream",
     "text": [
      "Epoch 94/200\n",
      "780/781 [============================>.] - ETA: 0s - loss: 0.5147 - acc: 0.5879Epoch 00093: val_acc did not improve\n",
      "781/781 [==============================] - 90s - loss: 0.5148 - acc: 0.5880 - val_loss: 0.6332 - val_acc: 0.7248\n"
     ]
    },
    {
     "data": {
      "application/vnd.jupyter.widget-view+json": {
       "model_id": "d5c2a7c9303a4f80bf8f9386d5c450a7"
      }
     },
     "metadata": {},
     "output_type": "display_data"
    },
    {
     "name": "stdout",
     "output_type": "stream",
     "text": [
      "Epoch 95/200\n",
      "780/781 [============================>.] - ETA: 0s - loss: 0.5183 - acc: 0.5908Epoch 00094: val_acc did not improve\n",
      "781/781 [==============================] - 90s - loss: 0.5184 - acc: 0.5907 - val_loss: 0.6680 - val_acc: 0.7216\n"
     ]
    },
    {
     "data": {
      "application/vnd.jupyter.widget-view+json": {
       "model_id": "9bad2e03a9384ba1a82a125014d58ba7"
      }
     },
     "metadata": {},
     "output_type": "display_data"
    },
    {
     "name": "stdout",
     "output_type": "stream",
     "text": [
      "Epoch 96/200\n",
      "780/781 [============================>.] - ETA: 0s - loss: 0.5192 - acc: 0.5942Epoch 00095: val_acc did not improve\n",
      "781/781 [==============================] - 90s - loss: 0.5192 - acc: 0.5942 - val_loss: 0.6265 - val_acc: 0.7427\n"
     ]
    },
    {
     "data": {
      "application/vnd.jupyter.widget-view+json": {
       "model_id": "b9afba129cf843bd9542b2389a32b49e"
      }
     },
     "metadata": {},
     "output_type": "display_data"
    },
    {
     "name": "stdout",
     "output_type": "stream",
     "text": [
      "Epoch 97/200\n",
      "780/781 [============================>.] - ETA: 0s - loss: 0.5164 - acc: 0.5866Epoch 00096: val_acc did not improve\n",
      "781/781 [==============================] - 90s - loss: 0.5166 - acc: 0.5865 - val_loss: 0.6560 - val_acc: 0.7257\n"
     ]
    },
    {
     "data": {
      "application/vnd.jupyter.widget-view+json": {
       "model_id": "fbe14c335d3a41e7b0c671bb2d824ae7"
      }
     },
     "metadata": {},
     "output_type": "display_data"
    },
    {
     "name": "stdout",
     "output_type": "stream",
     "text": [
      "Epoch 98/200\n",
      "780/781 [============================>.] - ETA: 0s - loss: 0.5179 - acc: 0.5885Epoch 00097: val_acc did not improve\n",
      "781/781 [==============================] - 90s - loss: 0.5178 - acc: 0.5885 - val_loss: 0.6391 - val_acc: 0.7353\n"
     ]
    },
    {
     "data": {
      "application/vnd.jupyter.widget-view+json": {
       "model_id": "4b4e581289a94f6aa0a14a702bcdc858"
      }
     },
     "metadata": {},
     "output_type": "display_data"
    },
    {
     "name": "stdout",
     "output_type": "stream",
     "text": [
      "Epoch 99/200\n",
      "780/781 [============================>.] - ETA: 0s - loss: 0.5283 - acc: 0.5852Epoch 00098: val_acc did not improve\n",
      "781/781 [==============================] - 90s - loss: 0.5281 - acc: 0.5852 - val_loss: 0.6632 - val_acc: 0.7282\n"
     ]
    },
    {
     "data": {
      "application/vnd.jupyter.widget-view+json": {
       "model_id": "71cf252c879b404c9f06224986c53dc3"
      }
     },
     "metadata": {},
     "output_type": "display_data"
    },
    {
     "name": "stdout",
     "output_type": "stream",
     "text": [
      "Epoch 100/200\n",
      "780/781 [============================>.] - ETA: 0s - loss: 0.5099 - acc: 0.5885Epoch 00099: val_acc did not improve\n",
      "781/781 [==============================] - 90s - loss: 0.5100 - acc: 0.5884 - val_loss: 0.6581 - val_acc: 0.7109\n"
     ]
    },
    {
     "data": {
      "application/vnd.jupyter.widget-view+json": {
       "model_id": "4690e2f8bea543c9925b429b545f0e1f"
      }
     },
     "metadata": {},
     "output_type": "display_data"
    },
    {
     "name": "stdout",
     "output_type": "stream",
     "text": [
      "Epoch 101/200\n",
      "780/781 [============================>.] - ETA: 0s - loss: 0.5168 - acc: 0.5922Epoch 00100: val_acc did not improve\n",
      "781/781 [==============================] - 90s - loss: 0.5169 - acc: 0.5920 - val_loss: 0.6189 - val_acc: 0.7222\n"
     ]
    },
    {
     "data": {
      "application/vnd.jupyter.widget-view+json": {
       "model_id": "00eebc8cc9a64259945f761e09137a54"
      }
     },
     "metadata": {},
     "output_type": "display_data"
    },
    {
     "name": "stdout",
     "output_type": "stream",
     "text": [
      "Epoch 102/200\n",
      "780/781 [============================>.] - ETA: 0s - loss: 0.5229 - acc: 0.5909Epoch 00101: val_acc did not improve\n",
      "781/781 [==============================] - 90s - loss: 0.5229 - acc: 0.5909 - val_loss: 0.6287 - val_acc: 0.7291\n"
     ]
    },
    {
     "data": {
      "application/vnd.jupyter.widget-view+json": {
       "model_id": "cb2327fe41bf49d993b4c3999ff0f84c"
      }
     },
     "metadata": {},
     "output_type": "display_data"
    },
    {
     "name": "stdout",
     "output_type": "stream",
     "text": [
      "Epoch 103/200\n",
      "780/781 [============================>.] - ETA: 0s - loss: 0.4237 - acc: 0.6182Epoch 00102: val_acc improved from 0.75950 to 0.76885, saving model to model_checkpoint_cifar110_vgg8_eu_0.5.h5\n",
      "781/781 [==============================] - 90s - loss: 0.4239 - acc: 0.6182 - val_loss: 0.5665 - val_acc: 0.7689\n"
     ]
    },
    {
     "data": {
      "application/vnd.jupyter.widget-view+json": {
       "model_id": "093c42af13a040319e161a282f990886"
      }
     },
     "metadata": {},
     "output_type": "display_data"
    },
    {
     "name": "stdout",
     "output_type": "stream",
     "text": [
      "Epoch 104/200\n",
      "780/781 [============================>.] - ETA: 0s - loss: 0.3966 - acc: 0.6352Epoch 00103: val_acc improved from 0.76885 to 0.77710, saving model to model_checkpoint_cifar110_vgg8_eu_0.5.h5\n",
      "781/781 [==============================] - 90s - loss: 0.3967 - acc: 0.6352 - val_loss: 0.5747 - val_acc: 0.7771\n"
     ]
    },
    {
     "data": {
      "application/vnd.jupyter.widget-view+json": {
       "model_id": "73c477f89617468889079a18c59ce1e7"
      }
     },
     "metadata": {},
     "output_type": "display_data"
    },
    {
     "name": "stdout",
     "output_type": "stream",
     "text": [
      "Epoch 105/200\n",
      "780/781 [============================>.] - ETA: 0s - loss: 0.3859 - acc: 0.6417Epoch 00104: val_acc improved from 0.77710 to 0.78320, saving model to model_checkpoint_cifar110_vgg8_eu_0.5.h5\n",
      "781/781 [==============================] - 90s - loss: 0.3860 - acc: 0.6416 - val_loss: 0.5719 - val_acc: 0.7832\n"
     ]
    },
    {
     "data": {
      "application/vnd.jupyter.widget-view+json": {
       "model_id": "831c77a298c64abba5ad3392fc7eeb76"
      }
     },
     "metadata": {},
     "output_type": "display_data"
    },
    {
     "name": "stdout",
     "output_type": "stream",
     "text": [
      "Epoch 106/200\n",
      "780/781 [============================>.] - ETA: 0s - loss: 0.3791 - acc: 0.6454Epoch 00105: val_acc improved from 0.78320 to 0.78675, saving model to model_checkpoint_cifar110_vgg8_eu_0.5.h5\n",
      "781/781 [==============================] - 90s - loss: 0.3790 - acc: 0.6453 - val_loss: 0.5833 - val_acc: 0.7867\n"
     ]
    },
    {
     "data": {
      "application/vnd.jupyter.widget-view+json": {
       "model_id": "2fb7ad8833934016855f5e66b54e6cfa"
      }
     },
     "metadata": {},
     "output_type": "display_data"
    },
    {
     "name": "stdout",
     "output_type": "stream",
     "text": [
      "Epoch 107/200\n",
      "780/781 [============================>.] - ETA: 0s - loss: 0.3702 - acc: 0.6471Epoch 00106: val_acc did not improve\n",
      "781/781 [==============================] - 90s - loss: 0.3703 - acc: 0.6471 - val_loss: 0.6011 - val_acc: 0.7804\n"
     ]
    },
    {
     "data": {
      "application/vnd.jupyter.widget-view+json": {
       "model_id": "2b1d7aee464041509724acf422d041ec"
      }
     },
     "metadata": {},
     "output_type": "display_data"
    },
    {
     "name": "stdout",
     "output_type": "stream",
     "text": [
      "Epoch 108/200\n",
      "780/781 [============================>.] - ETA: 0s - loss: 0.3677 - acc: 0.6471Epoch 00107: val_acc did not improve\n",
      "781/781 [==============================] - 90s - loss: 0.3676 - acc: 0.6471 - val_loss: 0.5866 - val_acc: 0.7844\n"
     ]
    },
    {
     "data": {
      "application/vnd.jupyter.widget-view+json": {
       "model_id": "99e4eaa3c40e48b095198883e18274ad"
      }
     },
     "metadata": {},
     "output_type": "display_data"
    },
    {
     "name": "stdout",
     "output_type": "stream",
     "text": [
      "Epoch 109/200\n",
      "780/781 [============================>.] - ETA: 0s - loss: 0.3588 - acc: 0.6539Epoch 00108: val_acc did not improve\n",
      "781/781 [==============================] - 90s - loss: 0.3591 - acc: 0.6538 - val_loss: 0.6177 - val_acc: 0.7839\n"
     ]
    },
    {
     "data": {
      "application/vnd.jupyter.widget-view+json": {
       "model_id": "0af47e4303dc41a8bb2ffaf7ba0a5dd3"
      }
     },
     "metadata": {},
     "output_type": "display_data"
    },
    {
     "name": "stdout",
     "output_type": "stream",
     "text": [
      "Epoch 110/200\n",
      "780/781 [============================>.] - ETA: 0s - loss: 0.3595 - acc: 0.6540Epoch 00109: val_acc improved from 0.78675 to 0.78690, saving model to model_checkpoint_cifar110_vgg8_eu_0.5.h5\n",
      "781/781 [==============================] - 90s - loss: 0.3596 - acc: 0.6539 - val_loss: 0.6187 - val_acc: 0.7869\n"
     ]
    },
    {
     "data": {
      "application/vnd.jupyter.widget-view+json": {
       "model_id": "243672fd6519491d92bbdde742f061de"
      }
     },
     "metadata": {},
     "output_type": "display_data"
    },
    {
     "name": "stdout",
     "output_type": "stream",
     "text": [
      "Epoch 111/200\n",
      "780/781 [============================>.] - ETA: 0s - loss: 0.3577 - acc: 0.6541Epoch 00110: val_acc improved from 0.78690 to 0.78905, saving model to model_checkpoint_cifar110_vgg8_eu_0.5.h5\n",
      "781/781 [==============================] - 90s - loss: 0.3577 - acc: 0.6541 - val_loss: 0.5942 - val_acc: 0.7891\n"
     ]
    },
    {
     "data": {
      "application/vnd.jupyter.widget-view+json": {
       "model_id": "48015dc3d7b6477890662726ebbb2181"
      }
     },
     "metadata": {},
     "output_type": "display_data"
    },
    {
     "name": "stdout",
     "output_type": "stream",
     "text": [
      "Epoch 112/200\n",
      "780/781 [============================>.] - ETA: 0s - loss: 0.3536 - acc: 0.6570Epoch 00111: val_acc improved from 0.78905 to 0.79715, saving model to model_checkpoint_cifar110_vgg8_eu_0.5.h5\n",
      "781/781 [==============================] - 90s - loss: 0.3534 - acc: 0.6571 - val_loss: 0.6218 - val_acc: 0.7972\n"
     ]
    },
    {
     "data": {
      "application/vnd.jupyter.widget-view+json": {
       "model_id": "922e78df6b9c4e3d925dda37e89b9388"
      }
     },
     "metadata": {},
     "output_type": "display_data"
    },
    {
     "name": "stdout",
     "output_type": "stream",
     "text": [
      "Epoch 113/200\n",
      "780/781 [============================>.] - ETA: 0s - loss: 0.3513 - acc: 0.6594Epoch 00112: val_acc did not improve\n",
      "781/781 [==============================] - 90s - loss: 0.3514 - acc: 0.6594 - val_loss: 0.5880 - val_acc: 0.7900\n"
     ]
    },
    {
     "data": {
      "application/vnd.jupyter.widget-view+json": {
       "model_id": "70816bbd9f624580a4f41582486d7e0c"
      }
     },
     "metadata": {},
     "output_type": "display_data"
    },
    {
     "name": "stdout",
     "output_type": "stream",
     "text": [
      "Epoch 114/200\n",
      "780/781 [============================>.] - ETA: 0s - loss: 0.3485 - acc: 0.6607Epoch 00113: val_acc did not improve\n",
      "781/781 [==============================] - 89s - loss: 0.3484 - acc: 0.6608 - val_loss: 0.5983 - val_acc: 0.7965\n"
     ]
    },
    {
     "data": {
      "application/vnd.jupyter.widget-view+json": {
       "model_id": "493c7a6354c346dd9576f6ed44aa5cac"
      }
     },
     "metadata": {},
     "output_type": "display_data"
    },
    {
     "name": "stdout",
     "output_type": "stream",
     "text": [
      "Epoch 115/200\n",
      "780/781 [============================>.] - ETA: 0s - loss: 0.3436 - acc: 0.6614Epoch 00114: val_acc did not improve\n",
      "781/781 [==============================] - 90s - loss: 0.3436 - acc: 0.6613 - val_loss: 0.6164 - val_acc: 0.7895\n"
     ]
    },
    {
     "data": {
      "application/vnd.jupyter.widget-view+json": {
       "model_id": "cabd363efcc143a3aa1afdc1e19dcaac"
      }
     },
     "metadata": {},
     "output_type": "display_data"
    },
    {
     "name": "stdout",
     "output_type": "stream",
     "text": [
      "Epoch 116/200\n",
      "780/781 [============================>.] - ETA: 0s - loss: 0.3407 - acc: 0.6610Epoch 00115: val_acc did not improve\n",
      "781/781 [==============================] - 86s - loss: 0.3407 - acc: 0.6610 - val_loss: 0.6487 - val_acc: 0.7966\n"
     ]
    },
    {
     "data": {
      "application/vnd.jupyter.widget-view+json": {
       "model_id": "061e104da6664402bb687c0c33b368d9"
      }
     },
     "metadata": {},
     "output_type": "display_data"
    },
    {
     "name": "stdout",
     "output_type": "stream",
     "text": [
      "Epoch 117/200\n",
      "780/781 [============================>.] - ETA: 0s - loss: 0.3409 - acc: 0.6615Epoch 00116: val_acc improved from 0.79715 to 0.79995, saving model to model_checkpoint_cifar110_vgg8_eu_0.5.h5\n",
      "781/781 [==============================] - 57s - loss: 0.3408 - acc: 0.6615 - val_loss: 0.6212 - val_acc: 0.8000\n"
     ]
    },
    {
     "data": {
      "application/vnd.jupyter.widget-view+json": {
       "model_id": "5f68e638a73a4a2a99101b0f8f54466a"
      }
     },
     "metadata": {},
     "output_type": "display_data"
    },
    {
     "name": "stdout",
     "output_type": "stream",
     "text": [
      "Epoch 118/200\n",
      "780/781 [============================>.] - ETA: 0s - loss: 0.3425 - acc: 0.6646Epoch 00117: val_acc did not improve\n",
      "781/781 [==============================] - 45s - loss: 0.3427 - acc: 0.6646 - val_loss: 0.6077 - val_acc: 0.7955\n"
     ]
    },
    {
     "data": {
      "application/vnd.jupyter.widget-view+json": {
       "model_id": "934e7e499a964bbba9e0005eaa38b96a"
      }
     },
     "metadata": {},
     "output_type": "display_data"
    },
    {
     "name": "stdout",
     "output_type": "stream",
     "text": [
      "Epoch 119/200\n",
      "780/781 [============================>.] - ETA: 0s - loss: 0.3355 - acc: 0.6674Epoch 00118: val_acc did not improve\n",
      "781/781 [==============================] - 45s - loss: 0.3355 - acc: 0.6675 - val_loss: 0.6295 - val_acc: 0.7953\n"
     ]
    },
    {
     "data": {
      "application/vnd.jupyter.widget-view+json": {
       "model_id": "8664cda27e8940fea2fa25fb822e00fc"
      }
     },
     "metadata": {},
     "output_type": "display_data"
    },
    {
     "name": "stdout",
     "output_type": "stream",
     "text": [
      "Epoch 120/200\n",
      "780/781 [============================>.] - ETA: 0s - loss: 0.3410 - acc: 0.6659Epoch 00119: val_acc did not improve\n",
      "781/781 [==============================] - 46s - loss: 0.3409 - acc: 0.6659 - val_loss: 0.6046 - val_acc: 0.7907\n"
     ]
    },
    {
     "data": {
      "application/vnd.jupyter.widget-view+json": {
       "model_id": "9187d7a3c4844fb998977ba9ae075000"
      }
     },
     "metadata": {},
     "output_type": "display_data"
    },
    {
     "name": "stdout",
     "output_type": "stream",
     "text": [
      "Epoch 121/200\n",
      "780/781 [============================>.] - ETA: 0s - loss: 0.3310 - acc: 0.6687Epoch 00120: val_acc did not improve\n",
      "781/781 [==============================] - 46s - loss: 0.3309 - acc: 0.6687 - val_loss: 0.6149 - val_acc: 0.7925\n"
     ]
    },
    {
     "data": {
      "application/vnd.jupyter.widget-view+json": {
       "model_id": "b31d6b9ab7dc4216aa7c0c107ab47d43"
      }
     },
     "metadata": {},
     "output_type": "display_data"
    },
    {
     "name": "stdout",
     "output_type": "stream",
     "text": [
      "Epoch 122/200\n",
      "780/781 [============================>.] - ETA: 0s - loss: 0.3384 - acc: 0.6643Epoch 00121: val_acc did not improve\n",
      "781/781 [==============================] - 46s - loss: 0.3383 - acc: 0.6643 - val_loss: 0.6226 - val_acc: 0.7935\n"
     ]
    },
    {
     "data": {
      "application/vnd.jupyter.widget-view+json": {
       "model_id": "71090376b5144cdb86eb9c5c8a4a8faf"
      }
     },
     "metadata": {},
     "output_type": "display_data"
    },
    {
     "name": "stdout",
     "output_type": "stream",
     "text": [
      "Epoch 123/200\n",
      "780/781 [============================>.] - ETA: 0s - loss: 0.3308 - acc: 0.6681Epoch 00122: val_acc did not improve\n",
      "781/781 [==============================] - 45s - loss: 0.3309 - acc: 0.6680 - val_loss: 0.6331 - val_acc: 0.7922\n"
     ]
    },
    {
     "data": {
      "application/vnd.jupyter.widget-view+json": {
       "model_id": "d7f50dd07d5140b1b923e69140157916"
      }
     },
     "metadata": {},
     "output_type": "display_data"
    },
    {
     "name": "stdout",
     "output_type": "stream",
     "text": [
      "Epoch 124/200\n",
      "780/781 [============================>.] - ETA: 0s - loss: 0.3311 - acc: 0.6679Epoch 00123: val_acc improved from 0.79995 to 0.80025, saving model to model_checkpoint_cifar110_vgg8_eu_0.5.h5\n",
      "781/781 [==============================] - 45s - loss: 0.3310 - acc: 0.6679 - val_loss: 0.6504 - val_acc: 0.8003\n"
     ]
    },
    {
     "data": {
      "application/vnd.jupyter.widget-view+json": {
       "model_id": "c97a6bef9eaf44848b7bb44d01edec30"
      }
     },
     "metadata": {},
     "output_type": "display_data"
    },
    {
     "name": "stdout",
     "output_type": "stream",
     "text": [
      "Epoch 125/200\n",
      "780/781 [============================>.] - ETA: 0s - loss: 0.3280 - acc: 0.6681Epoch 00124: val_acc did not improve\n",
      "781/781 [==============================] - 45s - loss: 0.3279 - acc: 0.6681 - val_loss: 0.6183 - val_acc: 0.7931\n"
     ]
    },
    {
     "data": {
      "application/vnd.jupyter.widget-view+json": {
       "model_id": "2ad97e1718524292b8e72842349659b0"
      }
     },
     "metadata": {},
     "output_type": "display_data"
    },
    {
     "name": "stdout",
     "output_type": "stream",
     "text": [
      "Epoch 126/200\n",
      "780/781 [============================>.] - ETA: 0s - loss: 0.3273 - acc: 0.6699Epoch 00125: val_acc did not improve\n",
      "781/781 [==============================] - 46s - loss: 0.3274 - acc: 0.6698 - val_loss: 0.6396 - val_acc: 0.7974\n"
     ]
    },
    {
     "data": {
      "application/vnd.jupyter.widget-view+json": {
       "model_id": "35369ff140a443c8a217c9d79414e8df"
      }
     },
     "metadata": {},
     "output_type": "display_data"
    },
    {
     "name": "stdout",
     "output_type": "stream",
     "text": [
      "Epoch 127/200\n",
      "780/781 [============================>.] - ETA: 0s - loss: 0.3261 - acc: 0.6713Epoch 00126: val_acc did not improve\n",
      "781/781 [==============================] - 46s - loss: 0.3262 - acc: 0.6712 - val_loss: 0.6316 - val_acc: 0.7889\n"
     ]
    },
    {
     "data": {
      "application/vnd.jupyter.widget-view+json": {
       "model_id": "1aeb68eb12d341aaa1bdd03c7774c9e1"
      }
     },
     "metadata": {},
     "output_type": "display_data"
    },
    {
     "name": "stdout",
     "output_type": "stream",
     "text": [
      "Epoch 128/200\n",
      "780/781 [============================>.] - ETA: 0s - loss: 0.3245 - acc: 0.6677Epoch 00127: val_acc did not improve\n",
      "781/781 [==============================] - 46s - loss: 0.3245 - acc: 0.6677 - val_loss: 0.6607 - val_acc: 0.7875\n"
     ]
    },
    {
     "data": {
      "application/vnd.jupyter.widget-view+json": {
       "model_id": "5a6ad27b384b4cf7930d7afefc9e92aa"
      }
     },
     "metadata": {},
     "output_type": "display_data"
    },
    {
     "name": "stdout",
     "output_type": "stream",
     "text": [
      "Epoch 129/200\n",
      "780/781 [============================>.] - ETA: 0s - loss: 0.3235 - acc: 0.6724Epoch 00128: val_acc did not improve\n",
      "781/781 [==============================] - 46s - loss: 0.3236 - acc: 0.6724 - val_loss: 0.6323 - val_acc: 0.7950\n"
     ]
    },
    {
     "data": {
      "application/vnd.jupyter.widget-view+json": {
       "model_id": "38ab5f054027493b94fa72c56b9db529"
      }
     },
     "metadata": {},
     "output_type": "display_data"
    },
    {
     "name": "stdout",
     "output_type": "stream",
     "text": [
      "Epoch 130/200\n",
      "780/781 [============================>.] - ETA: 0s - loss: 0.3240 - acc: 0.6747Epoch 00129: val_acc did not improve\n",
      "781/781 [==============================] - 46s - loss: 0.3239 - acc: 0.6746 - val_loss: 0.6061 - val_acc: 0.7879\n"
     ]
    },
    {
     "data": {
      "application/vnd.jupyter.widget-view+json": {
       "model_id": "cb046ffaa6304f8e99a5ed7867e6c54d"
      }
     },
     "metadata": {},
     "output_type": "display_data"
    },
    {
     "name": "stdout",
     "output_type": "stream",
     "text": [
      "Epoch 131/200\n",
      "780/781 [============================>.] - ETA: 0s - loss: 0.3222 - acc: 0.6730Epoch 00130: val_acc improved from 0.80025 to 0.80050, saving model to model_checkpoint_cifar110_vgg8_eu_0.5.h5\n",
      "781/781 [==============================] - 46s - loss: 0.3221 - acc: 0.6731 - val_loss: 0.6604 - val_acc: 0.8005\n"
     ]
    },
    {
     "data": {
      "application/vnd.jupyter.widget-view+json": {
       "model_id": "1b9c2446cb334a17b5b263049d10e422"
      }
     },
     "metadata": {},
     "output_type": "display_data"
    },
    {
     "name": "stdout",
     "output_type": "stream",
     "text": [
      "Epoch 132/200\n",
      "780/781 [============================>.] - ETA: 0s - loss: 0.3211 - acc: 0.6759Epoch 00131: val_acc did not improve\n",
      "781/781 [==============================] - 45s - loss: 0.3210 - acc: 0.6759 - val_loss: 0.6321 - val_acc: 0.7946\n"
     ]
    },
    {
     "data": {
      "application/vnd.jupyter.widget-view+json": {
       "model_id": "32c0ecb536bf4a85ba63a669a3b2d0fe"
      }
     },
     "metadata": {},
     "output_type": "display_data"
    },
    {
     "name": "stdout",
     "output_type": "stream",
     "text": [
      "Epoch 133/200\n",
      "780/781 [============================>.] - ETA: 0s - loss: 0.3205 - acc: 0.6754Epoch 00132: val_acc improved from 0.80050 to 0.80070, saving model to model_checkpoint_cifar110_vgg8_eu_0.5.h5\n",
      "781/781 [==============================] - 46s - loss: 0.3205 - acc: 0.6754 - val_loss: 0.6332 - val_acc: 0.8007\n"
     ]
    },
    {
     "data": {
      "application/vnd.jupyter.widget-view+json": {
       "model_id": "0518422cefb54e54aa46db87e57cb6f0"
      }
     },
     "metadata": {},
     "output_type": "display_data"
    },
    {
     "name": "stdout",
     "output_type": "stream",
     "text": [
      "Epoch 134/200\n",
      "780/781 [============================>.] - ETA: 0s - loss: 0.3190 - acc: 0.6734Epoch 00133: val_acc did not improve\n",
      "781/781 [==============================] - 45s - loss: 0.3189 - acc: 0.6734 - val_loss: 0.6766 - val_acc: 0.7938\n"
     ]
    },
    {
     "data": {
      "application/vnd.jupyter.widget-view+json": {
       "model_id": "93d558f6597448b3b61ce364eb7b5941"
      }
     },
     "metadata": {},
     "output_type": "display_data"
    },
    {
     "name": "stdout",
     "output_type": "stream",
     "text": [
      "Epoch 135/200\n",
      "780/781 [============================>.] - ETA: 0s - loss: 0.3145 - acc: 0.6790Epoch 00134: val_acc did not improve\n",
      "781/781 [==============================] - 45s - loss: 0.3144 - acc: 0.6790 - val_loss: 0.6634 - val_acc: 0.7917\n"
     ]
    },
    {
     "data": {
      "application/vnd.jupyter.widget-view+json": {
       "model_id": "733adcff4f5f4d6d939402be3b899c79"
      }
     },
     "metadata": {},
     "output_type": "display_data"
    },
    {
     "name": "stdout",
     "output_type": "stream",
     "text": [
      "Epoch 136/200\n",
      "780/781 [============================>.] - ETA: 0s - loss: 0.3202 - acc: 0.6765Epoch 00135: val_acc did not improve\n",
      "781/781 [==============================] - 45s - loss: 0.3202 - acc: 0.6766 - val_loss: 0.6450 - val_acc: 0.7971\n"
     ]
    },
    {
     "data": {
      "application/vnd.jupyter.widget-view+json": {
       "model_id": "b1442b89a4bc41249f9f5d44314fb1cc"
      }
     },
     "metadata": {},
     "output_type": "display_data"
    },
    {
     "name": "stdout",
     "output_type": "stream",
     "text": [
      "Epoch 137/200\n",
      "780/781 [============================>.] - ETA: 0s - loss: 0.3158 - acc: 0.6781Epoch 00136: val_acc improved from 0.80070 to 0.80475, saving model to model_checkpoint_cifar110_vgg8_eu_0.5.h5\n",
      "781/781 [==============================] - 46s - loss: 0.3158 - acc: 0.6780 - val_loss: 0.6739 - val_acc: 0.8047\n"
     ]
    },
    {
     "data": {
      "application/vnd.jupyter.widget-view+json": {
       "model_id": "bf48510a565646218836a0570bb208cf"
      }
     },
     "metadata": {},
     "output_type": "display_data"
    },
    {
     "name": "stdout",
     "output_type": "stream",
     "text": [
      "Epoch 138/200\n",
      "780/781 [============================>.] - ETA: 0s - loss: 0.3108 - acc: 0.6777Epoch 00137: val_acc did not improve\n",
      "781/781 [==============================] - 45s - loss: 0.3107 - acc: 0.6777 - val_loss: 0.6333 - val_acc: 0.7982\n"
     ]
    },
    {
     "data": {
      "application/vnd.jupyter.widget-view+json": {
       "model_id": "765ddf35d89c4560a30086689eaf84da"
      }
     },
     "metadata": {},
     "output_type": "display_data"
    },
    {
     "name": "stdout",
     "output_type": "stream",
     "text": [
      "Epoch 139/200\n",
      "780/781 [============================>.] - ETA: 0s - loss: 0.3140 - acc: 0.6781Epoch 00138: val_acc did not improve\n",
      "781/781 [==============================] - 45s - loss: 0.3139 - acc: 0.6781 - val_loss: 0.6872 - val_acc: 0.7989\n"
     ]
    },
    {
     "data": {
      "application/vnd.jupyter.widget-view+json": {
       "model_id": "18ee37ac84c14cdcb63797e81467e199"
      }
     },
     "metadata": {},
     "output_type": "display_data"
    },
    {
     "name": "stdout",
     "output_type": "stream",
     "text": [
      "Epoch 140/200\n",
      "780/781 [============================>.] - ETA: 0s - loss: 0.3147 - acc: 0.6790Epoch 00139: val_acc did not improve\n",
      "781/781 [==============================] - 46s - loss: 0.3146 - acc: 0.6791 - val_loss: 0.6751 - val_acc: 0.7970\n"
     ]
    },
    {
     "data": {
      "application/vnd.jupyter.widget-view+json": {
       "model_id": "62ec17d13c6242a188bb2db51e8fb17d"
      }
     },
     "metadata": {},
     "output_type": "display_data"
    },
    {
     "name": "stdout",
     "output_type": "stream",
     "text": [
      "Epoch 141/200\n",
      "780/781 [============================>.] - ETA: 0s - loss: 0.3083 - acc: 0.6835Epoch 00140: val_acc did not improve\n",
      "781/781 [==============================] - 46s - loss: 0.3084 - acc: 0.6835 - val_loss: 0.6938 - val_acc: 0.8028\n"
     ]
    },
    {
     "data": {
      "application/vnd.jupyter.widget-view+json": {
       "model_id": "c5bbf1730f744926b6c17e9760dda52a"
      }
     },
     "metadata": {},
     "output_type": "display_data"
    },
    {
     "name": "stdout",
     "output_type": "stream",
     "text": [
      "Epoch 142/200\n",
      "780/781 [============================>.] - ETA: 0s - loss: 0.3106 - acc: 0.6808Epoch 00141: val_acc did not improve\n",
      "781/781 [==============================] - 45s - loss: 0.3105 - acc: 0.6808 - val_loss: 0.6850 - val_acc: 0.8010\n"
     ]
    },
    {
     "data": {
      "application/vnd.jupyter.widget-view+json": {
       "model_id": "57ae6ab565b147d7915cb3f30a5a4f07"
      }
     },
     "metadata": {},
     "output_type": "display_data"
    },
    {
     "name": "stdout",
     "output_type": "stream",
     "text": [
      "Epoch 143/200\n",
      "780/781 [============================>.] - ETA: 0s - loss: 0.3085 - acc: 0.6803Epoch 00142: val_acc did not improve\n",
      "781/781 [==============================] - 45s - loss: 0.3084 - acc: 0.6804 - val_loss: 0.7075 - val_acc: 0.8010\n"
     ]
    },
    {
     "data": {
      "application/vnd.jupyter.widget-view+json": {
       "model_id": "6ac0863606614ba98eb46b1f1bc2179e"
      }
     },
     "metadata": {},
     "output_type": "display_data"
    },
    {
     "name": "stdout",
     "output_type": "stream",
     "text": [
      "Epoch 144/200\n",
      "780/781 [============================>.] - ETA: 0s - loss: 0.3073 - acc: 0.6842Epoch 00143: val_acc did not improve\n",
      "781/781 [==============================] - 45s - loss: 0.3074 - acc: 0.6841 - val_loss: 0.7067 - val_acc: 0.7899\n"
     ]
    },
    {
     "data": {
      "application/vnd.jupyter.widget-view+json": {
       "model_id": "4b9b560febff4c2899520e08fa790ce6"
      }
     },
     "metadata": {},
     "output_type": "display_data"
    },
    {
     "name": "stdout",
     "output_type": "stream",
     "text": [
      "Epoch 145/200\n",
      "780/781 [============================>.] - ETA: 0s - loss: 0.3132 - acc: 0.6813Epoch 00144: val_acc did not improve\n",
      "781/781 [==============================] - 46s - loss: 0.3134 - acc: 0.6813 - val_loss: 0.6714 - val_acc: 0.7930\n"
     ]
    },
    {
     "data": {
      "application/vnd.jupyter.widget-view+json": {
       "model_id": "829d4f9c06b44976b23b11790f1add8d"
      }
     },
     "metadata": {},
     "output_type": "display_data"
    },
    {
     "name": "stdout",
     "output_type": "stream",
     "text": [
      "Epoch 146/200\n",
      "780/781 [============================>.] - ETA: 0s - loss: 0.3054 - acc: 0.6823Epoch 00145: val_acc did not improve\n",
      "781/781 [==============================] - 45s - loss: 0.3053 - acc: 0.6823 - val_loss: 0.6671 - val_acc: 0.7947\n"
     ]
    },
    {
     "data": {
      "application/vnd.jupyter.widget-view+json": {
       "model_id": "dc767a58e7f3474eb0ad45d52ae17a8a"
      }
     },
     "metadata": {},
     "output_type": "display_data"
    },
    {
     "name": "stdout",
     "output_type": "stream",
     "text": [
      "Epoch 147/200\n",
      "780/781 [============================>.] - ETA: 0s - loss: 0.3046 - acc: 0.6856Epoch 00146: val_acc did not improve\n",
      "781/781 [==============================] - 46s - loss: 0.3046 - acc: 0.6856 - val_loss: 0.6516 - val_acc: 0.7973\n"
     ]
    },
    {
     "data": {
      "application/vnd.jupyter.widget-view+json": {
       "model_id": "9e602a1e025745c7ab1ba73986335b09"
      }
     },
     "metadata": {},
     "output_type": "display_data"
    },
    {
     "name": "stdout",
     "output_type": "stream",
     "text": [
      "Epoch 148/200\n",
      "780/781 [============================>.] - ETA: 0s - loss: 0.3124 - acc: 0.6815Epoch 00147: val_acc did not improve\n",
      "781/781 [==============================] - 46s - loss: 0.3124 - acc: 0.6814 - val_loss: 0.6757 - val_acc: 0.7970\n"
     ]
    },
    {
     "data": {
      "application/vnd.jupyter.widget-view+json": {
       "model_id": "16441d157bbf4ae8b2b4e1519e7642d3"
      }
     },
     "metadata": {},
     "output_type": "display_data"
    },
    {
     "name": "stdout",
     "output_type": "stream",
     "text": [
      "Epoch 149/200\n",
      "780/781 [============================>.] - ETA: 0s - loss: 0.3029 - acc: 0.6839Epoch 00148: val_acc did not improve\n",
      "781/781 [==============================] - 45s - loss: 0.3029 - acc: 0.6839 - val_loss: 0.6725 - val_acc: 0.7990\n"
     ]
    },
    {
     "data": {
      "application/vnd.jupyter.widget-view+json": {
       "model_id": "219f5a0382934928bc18cba59a2a35cb"
      }
     },
     "metadata": {},
     "output_type": "display_data"
    },
    {
     "name": "stdout",
     "output_type": "stream",
     "text": [
      "Epoch 150/200\n",
      "780/781 [============================>.] - ETA: 0s - loss: 0.3062 - acc: 0.6797Epoch 00149: val_acc did not improve\n",
      "781/781 [==============================] - 46s - loss: 0.3063 - acc: 0.6797 - val_loss: 0.6894 - val_acc: 0.8027\n"
     ]
    },
    {
     "data": {
      "application/vnd.jupyter.widget-view+json": {
       "model_id": "65c206fabf414d2c8033c94286a51342"
      }
     },
     "metadata": {},
     "output_type": "display_data"
    },
    {
     "name": "stdout",
     "output_type": "stream",
     "text": [
      "Epoch 151/200\n",
      "780/781 [============================>.] - ETA: 0s - loss: 0.3041 - acc: 0.6806Epoch 00150: val_acc improved from 0.80475 to 0.80485, saving model to model_checkpoint_cifar110_vgg8_eu_0.5.h5\n",
      "781/781 [==============================] - 46s - loss: 0.3040 - acc: 0.6807 - val_loss: 0.7089 - val_acc: 0.8048\n"
     ]
    },
    {
     "data": {
      "application/vnd.jupyter.widget-view+json": {
       "model_id": "87b834edbd864f6a951b4013426af34a"
      }
     },
     "metadata": {},
     "output_type": "display_data"
    },
    {
     "name": "stdout",
     "output_type": "stream",
     "text": [
      "Epoch 152/200\n",
      "780/781 [============================>.] - ETA: 0s - loss: 0.3027 - acc: 0.6840Epoch 00151: val_acc did not improve\n",
      "781/781 [==============================] - 46s - loss: 0.3030 - acc: 0.6839 - val_loss: 0.6650 - val_acc: 0.7998\n"
     ]
    },
    {
     "data": {
      "application/vnd.jupyter.widget-view+json": {
       "model_id": "f9571a0ab2e14f9da72df2896ad4caed"
      }
     },
     "metadata": {},
     "output_type": "display_data"
    },
    {
     "name": "stdout",
     "output_type": "stream",
     "text": [
      "Epoch 153/200\n",
      "780/781 [============================>.] - ETA: 0s - loss: 0.3074 - acc: 0.6814Epoch 00152: val_acc did not improve\n",
      "781/781 [==============================] - 45s - loss: 0.3073 - acc: 0.6814 - val_loss: 0.7120 - val_acc: 0.8006\n"
     ]
    },
    {
     "data": {
      "application/vnd.jupyter.widget-view+json": {
       "model_id": "d31e932ca7d24c5fb816e14b9ce8484c"
      }
     },
     "metadata": {},
     "output_type": "display_data"
    },
    {
     "name": "stdout",
     "output_type": "stream",
     "text": [
      "Epoch 154/200\n",
      "780/781 [============================>.] - ETA: 0s - loss: 0.3056 - acc: 0.6831Epoch 00153: val_acc did not improve\n",
      "781/781 [==============================] - 46s - loss: 0.3056 - acc: 0.6830 - val_loss: 0.6680 - val_acc: 0.7995\n"
     ]
    },
    {
     "data": {
      "application/vnd.jupyter.widget-view+json": {
       "model_id": "354aed59425c4306a239776f2b7eb80d"
      }
     },
     "metadata": {},
     "output_type": "display_data"
    },
    {
     "name": "stdout",
     "output_type": "stream",
     "text": [
      "Epoch 155/200\n",
      "780/781 [============================>.] - ETA: 0s - loss: 0.2996 - acc: 0.6886Epoch 00154: val_acc improved from 0.80485 to 0.80715, saving model to model_checkpoint_cifar110_vgg8_eu_0.5.h5\n",
      "781/781 [==============================] - 46s - loss: 0.2999 - acc: 0.6886 - val_loss: 0.7309 - val_acc: 0.8072\n"
     ]
    },
    {
     "data": {
      "application/vnd.jupyter.widget-view+json": {
       "model_id": "6bdee6106b92467688ce3f3b5f63941a"
      }
     },
     "metadata": {},
     "output_type": "display_data"
    },
    {
     "name": "stdout",
     "output_type": "stream",
     "text": [
      "Epoch 156/200\n",
      "780/781 [============================>.] - ETA: 0s - loss: 0.2984 - acc: 0.6857Epoch 00155: val_acc did not improve\n",
      "781/781 [==============================] - 45s - loss: 0.2984 - acc: 0.6858 - val_loss: 0.7057 - val_acc: 0.7999\n"
     ]
    },
    {
     "data": {
      "application/vnd.jupyter.widget-view+json": {
       "model_id": "9ad6b79ea3884d05af13fd844fc9404f"
      }
     },
     "metadata": {},
     "output_type": "display_data"
    },
    {
     "name": "stdout",
     "output_type": "stream",
     "text": [
      "Epoch 157/200\n",
      "780/781 [============================>.] - ETA: 0s - loss: 0.2975 - acc: 0.6875Epoch 00156: val_acc did not improve\n",
      "781/781 [==============================] - 45s - loss: 0.2975 - acc: 0.6874 - val_loss: 0.6732 - val_acc: 0.7961\n"
     ]
    },
    {
     "data": {
      "application/vnd.jupyter.widget-view+json": {
       "model_id": "cd758a1015cc492db7900a17bf9dd99d"
      }
     },
     "metadata": {},
     "output_type": "display_data"
    },
    {
     "name": "stdout",
     "output_type": "stream",
     "text": [
      "Epoch 158/200\n",
      "780/781 [============================>.] - ETA: 0s - loss: 0.3004 - acc: 0.6862Epoch 00157: val_acc did not improve\n",
      "781/781 [==============================] - 45s - loss: 0.3003 - acc: 0.6862 - val_loss: 0.7157 - val_acc: 0.7984\n"
     ]
    },
    {
     "data": {
      "application/vnd.jupyter.widget-view+json": {
       "model_id": "f73fedaec27b4c40b9af0c1fe2f9e8ad"
      }
     },
     "metadata": {},
     "output_type": "display_data"
    },
    {
     "name": "stdout",
     "output_type": "stream",
     "text": [
      "Epoch 159/200\n",
      "780/781 [============================>.] - ETA: 0s - loss: 0.3028 - acc: 0.6856Epoch 00158: val_acc did not improve\n",
      "781/781 [==============================] - 45s - loss: 0.3028 - acc: 0.6857 - val_loss: 0.6969 - val_acc: 0.8017\n"
     ]
    },
    {
     "data": {
      "application/vnd.jupyter.widget-view+json": {
       "model_id": "04e283b90c2f48278a01fd7e44d11609"
      }
     },
     "metadata": {},
     "output_type": "display_data"
    },
    {
     "name": "stdout",
     "output_type": "stream",
     "text": [
      "Epoch 160/200\n",
      "780/781 [============================>.] - ETA: 0s - loss: 0.2987 - acc: 0.6877Epoch 00159: val_acc did not improve\n",
      "781/781 [==============================] - 45s - loss: 0.2987 - acc: 0.6876 - val_loss: 0.6997 - val_acc: 0.8023\n"
     ]
    },
    {
     "data": {
      "application/vnd.jupyter.widget-view+json": {
       "model_id": "d833109421324cecbd7ed8a5e8b6334c"
      }
     },
     "metadata": {},
     "output_type": "display_data"
    },
    {
     "name": "stdout",
     "output_type": "stream",
     "text": [
      "Epoch 161/200\n",
      "780/781 [============================>.] - ETA: 0s - loss: 0.2984 - acc: 0.6878Epoch 00160: val_acc did not improve\n",
      "781/781 [==============================] - 45s - loss: 0.2984 - acc: 0.6878 - val_loss: 0.7049 - val_acc: 0.8008\n"
     ]
    },
    {
     "data": {
      "application/vnd.jupyter.widget-view+json": {
       "model_id": "4d72c713e2be49b5996cc30aacc5c838"
      }
     },
     "metadata": {},
     "output_type": "display_data"
    },
    {
     "name": "stdout",
     "output_type": "stream",
     "text": [
      "Epoch 162/200\n",
      "780/781 [============================>.] - ETA: 0s - loss: 0.2969 - acc: 0.6888Epoch 00161: val_acc did not improve\n",
      "781/781 [==============================] - 46s - loss: 0.2968 - acc: 0.6889 - val_loss: 0.7146 - val_acc: 0.7968\n"
     ]
    },
    {
     "data": {
      "application/vnd.jupyter.widget-view+json": {
       "model_id": "c3c9c3d21f51427aaff5786fcbb81762"
      }
     },
     "metadata": {},
     "output_type": "display_data"
    },
    {
     "name": "stdout",
     "output_type": "stream",
     "text": [
      "Epoch 163/200\n",
      "780/781 [============================>.] - ETA: 0s - loss: 0.2967 - acc: 0.6883Epoch 00162: val_acc did not improve\n",
      "781/781 [==============================] - 46s - loss: 0.2966 - acc: 0.6884 - val_loss: 0.7163 - val_acc: 0.7933\n"
     ]
    },
    {
     "data": {
      "application/vnd.jupyter.widget-view+json": {
       "model_id": "b49b02e24d604a02a6e2b7cf896b8a99"
      }
     },
     "metadata": {},
     "output_type": "display_data"
    },
    {
     "name": "stdout",
     "output_type": "stream",
     "text": [
      "Epoch 164/200\n",
      "780/781 [============================>.] - ETA: 0s - loss: 0.2963 - acc: 0.6869Epoch 00163: val_acc did not improve\n",
      "781/781 [==============================] - 45s - loss: 0.2963 - acc: 0.6869 - val_loss: 0.7245 - val_acc: 0.8045\n"
     ]
    },
    {
     "data": {
      "application/vnd.jupyter.widget-view+json": {
       "model_id": "15a59ec38aef4ad3b42bc2cce6457b16"
      }
     },
     "metadata": {},
     "output_type": "display_data"
    },
    {
     "name": "stdout",
     "output_type": "stream",
     "text": [
      "Epoch 165/200\n",
      "780/781 [============================>.] - ETA: 0s - loss: 0.2958 - acc: 0.6886Epoch 00164: val_acc did not improve\n",
      "781/781 [==============================] - 45s - loss: 0.2959 - acc: 0.6885 - val_loss: 0.7160 - val_acc: 0.8026\n"
     ]
    },
    {
     "data": {
      "application/vnd.jupyter.widget-view+json": {
       "model_id": "3d8b8bc6187a43e9ba4074f5ba33e579"
      }
     },
     "metadata": {},
     "output_type": "display_data"
    },
    {
     "name": "stdout",
     "output_type": "stream",
     "text": [
      "Epoch 166/200\n",
      "780/781 [============================>.] - ETA: 0s - loss: 0.3008 - acc: 0.6867Epoch 00165: val_acc did not improve\n",
      "781/781 [==============================] - 46s - loss: 0.3010 - acc: 0.6867 - val_loss: 0.7208 - val_acc: 0.8031\n"
     ]
    },
    {
     "data": {
      "application/vnd.jupyter.widget-view+json": {
       "model_id": "cf3b45211cc642a28a211e958d6b870c"
      }
     },
     "metadata": {},
     "output_type": "display_data"
    },
    {
     "name": "stdout",
     "output_type": "stream",
     "text": [
      "Epoch 167/200\n",
      "780/781 [============================>.] - ETA: 0s - loss: 0.2956 - acc: 0.6913Epoch 00166: val_acc did not improve\n",
      "781/781 [==============================] - 45s - loss: 0.2958 - acc: 0.6913 - val_loss: 0.7561 - val_acc: 0.8063\n"
     ]
    },
    {
     "data": {
      "application/vnd.jupyter.widget-view+json": {
       "model_id": "369df92af2b94c5e8e5829890efd7389"
      }
     },
     "metadata": {},
     "output_type": "display_data"
    },
    {
     "name": "stdout",
     "output_type": "stream",
     "text": [
      "Epoch 168/200\n",
      "780/781 [============================>.] - ETA: 0s - loss: 0.2986 - acc: 0.6888Epoch 00167: val_acc did not improve\n",
      "781/781 [==============================] - 46s - loss: 0.2987 - acc: 0.6888 - val_loss: 0.7211 - val_acc: 0.8038\n"
     ]
    },
    {
     "data": {
      "application/vnd.jupyter.widget-view+json": {
       "model_id": "e5be562e739f452bae3e51c483c3297d"
      }
     },
     "metadata": {},
     "output_type": "display_data"
    },
    {
     "name": "stdout",
     "output_type": "stream",
     "text": [
      "Epoch 169/200\n",
      "780/781 [============================>.] - ETA: 0s - loss: 0.2916 - acc: 0.6921Epoch 00168: val_acc did not improve\n",
      "781/781 [==============================] - 46s - loss: 0.2914 - acc: 0.6922 - val_loss: 0.7273 - val_acc: 0.8003\n"
     ]
    },
    {
     "data": {
      "application/vnd.jupyter.widget-view+json": {
       "model_id": "a221774d646a49bf913f216ef9524247"
      }
     },
     "metadata": {},
     "output_type": "display_data"
    },
    {
     "name": "stdout",
     "output_type": "stream",
     "text": [
      "Epoch 170/200\n",
      "780/781 [============================>.] - ETA: 0s - loss: 0.2947 - acc: 0.6901Epoch 00169: val_acc did not improve\n",
      "781/781 [==============================] - 46s - loss: 0.2947 - acc: 0.6900 - val_loss: 0.7337 - val_acc: 0.8021\n"
     ]
    },
    {
     "data": {
      "application/vnd.jupyter.widget-view+json": {
       "model_id": "706cbe8bea9e43d580903cf744157423"
      }
     },
     "metadata": {},
     "output_type": "display_data"
    },
    {
     "name": "stdout",
     "output_type": "stream",
     "text": [
      "Epoch 171/200\n",
      "780/781 [============================>.] - ETA: 0s - loss: 0.2957 - acc: 0.6872Epoch 00170: val_acc did not improve\n",
      "781/781 [==============================] - 46s - loss: 0.2956 - acc: 0.6873 - val_loss: 0.7701 - val_acc: 0.7989\n"
     ]
    },
    {
     "data": {
      "application/vnd.jupyter.widget-view+json": {
       "model_id": "9efaf1cc732c4b60b91eb5d3995291c4"
      }
     },
     "metadata": {},
     "output_type": "display_data"
    },
    {
     "name": "stdout",
     "output_type": "stream",
     "text": [
      "Epoch 172/200\n",
      "780/781 [============================>.] - ETA: 0s - loss: 0.2947 - acc: 0.6943Epoch 00171: val_acc did not improve\n",
      "781/781 [==============================] - 45s - loss: 0.2946 - acc: 0.6943 - val_loss: 0.7210 - val_acc: 0.8020\n"
     ]
    },
    {
     "data": {
      "application/vnd.jupyter.widget-view+json": {
       "model_id": "c943720f479d484091ba89fa6ccdcbf4"
      }
     },
     "metadata": {},
     "output_type": "display_data"
    },
    {
     "name": "stdout",
     "output_type": "stream",
     "text": [
      "Epoch 173/200\n",
      "780/781 [============================>.] - ETA: 0s - loss: 0.2945 - acc: 0.6929Epoch 00172: val_acc did not improve\n",
      "781/781 [==============================] - 45s - loss: 0.2944 - acc: 0.6929 - val_loss: 0.6953 - val_acc: 0.7970\n"
     ]
    },
    {
     "data": {
      "application/vnd.jupyter.widget-view+json": {
       "model_id": "f566085477034f07a59b6a9bc009ede1"
      }
     },
     "metadata": {},
     "output_type": "display_data"
    },
    {
     "name": "stdout",
     "output_type": "stream",
     "text": [
      "Epoch 174/200\n",
      "780/781 [============================>.] - ETA: 0s - loss: 0.2937 - acc: 0.6905Epoch 00173: val_acc did not improve\n",
      "781/781 [==============================] - 46s - loss: 0.2937 - acc: 0.6905 - val_loss: 0.7846 - val_acc: 0.8009\n"
     ]
    },
    {
     "data": {
      "application/vnd.jupyter.widget-view+json": {
       "model_id": "52d333606e964d6084adaff41f97981a"
      }
     },
     "metadata": {},
     "output_type": "display_data"
    },
    {
     "name": "stdout",
     "output_type": "stream",
     "text": [
      "Epoch 175/200\n",
      "780/781 [============================>.] - ETA: 0s - loss: 0.2951 - acc: 0.6906Epoch 00174: val_acc did not improve\n",
      "781/781 [==============================] - 45s - loss: 0.2950 - acc: 0.6906 - val_loss: 0.7114 - val_acc: 0.8008\n"
     ]
    },
    {
     "data": {
      "application/vnd.jupyter.widget-view+json": {
       "model_id": "4fa56bd516f54a46b72417d7ece6bc5b"
      }
     },
     "metadata": {},
     "output_type": "display_data"
    },
    {
     "name": "stdout",
     "output_type": "stream",
     "text": [
      "Epoch 176/200\n",
      "780/781 [============================>.] - ETA: 0s - loss: 0.2953 - acc: 0.6922Epoch 00175: val_acc did not improve\n",
      "781/781 [==============================] - 45s - loss: 0.2952 - acc: 0.6923 - val_loss: 0.7081 - val_acc: 0.8008\n"
     ]
    },
    {
     "data": {
      "application/vnd.jupyter.widget-view+json": {
       "model_id": "93e20e6e10124fa1adba8b13bf7124d9"
      }
     },
     "metadata": {},
     "output_type": "display_data"
    },
    {
     "name": "stdout",
     "output_type": "stream",
     "text": [
      "Epoch 177/200\n",
      "780/781 [============================>.] - ETA: 0s - loss: 0.2674 - acc: 0.7049Epoch 00176: val_acc improved from 0.80715 to 0.81410, saving model to model_checkpoint_cifar110_vgg8_eu_0.5.h5\n",
      "781/781 [==============================] - 45s - loss: 0.2674 - acc: 0.7048 - val_loss: 0.7595 - val_acc: 0.8141\n"
     ]
    },
    {
     "data": {
      "application/vnd.jupyter.widget-view+json": {
       "model_id": "1b08d01426754fdb9a0d84bb5d2eabfc"
      }
     },
     "metadata": {},
     "output_type": "display_data"
    },
    {
     "name": "stdout",
     "output_type": "stream",
     "text": [
      "Epoch 178/200\n",
      "780/781 [============================>.] - ETA: 0s - loss: 0.2678 - acc: 0.7056Epoch 00177: val_acc did not improve\n",
      "781/781 [==============================] - 45s - loss: 0.2678 - acc: 0.7056 - val_loss: 0.7287 - val_acc: 0.8139\n"
     ]
    },
    {
     "data": {
      "application/vnd.jupyter.widget-view+json": {
       "model_id": "64424ffd578f4597852c5d48e8c62dc5"
      }
     },
     "metadata": {},
     "output_type": "display_data"
    },
    {
     "name": "stdout",
     "output_type": "stream",
     "text": [
      "Epoch 179/200\n",
      "780/781 [============================>.] - ETA: 0s - loss: 0.2593 - acc: 0.7120Epoch 00178: val_acc did not improve\n",
      "781/781 [==============================] - 45s - loss: 0.2594 - acc: 0.7120 - val_loss: 0.7291 - val_acc: 0.8138\n"
     ]
    },
    {
     "data": {
      "application/vnd.jupyter.widget-view+json": {
       "model_id": "a046cf1f4c334a7cbc82cf5bece2d06f"
      }
     },
     "metadata": {},
     "output_type": "display_data"
    },
    {
     "name": "stdout",
     "output_type": "stream",
     "text": [
      "Epoch 180/200\n",
      "780/781 [============================>.] - ETA: 0s - loss: 0.2601 - acc: 0.7112Epoch 00179: val_acc did not improve\n",
      "781/781 [==============================] - 45s - loss: 0.2602 - acc: 0.7112 - val_loss: 0.7190 - val_acc: 0.8141\n"
     ]
    },
    {
     "data": {
      "application/vnd.jupyter.widget-view+json": {
       "model_id": "e223e1452d854a06a3b4d5adfb651b3a"
      }
     },
     "metadata": {},
     "output_type": "display_data"
    },
    {
     "name": "stdout",
     "output_type": "stream",
     "text": [
      "Epoch 181/200\n",
      "780/781 [============================>.] - ETA: 0s - loss: 0.2554 - acc: 0.7146Epoch 00180: val_acc improved from 0.81410 to 0.81600, saving model to model_checkpoint_cifar110_vgg8_eu_0.5.h5\n",
      "781/781 [==============================] - 46s - loss: 0.2555 - acc: 0.7146 - val_loss: 0.7162 - val_acc: 0.8160\n"
     ]
    },
    {
     "data": {
      "application/vnd.jupyter.widget-view+json": {
       "model_id": "9c203e86c95240aeb91aa1b1e5e71854"
      }
     },
     "metadata": {},
     "output_type": "display_data"
    },
    {
     "name": "stdout",
     "output_type": "stream",
     "text": [
      "Epoch 182/200\n",
      "780/781 [============================>.] - ETA: 0s - loss: 0.2520 - acc: 0.7165Epoch 00181: val_acc did not improve\n",
      "781/781 [==============================] - 45s - loss: 0.2519 - acc: 0.7165 - val_loss: 0.7345 - val_acc: 0.8136\n"
     ]
    },
    {
     "data": {
      "application/vnd.jupyter.widget-view+json": {
       "model_id": "3cd8900ac2944cff95795dd556c24091"
      }
     },
     "metadata": {},
     "output_type": "display_data"
    },
    {
     "name": "stdout",
     "output_type": "stream",
     "text": [
      "Epoch 183/200\n",
      "780/781 [============================>.] - ETA: 0s - loss: 0.2535 - acc: 0.7176Epoch 00182: val_acc did not improve\n",
      "781/781 [==============================] - 46s - loss: 0.2535 - acc: 0.7175 - val_loss: 0.7441 - val_acc: 0.8154\n"
     ]
    },
    {
     "data": {
      "application/vnd.jupyter.widget-view+json": {
       "model_id": "4094299769634846a6db7535156d9f4e"
      }
     },
     "metadata": {},
     "output_type": "display_data"
    },
    {
     "name": "stdout",
     "output_type": "stream",
     "text": [
      "Epoch 184/200\n",
      "780/781 [============================>.] - ETA: 0s - loss: 0.2530 - acc: 0.7176Epoch 00183: val_acc did not improve\n",
      "781/781 [==============================] - 46s - loss: 0.2530 - acc: 0.7176 - val_loss: 0.7412 - val_acc: 0.8144\n"
     ]
    },
    {
     "data": {
      "application/vnd.jupyter.widget-view+json": {
       "model_id": "ac076e2bcf3f49828b5cc1b075fda01a"
      }
     },
     "metadata": {},
     "output_type": "display_data"
    },
    {
     "name": "stdout",
     "output_type": "stream",
     "text": [
      "Epoch 185/200\n",
      "780/781 [============================>.] - ETA: 0s - loss: 0.2502 - acc: 0.7162Epoch 00184: val_acc did not improve\n",
      "781/781 [==============================] - 45s - loss: 0.2503 - acc: 0.7162 - val_loss: 0.7309 - val_acc: 0.8106\n"
     ]
    },
    {
     "data": {
      "application/vnd.jupyter.widget-view+json": {
       "model_id": "fd5cb7a8ab4d4d719ca50612b278a3f0"
      }
     },
     "metadata": {},
     "output_type": "display_data"
    },
    {
     "name": "stdout",
     "output_type": "stream",
     "text": [
      "Epoch 186/200\n",
      "780/781 [============================>.] - ETA: 0s - loss: 0.2502 - acc: 0.7208Epoch 00185: val_acc improved from 0.81600 to 0.81705, saving model to model_checkpoint_cifar110_vgg8_eu_0.5.h5\n",
      "781/781 [==============================] - 46s - loss: 0.2501 - acc: 0.7208 - val_loss: 0.7544 - val_acc: 0.8171\n"
     ]
    },
    {
     "data": {
      "application/vnd.jupyter.widget-view+json": {
       "model_id": "76301294af3c4243afd93e1d73158ac0"
      }
     },
     "metadata": {},
     "output_type": "display_data"
    },
    {
     "name": "stdout",
     "output_type": "stream",
     "text": [
      "Epoch 187/200\n",
      "780/781 [============================>.] - ETA: 0s - loss: 0.2530 - acc: 0.7168Epoch 00186: val_acc improved from 0.81705 to 0.81710, saving model to model_checkpoint_cifar110_vgg8_eu_0.5.h5\n",
      "781/781 [==============================] - 46s - loss: 0.2529 - acc: 0.7169 - val_loss: 0.7622 - val_acc: 0.8171\n"
     ]
    },
    {
     "data": {
      "application/vnd.jupyter.widget-view+json": {
       "model_id": "d15eb4dbc83f492f872442f0814d9ae8"
      }
     },
     "metadata": {},
     "output_type": "display_data"
    },
    {
     "name": "stdout",
     "output_type": "stream",
     "text": [
      "Epoch 188/200\n",
      "780/781 [============================>.] - ETA: 0s - loss: 0.2459 - acc: 0.7182Epoch 00187: val_acc did not improve\n",
      "781/781 [==============================] - 45s - loss: 0.2459 - acc: 0.7182 - val_loss: 0.7182 - val_acc: 0.8137\n"
     ]
    },
    {
     "data": {
      "application/vnd.jupyter.widget-view+json": {
       "model_id": "43e1b901252e4e66af72573a54befdcd"
      }
     },
     "metadata": {},
     "output_type": "display_data"
    },
    {
     "name": "stdout",
     "output_type": "stream",
     "text": [
      "Epoch 189/200\n",
      "780/781 [============================>.] - ETA: 0s - loss: 0.2487 - acc: 0.7170Epoch 00188: val_acc did not improve\n",
      "781/781 [==============================] - 46s - loss: 0.2486 - acc: 0.7171 - val_loss: 0.7350 - val_acc: 0.8159\n"
     ]
    },
    {
     "data": {
      "application/vnd.jupyter.widget-view+json": {
       "model_id": "816ed20f6e3541f0847318f600503210"
      }
     },
     "metadata": {},
     "output_type": "display_data"
    },
    {
     "name": "stdout",
     "output_type": "stream",
     "text": [
      "Epoch 190/200\n",
      "780/781 [============================>.] - ETA: 0s - loss: 0.2492 - acc: 0.7186Epoch 00189: val_acc did not improve\n",
      "781/781 [==============================] - 45s - loss: 0.2493 - acc: 0.7186 - val_loss: 0.7278 - val_acc: 0.8154\n"
     ]
    },
    {
     "data": {
      "application/vnd.jupyter.widget-view+json": {
       "model_id": "287feab99af542df8c13bc186b672fbb"
      }
     },
     "metadata": {},
     "output_type": "display_data"
    },
    {
     "name": "stdout",
     "output_type": "stream",
     "text": [
      "Epoch 191/200\n",
      "780/781 [============================>.] - ETA: 0s - loss: 0.2482 - acc: 0.7179Epoch 00190: val_acc improved from 0.81710 to 0.81945, saving model to model_checkpoint_cifar110_vgg8_eu_0.5.h5\n",
      "781/781 [==============================] - 46s - loss: 0.2482 - acc: 0.7180 - val_loss: 0.7423 - val_acc: 0.8195\n"
     ]
    },
    {
     "data": {
      "application/vnd.jupyter.widget-view+json": {
       "model_id": "9c05082c89fe42d4904239c3bcaa78be"
      }
     },
     "metadata": {},
     "output_type": "display_data"
    },
    {
     "name": "stdout",
     "output_type": "stream",
     "text": [
      "Epoch 192/200\n",
      "780/781 [============================>.] - ETA: 0s - loss: 0.2484 - acc: 0.7178Epoch 00191: val_acc did not improve\n",
      "781/781 [==============================] - 45s - loss: 0.2483 - acc: 0.7179 - val_loss: 0.7477 - val_acc: 0.8182\n"
     ]
    },
    {
     "data": {
      "application/vnd.jupyter.widget-view+json": {
       "model_id": "9ffc2b8874b8451cb97f5bb6c2e6a85c"
      }
     },
     "metadata": {},
     "output_type": "display_data"
    },
    {
     "name": "stdout",
     "output_type": "stream",
     "text": [
      "Epoch 193/200\n",
      "780/781 [============================>.] - ETA: 0s - loss: 0.2498 - acc: 0.7191Epoch 00192: val_acc did not improve\n",
      "781/781 [==============================] - 45s - loss: 0.2499 - acc: 0.7191 - val_loss: 0.7231 - val_acc: 0.8154\n"
     ]
    },
    {
     "data": {
      "application/vnd.jupyter.widget-view+json": {
       "model_id": "9682af61aa7b49c49e7314fd6dc948f0"
      }
     },
     "metadata": {},
     "output_type": "display_data"
    },
    {
     "name": "stdout",
     "output_type": "stream",
     "text": [
      "Epoch 194/200\n",
      "780/781 [============================>.] - ETA: 0s - loss: 0.2467 - acc: 0.7224Epoch 00193: val_acc did not improve\n",
      "781/781 [==============================] - 46s - loss: 0.2470 - acc: 0.7223 - val_loss: 0.7727 - val_acc: 0.8164\n"
     ]
    },
    {
     "data": {
      "application/vnd.jupyter.widget-view+json": {
       "model_id": "8c40252d80d848ea814e88c3e6c58ab4"
      }
     },
     "metadata": {},
     "output_type": "display_data"
    },
    {
     "name": "stdout",
     "output_type": "stream",
     "text": [
      "Epoch 195/200\n",
      "780/781 [============================>.] - ETA: 0s - loss: 0.2430 - acc: 0.7191Epoch 00194: val_acc did not improve\n",
      "781/781 [==============================] - 46s - loss: 0.2429 - acc: 0.7192 - val_loss: 0.7535 - val_acc: 0.8127\n"
     ]
    },
    {
     "data": {
      "application/vnd.jupyter.widget-view+json": {
       "model_id": "8afc528648584492ab67dce4e0d8af8a"
      }
     },
     "metadata": {},
     "output_type": "display_data"
    },
    {
     "name": "stdout",
     "output_type": "stream",
     "text": [
      "Epoch 196/200\n",
      "780/781 [============================>.] - ETA: 0s - loss: 0.2441 - acc: 0.7222Epoch 00195: val_acc did not improve\n",
      "781/781 [==============================] - 45s - loss: 0.2441 - acc: 0.7222 - val_loss: 0.7647 - val_acc: 0.8156\n"
     ]
    },
    {
     "data": {
      "application/vnd.jupyter.widget-view+json": {
       "model_id": "b75bc92678ba42e4ad9787ec202e7ce6"
      }
     },
     "metadata": {},
     "output_type": "display_data"
    },
    {
     "name": "stdout",
     "output_type": "stream",
     "text": [
      "Epoch 197/200\n",
      "780/781 [============================>.] - ETA: 0s - loss: 0.2426 - acc: 0.7215Epoch 00196: val_acc did not improve\n",
      "781/781 [==============================] - 45s - loss: 0.2427 - acc: 0.7214 - val_loss: 0.7776 - val_acc: 0.8158\n"
     ]
    },
    {
     "data": {
      "application/vnd.jupyter.widget-view+json": {
       "model_id": "f3004ea8fef9427682c32add559b4ba5"
      }
     },
     "metadata": {},
     "output_type": "display_data"
    },
    {
     "name": "stdout",
     "output_type": "stream",
     "text": [
      "Epoch 198/200\n",
      "780/781 [============================>.] - ETA: 0s - loss: 0.2394 - acc: 0.7232Epoch 00197: val_acc did not improve\n",
      "781/781 [==============================] - 45s - loss: 0.2394 - acc: 0.7231 - val_loss: 0.8024 - val_acc: 0.8150\n"
     ]
    },
    {
     "data": {
      "application/vnd.jupyter.widget-view+json": {
       "model_id": "814616cdc6b54ff78882144213cff653"
      }
     },
     "metadata": {},
     "output_type": "display_data"
    },
    {
     "name": "stdout",
     "output_type": "stream",
     "text": [
      "Epoch 199/200\n",
      "780/781 [============================>.] - ETA: 0s - loss: 0.2450 - acc: 0.7205Epoch 00198: val_acc did not improve\n",
      "781/781 [==============================] - 46s - loss: 0.2450 - acc: 0.7205 - val_loss: 0.7785 - val_acc: 0.8164\n"
     ]
    },
    {
     "data": {
      "application/vnd.jupyter.widget-view+json": {
       "model_id": "aadf73011cfe4b0e9ad9baf9405f30af"
      }
     },
     "metadata": {},
     "output_type": "display_data"
    },
    {
     "name": "stdout",
     "output_type": "stream",
     "text": [
      "Epoch 200/200\n",
      "780/781 [============================>.] - ETA: 0s - loss: 0.2433 - acc: 0.7215Epoch 00199: val_acc did not improve\n",
      "781/781 [==============================] - 45s - loss: 0.2432 - acc: 0.7216 - val_loss: 0.7959 - val_acc: 0.8146\n",
      "\n"
     ]
    }
   ],
   "source": [
    "if not data_augmentation:\n",
    "    print('No data augmentation applied.')\n",
    "    model.fit(x_train, y_train,\n",
    "              batch_size=batch_size,\n",
    "              epochs=epochs,\n",
    "              validation_data=(x_test, y_test),\n",
    "              class_weight=class_weight,\n",
    "              shuffle=True,\n",
    "              callbacks=[csv_logger, checkpointer, early_stopper]) \n",
    "else:\n",
    "    print('Using real-time data augmentation.')\n",
    "    # This will do preprocessing and realtime data augmentation:\n",
    "    datagen = ImageDataGenerator(\n",
    "        featurewise_center=False,  # set input mean to 0 over the dataset\n",
    "        samplewise_center=False,  # set each sample mean to 0\n",
    "        featurewise_std_normalization=False,  # divide inputs by std\n",
    "        samplewise_std_normalization=False,  # divide each input by its std\n",
    "        zca_whitening=False,  # apply ZCA whitening\n",
    "        # randomly rotate images in the range (degrees, 0 to 180)\n",
    "        rotation_range=0,\n",
    "        # randomly shift images horizontally (fraction of total width)\n",
    "        width_shift_range=0.1,\n",
    "        # randomly shift images vertically (fraction of total height)\n",
    "        height_shift_range=0.1,\n",
    "        horizontal_flip=True,  # randomly flip images\n",
    "        vertical_flip=False)  # randomly flip images\n",
    "\n",
    "    # Compute quantities required for feature-wise normalization\n",
    "    # (std, mean, and principal components if ZCA whitening is applied).\n",
    "    datagen.fit(x_train)\n",
    "\n",
    "    # Fit the model on the batches generated by datagen.flow().\n",
    "    model.fit_generator(datagen.flow(x_train, y_train_pu[pct_missing],\n",
    "                                     batch_size=batch_size, shuffle=True),\n",
    "                        steps_per_epoch=x_train.shape[0] // batch_size,\n",
    "                        epochs=epochs,\n",
    "                        validation_data=(x_test, y_test),\n",
    "                        class_weight=class_weight,\n",
    "                        callbacks=[csv_logger, checkpointer, early_stopper,\n",
    "                                   lr_reducer, TQDMNotebookCallback(),\n",
    "                                  loss_switch])\n",
    "    model.save('{}_eu_{}.h5'.format(title, pct_missing))\n",
    "    \n",
    "    # Predict\n",
    "    y_train_pred_enc = model.predict(x_train)\n",
    "    y_test_pred_enc = model.predict(x_test)\n",
    "    \n",
    "    lst = []\n",
    "    y_train_pred = np.argmax(y_train_pred_enc, axis=-1)\n",
    "    y_train_true = np.argmax(y_train, axis=-1)\n",
    "    y_train_label = np.argmax(y_train_pu[pct_missing], axis=-1)\n",
    "    for y_pred, y_true, y_label in zip(y_train_pred, y_train_true, y_train_label):\n",
    "        lst.append(dict(y_pred=y_pred, y_true=y_true, y_label=y_label, split='train'))\n",
    "\n",
    "    y_test_pred = np.argmax(y_test_pred_enc, axis=-1)\n",
    "    y_test_true = np.argmax(y_test, axis=-1)\n",
    "    for y_pred, y_true in zip(y_test_pred, y_test_true):\n",
    "        lst.append(dict(y_pred=y_pred, y_true=y_true, y_label=y_true, split='test'))\n",
    "    \n",
    "    df = pd.DataFrame(lst)\n",
    "    df.to_csv('prediction_{}_eu_{}.csv'.format(title, pct_missing), index=False, mode='a')"
   ]
  },
  {
   "cell_type": "code",
   "execution_count": null,
   "metadata": {
    "collapsed": true
   },
   "outputs": [],
   "source": []
  }
 ],
 "metadata": {
  "kernelspec": {
   "display_name": "Python 2",
   "language": "python",
   "name": "python2"
  },
  "language_info": {
   "codemirror_mode": {
    "name": "ipython",
    "version": 2
   },
   "file_extension": ".py",
   "mimetype": "text/x-python",
   "name": "python",
   "nbconvert_exporter": "python",
   "pygments_lexer": "ipython2",
   "version": "2.7.12"
  }
 },
 "nbformat": 4,
 "nbformat_minor": 2
}
