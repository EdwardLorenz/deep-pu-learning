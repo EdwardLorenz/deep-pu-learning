{
 "cells": [
  {
   "cell_type": "code",
   "execution_count": 8,
   "metadata": {
    "collapsed": true
   },
   "outputs": [],
   "source": [
    "import pandas as pd\n",
    "from sklearn import metrics"
   ]
  },
  {
   "cell_type": "code",
   "execution_count": 24,
   "metadata": {},
   "outputs": [
    {
     "name": "stdout",
     "output_type": "stream",
     "text": [
      "['logs/round1/prediction_cifar110_vgg8.csv', 'logs/round2/prediction_cifar110_vgg8.csv']\n"
     ]
    }
   ],
   "source": [
    "dataset = 'cifar110'\n",
    "model = 'vgg8'\n",
    "method = 'complete'\n",
    "pct_missing = 0.\n",
    "rounds = ['round1', 'round2']\n",
    "predictions = [\n",
    "    'logs/{}/prediction_{}_{}.csv'.format(rnd, dataset, model)\n",
    "    for rnd in rounds]\n",
    "evaluation = 'logs/evaluation_{}_{}.csv'.format(dataset, model)\n",
    "print(predictions)"
   ]
  },
  {
   "cell_type": "code",
   "execution_count": 29,
   "metadata": {},
   "outputs": [
    {
     "name": "stdout",
     "output_type": "stream",
     "text": [
      "['logs/round1/prediction_cifar110_vgg8_pn_0.5.csv']\n"
     ]
    }
   ],
   "source": [
    "dataset = 'cifar110'\n",
    "model = 'vgg8'\n",
    "method = 'pn'\n",
    "pct_missing = 0.5\n",
    "rounds = ['round1']\n",
    "# rounds = ['round1', 'round2', 'round3']\n",
    "predictions = [\n",
    "    'logs/{}/prediction_{}_{}_{}_{}.csv'.format(rnd, dataset, model, method, pct_missing)\n",
    "    for rnd in rounds]\n",
    "evaluation = 'logs/evaluation_{}_{}.csv'.format(dataset, model)\n",
    "print(predictions)"
   ]
  },
  {
   "cell_type": "code",
   "execution_count": 30,
   "metadata": {
    "collapsed": true
   },
   "outputs": [],
   "source": [
    "def evaluate(y_pred, y_true):\n",
    "    acc = metrics.accuracy_score(y_true, y_pred)\n",
    "    prec = metrics.precision_score(y_true, y_pred, average='macro')\n",
    "    rec = metrics.recall_score(y_true, y_pred, average='macro')\n",
    "    f1 = metrics.f1_score(y_true, y_pred, average='macro')\n",
    "    \n",
    "    return acc, prec, rec, f1"
   ]
  },
  {
   "cell_type": "code",
   "execution_count": 31,
   "metadata": {},
   "outputs": [],
   "source": [
    "records = []\n",
    "for fcsv in predictions:\n",
    "    df = pd.read_csv(fcsv)\n",
    "    train = df[df['split']=='train']\n",
    "    (acc, prec, rec, f1) = evaluate(train['y_pred'],\n",
    "                                          train['y_true'])\n",
    "    record = dict(method=method,\n",
    "                 pct_missing=pct_missing,\n",
    "                 split='train',\n",
    "                 label='true',\n",
    "                 acc=acc,\n",
    "                 prec=prec,\n",
    "                 rec=rec,\n",
    "                 f1=f1)\n",
    "    records.append(record)\n",
    "    (acc_lab, prec_lab, rec_lab, f1_lab) = evaluate(train['y_pred'],\n",
    "                                                    train['y_label'])\n",
    "    record_lab = dict(method=method,\n",
    "                 pct_missing=pct_missing,\n",
    "                 split='train',\n",
    "                 label='label',\n",
    "                 acc=acc_lab,\n",
    "                 prec=prec_lab,\n",
    "                 rec=rec_lab,\n",
    "                 f1=f1_lab)\n",
    "    records.append(record_lab)\n",
    "    \n",
    "    test = df[df['split']=='test']\n",
    "    (acc_val, prec_val, rec_val, f1_val) = evaluate(test['y_pred'], test['y_true'])\n",
    "    record_val = dict(method=method,\n",
    "                 pct_missing=pct_missing,\n",
    "                 split='test',\n",
    "                 label='true',\n",
    "                 acc=acc_val,\n",
    "                 prec=prec_val,\n",
    "                 rec=rec_val,\n",
    "                 f1=f1_val)\n",
    "    records.append(record_val)"
   ]
  },
  {
   "cell_type": "code",
   "execution_count": 32,
   "metadata": {},
   "outputs": [],
   "source": [
    "dfeval = pd.DataFrame(records)\n",
    "dfeval.to_csv(evaluation, index=False, mode='a')"
   ]
  },
  {
   "cell_type": "code",
   "execution_count": null,
   "metadata": {
    "collapsed": true
   },
   "outputs": [],
   "source": []
  }
 ],
 "metadata": {
  "kernelspec": {
   "display_name": "Python 2",
   "language": "python",
   "name": "python2"
  },
  "language_info": {
   "codemirror_mode": {
    "name": "ipython",
    "version": 2
   },
   "file_extension": ".py",
   "mimetype": "text/x-python",
   "name": "python",
   "nbconvert_exporter": "python",
   "pygments_lexer": "ipython2",
   "version": "2.7.12"
  }
 },
 "nbformat": 4,
 "nbformat_minor": 2
}
