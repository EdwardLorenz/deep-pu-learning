{
 "cells": [
  {
   "cell_type": "code",
   "execution_count": 1,
   "metadata": {},
   "outputs": [
    {
     "name": "stderr",
     "output_type": "stream",
     "text": [
      "Using TensorFlow backend.\n"
     ]
    }
   ],
   "source": [
    "from __future__ import (print_function, absolute_import)\n",
    "import os\n",
    "import numpy as np\n",
    "import pandas as pd\n",
    "import keras\n",
    "import keras.backend as K\n",
    "from keras import datasets\n",
    "from keras.preprocessing.image import ImageDataGenerator\n",
    "from keras.models import load_model\n",
    "\n",
    "from models import CNN, VGG8\n",
    "from wide_resnet import WideResidualNetwork\n",
    "from pulearn.utils import synthesize_pu_labels\n",
    "\n",
    "from keras.callbacks import (\n",
    "    ReduceLROnPlateau,\n",
    "    LearningRateScheduler,\n",
    "    CSVLogger,\n",
    "    EarlyStopping,\n",
    "    ModelCheckpoint)\n",
    "\n",
    "from keras_tqdm import TQDMNotebookCallback\n",
    "\n",
    "import tensorflow as tf\n",
    "\n",
    "os.environ[\"CUDA_VISIBLE_DEVICES\"]=\"1\"\n",
    "\n",
    "global _SESSION\n",
    "config = tf.ConfigProto(allow_soft_placement=True)\n",
    "config.gpu_options.allow_growth = True\n",
    "_SESSION = tf.Session(config=config)\n",
    "K.set_session(_SESSION)"
   ]
  },
  {
   "cell_type": "markdown",
   "metadata": {},
   "source": [
    "# CIFAR110"
   ]
  },
  {
   "cell_type": "code",
   "execution_count": 2,
   "metadata": {
    "collapsed": true
   },
   "outputs": [],
   "source": [
    "num_classes = 11\n",
    "batch_size = 128\n",
    "epochs = 200\n",
    "data_augmentation = True\n",
    "checkpoint = None\n",
    "# checkpoint = 'model_checkpoint_cifar10_wide_resnet.h5'\n",
    "title = 'cifar110_vgg8'\n",
    "# title = 'cifar110_wide_resnet'"
   ]
  },
  {
   "cell_type": "code",
   "execution_count": 3,
   "metadata": {
    "collapsed": true
   },
   "outputs": [],
   "source": [
    "(x_train_10, y_train_10), (x_test_10, y_test_10) = datasets.cifar10.load_data()\n",
    "(x_train_100, y_train_100), (x_test_100, y_test_100) = datasets.cifar100.load_data()\n",
    "\n",
    "y_train_10 = y_train_10 + 1\n",
    "y_test_10 = y_test_10 + 1\n",
    "y_train_100[...] = 0\n",
    "y_test_100[...] = 0\n",
    "\n",
    "x_train = np.concatenate((x_train_10, x_train_100), axis=0).astype('float32')\n",
    "y_train = np.concatenate((y_train_10, y_train_100), axis=0).astype('int8')\n",
    "x_test = np.concatenate((x_test_10, x_test_100), axis=0).astype('float32')\n",
    "y_test = np.concatenate((y_test_10, y_test_100), axis=0).astype('int8')\n",
    "\n",
    "x_train = x_train.astype(K.floatx())\n",
    "x_test = x_test.astype(K.floatx())\n",
    "\n",
    "y_train = keras.utils.to_categorical(y_train, num_classes)\n",
    "y_test = keras.utils.to_categorical(y_test, num_classes)\n",
    "\n",
    "def normalize(x):\n",
    "    \"\"\"Substract mean and Divide by std.\"\"\"\n",
    "    x -= np.array([125.3, 123.0, 113.9], dtype=K.floatx())\n",
    "    x /= np.array([63.0, 62.1, 66.7], dtype=K.floatx())\n",
    "    return x\n",
    "\n",
    "\n",
    "x_train = normalize(x_train)\n",
    "x_test = normalize(x_test)\n"
   ]
  },
  {
   "cell_type": "code",
   "execution_count": 4,
   "metadata": {},
   "outputs": [
    {
     "name": "stdout",
     "output_type": "stream",
     "text": [
      "(100000, 32, 32, 3) (100000, 11)\n",
      "(20000, 32, 32, 3) (20000, 11)\n"
     ]
    }
   ],
   "source": [
    "print(x_train.shape, y_train.shape)\n",
    "print(x_test.shape, y_test.shape)"
   ]
  },
  {
   "cell_type": "code",
   "execution_count": 5,
   "metadata": {},
   "outputs": [
    {
     "name": "stdout",
     "output_type": "stream",
     "text": [
      "('Positive (pct_missing=0.0):', 50000, ' -> ', 50000)\n",
      "('Positive (pct_missing=0.1):', 50000, ' -> ', 44990)\n",
      "('Positive (pct_missing=0.2):', 50000, ' -> ', 39992)\n",
      "('Positive (pct_missing=0.3):', 50000, ' -> ', 34902)\n",
      "('Positive (pct_missing=0.4):', 50000, ' -> ', 30043)\n",
      "('Positive (pct_missing=0.5):', 50000, ' -> ', 24968)\n",
      "('Positive (pct_missing=0.6):', 50000, ' -> ', 19937)\n",
      "('Positive (pct_missing=0.7):', 50000, ' -> ', 14896)\n",
      "('Positive (pct_missing=0.8):', 50000, ' -> ', 10153)\n",
      "('Positive (pct_missing=0.9):', 50000, ' -> ', 4902)\n",
      "('Positive (pct_missing=1.0):', 50000, ' -> ', 0)\n",
      "class_weight {0: 0.33319117176671287, 1: 2.0025632809996794, 2: 2.0025632809996794, 3: 2.0025632809996794, 4: 2.0025632809996794, 5: 2.0025632809996794, 6: 2.0025632809996794, 7: 2.0025632809996794, 8: 2.0025632809996794, 9: 2.0025632809996794, 10: 2.0025632809996794}\n"
     ]
    }
   ],
   "source": [
    "pct_missing = 0.5\n",
    "y_train_pu = synthesize_pu_labels(y_train, random_state=42, verbose=True)\n",
    "\n",
    "y_train_enc = y_train_pu[pct_missing]\n",
    "from sklearn.utils import class_weight\n",
    "y_train_dec = 1 - y_train_enc[:, 0]\n",
    "class_weights = class_weight.compute_class_weight('balanced',\n",
    "                                                 [0, 1],\n",
    "                                                 y_train_dec)\n",
    "class_weight = {}\n",
    "class_weight[0] = class_weights[0]\n",
    "for k in range(1, num_classes):\n",
    "    class_weight[k] = class_weights[1]\n",
    "\n",
    "# pu_ratio = np.sum(y_train_enc[:, 1:]) / np.sum(y_train_enc[:, 0])\n",
    "\n",
    "# class_weight = {0: 1}\n",
    "# for k in range(1, num_classes):\n",
    "#     class_weight[k] = 1 / pu_ratio\n",
    "\n",
    "class_weight[0] = class_weight[0] * 0.5\n",
    "print('class_weight', class_weight)"
   ]
  },
  {
   "cell_type": "code",
   "execution_count": 6,
   "metadata": {},
   "outputs": [
    {
     "name": "stdout",
     "output_type": "stream",
     "text": [
      "_________________________________________________________________\n",
      "Layer (type)                 Output Shape              Param #   \n",
      "=================================================================\n",
      "conv2d_1 (Conv2D)            (None, 32, 32, 32)        896       \n",
      "_________________________________________________________________\n",
      "leaky_re_lu_1 (LeakyReLU)    (None, 32, 32, 32)        0         \n",
      "_________________________________________________________________\n",
      "conv2d_2 (Conv2D)            (None, 32, 32, 32)        9248      \n",
      "_________________________________________________________________\n",
      "leaky_re_lu_2 (LeakyReLU)    (None, 32, 32, 32)        0         \n",
      "_________________________________________________________________\n",
      "max_pooling2d_1 (MaxPooling2 (None, 16, 16, 32)        0         \n",
      "_________________________________________________________________\n",
      "dropout_1 (Dropout)          (None, 16, 16, 32)        0         \n",
      "_________________________________________________________________\n",
      "conv2d_3 (Conv2D)            (None, 16, 16, 64)        18496     \n",
      "_________________________________________________________________\n",
      "leaky_re_lu_3 (LeakyReLU)    (None, 16, 16, 64)        0         \n",
      "_________________________________________________________________\n",
      "conv2d_4 (Conv2D)            (None, 16, 16, 64)        36928     \n",
      "_________________________________________________________________\n",
      "leaky_re_lu_4 (LeakyReLU)    (None, 16, 16, 64)        0         \n",
      "_________________________________________________________________\n",
      "max_pooling2d_2 (MaxPooling2 (None, 8, 8, 64)          0         \n",
      "_________________________________________________________________\n",
      "dropout_2 (Dropout)          (None, 8, 8, 64)          0         \n",
      "_________________________________________________________________\n",
      "conv2d_5 (Conv2D)            (None, 8, 8, 128)         73856     \n",
      "_________________________________________________________________\n",
      "leaky_re_lu_5 (LeakyReLU)    (None, 8, 8, 128)         0         \n",
      "_________________________________________________________________\n",
      "conv2d_6 (Conv2D)            (None, 8, 8, 128)         147584    \n",
      "_________________________________________________________________\n",
      "leaky_re_lu_6 (LeakyReLU)    (None, 8, 8, 128)         0         \n",
      "_________________________________________________________________\n",
      "max_pooling2d_3 (MaxPooling2 (None, 4, 4, 128)         0         \n",
      "_________________________________________________________________\n",
      "dropout_3 (Dropout)          (None, 4, 4, 128)         0         \n",
      "_________________________________________________________________\n",
      "flatten_1 (Flatten)          (None, 2048)              0         \n",
      "_________________________________________________________________\n",
      "dense_1 (Dense)              (None, 512)               1049088   \n",
      "_________________________________________________________________\n",
      "activation_1 (Activation)    (None, 512)               0         \n",
      "_________________________________________________________________\n",
      "dense_2 (Dense)              (None, 11)                5643      \n",
      "_________________________________________________________________\n",
      "activation_2 (Activation)    (None, 11)                0         \n",
      "=================================================================\n",
      "Total params: 1,341,739\n",
      "Trainable params: 1,341,739\n",
      "Non-trainable params: 0\n",
      "_________________________________________________________________\n"
     ]
    }
   ],
   "source": [
    "if title == 'cifar110_vgg8':\n",
    "    model = VGG8(input_shape=x_train.shape[1:], num_classes=num_classes)\n",
    "elif title == 'cifar110_wide_resnet':\n",
    "    model = WideResidualNetwork(depth=28, width=8, dropout_rate=0.5,\n",
    "                                classes=num_classes, include_top=True,\n",
    "                                weights=None)\n",
    "if checkpoint is not None:\n",
    "    model = load_model(checkpoint)\n",
    "    \n",
    "optimizer = keras.optimizers.Adam(lr=1e-4)\n",
    "model.compile(loss='categorical_crossentropy',\n",
    "              optimizer=optimizer,\n",
    "              metrics=['accuracy'])\n",
    "model.summary()"
   ]
  },
  {
   "cell_type": "code",
   "execution_count": 7,
   "metadata": {
    "collapsed": true
   },
   "outputs": [],
   "source": [
    "# Checkpoint\n",
    "checkpointer = ModelCheckpoint(\n",
    "    monitor='val_acc',\n",
    "    filepath=\"model_checkpoint_{}_wu_{}.h5\".format(title, pct_missing),\n",
    "    verbose=1,\n",
    "    save_best_only=True)\n",
    "\n",
    "# csvlogger\n",
    "csv_logger = CSVLogger(\n",
    "    'csv_logger_{}_wu_{}.csv'.format(title, pct_missing))\n",
    "\n",
    "# EarlyStopping\n",
    "early_stopper = EarlyStopping(monitor='val_acc',\n",
    "                              min_delta=0.001,\n",
    "                              patience=50)\n",
    "# Reduce lr with schedule\n",
    "# def schedule(epoch):\n",
    "#     lr = K.get_value(model.optimizer.lr)\n",
    "#     if epoch in [60, 120, 160]:\n",
    "#         lr = lr * np.sqrt(0.1)\n",
    "#     return lr\n",
    "# lr_scheduler = LearningRateScheduler(schedule)\n",
    "\n",
    "# Reduce lr on plateau\n",
    "lr_reducer = ReduceLROnPlateau(monitor='val_acc',\n",
    "                               factor=np.sqrt(0.1),\n",
    "                               cooldown=0,\n",
    "                               patience=20,\n",
    "                               min_lr=1e-6)"
   ]
  },
  {
   "cell_type": "code",
   "execution_count": 8,
   "metadata": {},
   "outputs": [
    {
     "name": "stdout",
     "output_type": "stream",
     "text": [
      "Using real-time data augmentation.\n"
     ]
    },
    {
     "data": {
      "application/vnd.jupyter.widget-view+json": {
       "model_id": "d5e4935ab2a74ce29d76f93b236c397e"
      }
     },
     "metadata": {},
     "output_type": "display_data"
    },
    {
     "data": {
      "application/vnd.jupyter.widget-view+json": {
       "model_id": "45d8550dde7044be9839090cb49a54eb"
      }
     },
     "metadata": {},
     "output_type": "display_data"
    },
    {
     "name": "stdout",
     "output_type": "stream",
     "text": [
      "Epoch 1/200\n",
      "780/781 [============================>.] - ETA: 0s - loss: 1.3504 - acc: 0.6328Epoch 00000: val_acc improved from -inf to 0.50960, saving model to model_checkpoint_cifar110_vgg8_wu_0.5.h5\n",
      "781/781 [==============================] - 91s - loss: 1.3503 - acc: 0.6326 - val_loss: 1.4612 - val_acc: 0.5096\n"
     ]
    },
    {
     "data": {
      "application/vnd.jupyter.widget-view+json": {
       "model_id": "ea2ed43c95ef4da2879c79a2f7888728"
      }
     },
     "metadata": {},
     "output_type": "display_data"
    },
    {
     "name": "stdout",
     "output_type": "stream",
     "text": [
      "Epoch 2/200\n",
      "780/781 [============================>.] - ETA: 0s - loss: 1.1681 - acc: 0.5939Epoch 00001: val_acc improved from 0.50960 to 0.58160, saving model to model_checkpoint_cifar110_vgg8_wu_0.5.h5\n",
      "781/781 [==============================] - 90s - loss: 1.1679 - acc: 0.5939 - val_loss: 1.2715 - val_acc: 0.5816\n"
     ]
    },
    {
     "data": {
      "application/vnd.jupyter.widget-view+json": {
       "model_id": "c16840c9d1c74c93944c518e7f6f1b01"
      }
     },
     "metadata": {},
     "output_type": "display_data"
    },
    {
     "name": "stdout",
     "output_type": "stream",
     "text": [
      "Epoch 3/200\n",
      "780/781 [============================>.] - ETA: 0s - loss: 1.0873 - acc: 0.5906Epoch 00002: val_acc improved from 0.58160 to 0.59770, saving model to model_checkpoint_cifar110_vgg8_wu_0.5.h5\n",
      "781/781 [==============================] - 90s - loss: 1.0870 - acc: 0.5905 - val_loss: 1.1964 - val_acc: 0.5977\n"
     ]
    },
    {
     "data": {
      "application/vnd.jupyter.widget-view+json": {
       "model_id": "a3c12284fa094b8394e0adf041d6c782"
      }
     },
     "metadata": {},
     "output_type": "display_data"
    },
    {
     "name": "stdout",
     "output_type": "stream",
     "text": [
      "Epoch 4/200\n",
      "780/781 [============================>.] - ETA: 0s - loss: 1.0190 - acc: 0.5894Epoch 00003: val_acc improved from 0.59770 to 0.61615, saving model to model_checkpoint_cifar110_vgg8_wu_0.5.h5\n",
      "781/781 [==============================] - 89s - loss: 1.0190 - acc: 0.5894 - val_loss: 1.1308 - val_acc: 0.6161\n"
     ]
    },
    {
     "data": {
      "application/vnd.jupyter.widget-view+json": {
       "model_id": "2a945105e0db4831bc6915560730d4e2"
      }
     },
     "metadata": {},
     "output_type": "display_data"
    },
    {
     "name": "stdout",
     "output_type": "stream",
     "text": [
      "Epoch 5/200\n",
      "780/781 [============================>.] - ETA: 0s - loss: 0.9713 - acc: 0.5894Epoch 00004: val_acc improved from 0.61615 to 0.63115, saving model to model_checkpoint_cifar110_vgg8_wu_0.5.h5\n",
      "781/781 [==============================] - 89s - loss: 0.9711 - acc: 0.5895 - val_loss: 1.0726 - val_acc: 0.6311\n"
     ]
    },
    {
     "data": {
      "application/vnd.jupyter.widget-view+json": {
       "model_id": "d9ab75098c00447a94f00a88817a2629"
      }
     },
     "metadata": {},
     "output_type": "display_data"
    },
    {
     "name": "stdout",
     "output_type": "stream",
     "text": [
      "Epoch 6/200\n",
      "780/781 [============================>.] - ETA: 0s - loss: 0.9274 - acc: 0.5961Epoch 00005: val_acc improved from 0.63115 to 0.65345, saving model to model_checkpoint_cifar110_vgg8_wu_0.5.h5\n",
      "781/781 [==============================] - 90s - loss: 0.9273 - acc: 0.5961 - val_loss: 1.0241 - val_acc: 0.6534\n"
     ]
    },
    {
     "data": {
      "application/vnd.jupyter.widget-view+json": {
       "model_id": "8bf4e23f9e604a39b120e2dd83f4de66"
      }
     },
     "metadata": {},
     "output_type": "display_data"
    },
    {
     "name": "stdout",
     "output_type": "stream",
     "text": [
      "Epoch 7/200\n",
      "780/781 [============================>.] - ETA: 0s - loss: 0.8970 - acc: 0.5985Epoch 00006: val_acc improved from 0.65345 to 0.66000, saving model to model_checkpoint_cifar110_vgg8_wu_0.5.h5\n",
      "781/781 [==============================] - 90s - loss: 0.8970 - acc: 0.5986 - val_loss: 0.9950 - val_acc: 0.6600\n"
     ]
    },
    {
     "data": {
      "application/vnd.jupyter.widget-view+json": {
       "model_id": "e46c1e8b09e4434996df94ca6b3d985d"
      }
     },
     "metadata": {},
     "output_type": "display_data"
    },
    {
     "name": "stdout",
     "output_type": "stream",
     "text": [
      "Epoch 8/200\n",
      "780/781 [============================>.] - ETA: 0s - loss: 0.8664 - acc: 0.6014Epoch 00007: val_acc did not improve\n",
      "781/781 [==============================] - 90s - loss: 0.8662 - acc: 0.6014 - val_loss: 0.9794 - val_acc: 0.6514\n"
     ]
    },
    {
     "data": {
      "application/vnd.jupyter.widget-view+json": {
       "model_id": "74ea2e20bfcd4b65879e7d9b08a50c0e"
      }
     },
     "metadata": {},
     "output_type": "display_data"
    },
    {
     "name": "stdout",
     "output_type": "stream",
     "text": [
      "Epoch 9/200\n",
      "780/781 [============================>.] - ETA: 0s - loss: 0.8399 - acc: 0.6026Epoch 00008: val_acc improved from 0.66000 to 0.67875, saving model to model_checkpoint_cifar110_vgg8_wu_0.5.h5\n",
      "781/781 [==============================] - 89s - loss: 0.8399 - acc: 0.6026 - val_loss: 0.9306 - val_acc: 0.6787\n"
     ]
    },
    {
     "data": {
      "application/vnd.jupyter.widget-view+json": {
       "model_id": "8caa5eeb7b3540b5af266016413ecbe6"
      }
     },
     "metadata": {},
     "output_type": "display_data"
    },
    {
     "name": "stdout",
     "output_type": "stream",
     "text": [
      "Epoch 10/200\n",
      "780/781 [============================>.] - ETA: 0s - loss: 0.8156 - acc: 0.6075Epoch 00009: val_acc improved from 0.67875 to 0.68315, saving model to model_checkpoint_cifar110_vgg8_wu_0.5.h5\n",
      "781/781 [==============================] - 90s - loss: 0.8153 - acc: 0.6076 - val_loss: 0.9016 - val_acc: 0.6832\n"
     ]
    },
    {
     "data": {
      "application/vnd.jupyter.widget-view+json": {
       "model_id": "35988f1af1fc4d1bb904564264d913d2"
      }
     },
     "metadata": {},
     "output_type": "display_data"
    },
    {
     "name": "stdout",
     "output_type": "stream",
     "text": [
      "Epoch 11/200\n",
      "780/781 [============================>.] - ETA: 0s - loss: 0.7910 - acc: 0.6138Epoch 00010: val_acc improved from 0.68315 to 0.68410, saving model to model_checkpoint_cifar110_vgg8_wu_0.5.h5\n",
      "781/781 [==============================] - 89s - loss: 0.7912 - acc: 0.6138 - val_loss: 0.9060 - val_acc: 0.6841\n"
     ]
    },
    {
     "data": {
      "application/vnd.jupyter.widget-view+json": {
       "model_id": "34612263ed6b45dba9ee90a4cfafecf4"
      }
     },
     "metadata": {},
     "output_type": "display_data"
    },
    {
     "name": "stdout",
     "output_type": "stream",
     "text": [
      "Epoch 12/200\n",
      "780/781 [============================>.] - ETA: 0s - loss: 0.7743 - acc: 0.6137Epoch 00011: val_acc improved from 0.68410 to 0.69500, saving model to model_checkpoint_cifar110_vgg8_wu_0.5.h5\n",
      "781/781 [==============================] - 90s - loss: 0.7746 - acc: 0.6138 - val_loss: 0.8707 - val_acc: 0.6950\n"
     ]
    },
    {
     "data": {
      "application/vnd.jupyter.widget-view+json": {
       "model_id": "cbc101180cf44c4c80d3ef62747399a9"
      }
     },
     "metadata": {},
     "output_type": "display_data"
    },
    {
     "name": "stdout",
     "output_type": "stream",
     "text": [
      "Epoch 13/200\n",
      "780/781 [============================>.] - ETA: 0s - loss: 0.7610 - acc: 0.6185Epoch 00012: val_acc improved from 0.69500 to 0.70160, saving model to model_checkpoint_cifar110_vgg8_wu_0.5.h5\n",
      "781/781 [==============================] - 89s - loss: 0.7611 - acc: 0.6184 - val_loss: 0.8675 - val_acc: 0.7016\n"
     ]
    },
    {
     "data": {
      "application/vnd.jupyter.widget-view+json": {
       "model_id": "a83f4bf443a64232872622e8c2ede3ee"
      }
     },
     "metadata": {},
     "output_type": "display_data"
    },
    {
     "name": "stdout",
     "output_type": "stream",
     "text": [
      "Epoch 14/200\n",
      "780/781 [============================>.] - ETA: 0s - loss: 0.7424 - acc: 0.6219Epoch 00013: val_acc did not improve\n",
      "781/781 [==============================] - 89s - loss: 0.7423 - acc: 0.6219 - val_loss: 0.8474 - val_acc: 0.7008\n"
     ]
    },
    {
     "data": {
      "application/vnd.jupyter.widget-view+json": {
       "model_id": "4af4dc8530f44c2282e0be4109ff066e"
      }
     },
     "metadata": {},
     "output_type": "display_data"
    },
    {
     "name": "stdout",
     "output_type": "stream",
     "text": [
      "Epoch 15/200\n",
      "780/781 [============================>.] - ETA: 0s - loss: 0.7283 - acc: 0.6238Epoch 00014: val_acc improved from 0.70160 to 0.71015, saving model to model_checkpoint_cifar110_vgg8_wu_0.5.h5\n",
      "781/781 [==============================] - 90s - loss: 0.7282 - acc: 0.6238 - val_loss: 0.8280 - val_acc: 0.7101\n"
     ]
    },
    {
     "data": {
      "application/vnd.jupyter.widget-view+json": {
       "model_id": "d3611756de5c43a683cef5c4465c86a3"
      }
     },
     "metadata": {},
     "output_type": "display_data"
    },
    {
     "name": "stdout",
     "output_type": "stream",
     "text": [
      "Epoch 16/200\n",
      "780/781 [============================>.] - ETA: 0s - loss: 0.7122 - acc: 0.6255Epoch 00015: val_acc improved from 0.71015 to 0.71450, saving model to model_checkpoint_cifar110_vgg8_wu_0.5.h5\n",
      "781/781 [==============================] - 89s - loss: 0.7122 - acc: 0.6255 - val_loss: 0.8275 - val_acc: 0.7145\n"
     ]
    },
    {
     "data": {
      "application/vnd.jupyter.widget-view+json": {
       "model_id": "cbe16fcb1a2644a2baa65fba19f6a382"
      }
     },
     "metadata": {},
     "output_type": "display_data"
    },
    {
     "name": "stdout",
     "output_type": "stream",
     "text": [
      "Epoch 17/200\n",
      "780/781 [============================>.] - ETA: 0s - loss: 0.6998 - acc: 0.6297Epoch 00016: val_acc improved from 0.71450 to 0.71700, saving model to model_checkpoint_cifar110_vgg8_wu_0.5.h5\n",
      "781/781 [==============================] - 90s - loss: 0.6999 - acc: 0.6297 - val_loss: 0.8112 - val_acc: 0.7170\n"
     ]
    },
    {
     "data": {
      "application/vnd.jupyter.widget-view+json": {
       "model_id": "773bebe54cbf47d1a84eae7209d15fb1"
      }
     },
     "metadata": {},
     "output_type": "display_data"
    },
    {
     "name": "stdout",
     "output_type": "stream",
     "text": [
      "Epoch 18/200\n",
      "780/781 [============================>.] - ETA: 0s - loss: 0.6866 - acc: 0.6304Epoch 00017: val_acc improved from 0.71700 to 0.71710, saving model to model_checkpoint_cifar110_vgg8_wu_0.5.h5\n",
      "781/781 [==============================] - 90s - loss: 0.6868 - acc: 0.6304 - val_loss: 0.8164 - val_acc: 0.7171\n"
     ]
    },
    {
     "data": {
      "application/vnd.jupyter.widget-view+json": {
       "model_id": "e6c64cb2e1b94ab6ab7f64617e91710d"
      }
     },
     "metadata": {},
     "output_type": "display_data"
    },
    {
     "name": "stdout",
     "output_type": "stream",
     "text": [
      "Epoch 19/200\n",
      "780/781 [============================>.] - ETA: 0s - loss: 0.6741 - acc: 0.6349Epoch 00018: val_acc improved from 0.71710 to 0.72940, saving model to model_checkpoint_cifar110_vgg8_wu_0.5.h5\n",
      "781/781 [==============================] - 90s - loss: 0.6739 - acc: 0.6349 - val_loss: 0.7891 - val_acc: 0.7294\n"
     ]
    },
    {
     "data": {
      "application/vnd.jupyter.widget-view+json": {
       "model_id": "f4a2843eaa624df5b633f0cba47b9146"
      }
     },
     "metadata": {},
     "output_type": "display_data"
    },
    {
     "name": "stdout",
     "output_type": "stream",
     "text": [
      "Epoch 20/200\n",
      "780/781 [============================>.] - ETA: 0s - loss: 0.6599 - acc: 0.6382Epoch 00019: val_acc did not improve\n",
      "781/781 [==============================] - 90s - loss: 0.6602 - acc: 0.6382 - val_loss: 0.7975 - val_acc: 0.7215\n"
     ]
    },
    {
     "data": {
      "application/vnd.jupyter.widget-view+json": {
       "model_id": "65c5f8ebf3ba48758bc5ab0a1e050734"
      }
     },
     "metadata": {},
     "output_type": "display_data"
    },
    {
     "name": "stdout",
     "output_type": "stream",
     "text": [
      "Epoch 21/200\n",
      "780/781 [============================>.] - ETA: 0s - loss: 0.6521 - acc: 0.6405Epoch 00020: val_acc improved from 0.72940 to 0.73100, saving model to model_checkpoint_cifar110_vgg8_wu_0.5.h5\n",
      "781/781 [==============================] - 91s - loss: 0.6519 - acc: 0.6405 - val_loss: 0.7753 - val_acc: 0.7310\n"
     ]
    },
    {
     "data": {
      "application/vnd.jupyter.widget-view+json": {
       "model_id": "3a7377358db94e3d9d9c5e505661f8aa"
      }
     },
     "metadata": {},
     "output_type": "display_data"
    },
    {
     "name": "stdout",
     "output_type": "stream",
     "text": [
      "Epoch 22/200\n",
      "780/781 [============================>.] - ETA: 0s - loss: 0.6371 - acc: 0.6456Epoch 00021: val_acc did not improve\n",
      "781/781 [==============================] - 89s - loss: 0.6371 - acc: 0.6456 - val_loss: 0.7969 - val_acc: 0.7199\n"
     ]
    },
    {
     "data": {
      "application/vnd.jupyter.widget-view+json": {
       "model_id": "3ee99f32af4a4c5f959134ace8da4343"
      }
     },
     "metadata": {},
     "output_type": "display_data"
    },
    {
     "name": "stdout",
     "output_type": "stream",
     "text": [
      "Epoch 23/200\n",
      "780/781 [============================>.] - ETA: 0s - loss: 0.6309 - acc: 0.6471Epoch 00022: val_acc did not improve\n",
      "781/781 [==============================] - 89s - loss: 0.6313 - acc: 0.6470 - val_loss: 0.7774 - val_acc: 0.7309\n"
     ]
    },
    {
     "data": {
      "application/vnd.jupyter.widget-view+json": {
       "model_id": "91232e0227a84d8ba7e161e6c0b19987"
      }
     },
     "metadata": {},
     "output_type": "display_data"
    },
    {
     "name": "stdout",
     "output_type": "stream",
     "text": [
      "Epoch 24/200\n",
      "780/781 [============================>.] - ETA: 0s - loss: 0.6197 - acc: 0.6490Epoch 00023: val_acc did not improve\n",
      "781/781 [==============================] - 90s - loss: 0.6195 - acc: 0.6490 - val_loss: 0.7757 - val_acc: 0.7259\n"
     ]
    },
    {
     "data": {
      "application/vnd.jupyter.widget-view+json": {
       "model_id": "1fffd800708540b1ae468e1deb50547b"
      }
     },
     "metadata": {},
     "output_type": "display_data"
    },
    {
     "name": "stdout",
     "output_type": "stream",
     "text": [
      "Epoch 25/200\n",
      "780/781 [============================>.] - ETA: 0s - loss: 0.6103 - acc: 0.6524Epoch 00024: val_acc did not improve\n",
      "781/781 [==============================] - 90s - loss: 0.6103 - acc: 0.6524 - val_loss: 0.7772 - val_acc: 0.7252\n"
     ]
    },
    {
     "data": {
      "application/vnd.jupyter.widget-view+json": {
       "model_id": "2000d1e020514fc1a23549cda8ac6e21"
      }
     },
     "metadata": {},
     "output_type": "display_data"
    },
    {
     "name": "stdout",
     "output_type": "stream",
     "text": [
      "Epoch 26/200\n",
      "780/781 [============================>.] - ETA: 0s - loss: 0.6042 - acc: 0.6529Epoch 00025: val_acc improved from 0.73100 to 0.73265, saving model to model_checkpoint_cifar110_vgg8_wu_0.5.h5\n",
      "781/781 [==============================] - 90s - loss: 0.6041 - acc: 0.6529 - val_loss: 0.7565 - val_acc: 0.7327\n"
     ]
    },
    {
     "data": {
      "application/vnd.jupyter.widget-view+json": {
       "model_id": "072cb574d2e64e84baee814079001d60"
      }
     },
     "metadata": {},
     "output_type": "display_data"
    },
    {
     "name": "stdout",
     "output_type": "stream",
     "text": [
      "Epoch 27/200\n",
      "780/781 [============================>.] - ETA: 0s - loss: 0.5940 - acc: 0.6555Epoch 00026: val_acc did not improve\n",
      "781/781 [==============================] - 90s - loss: 0.5942 - acc: 0.6555 - val_loss: 0.7723 - val_acc: 0.7296\n"
     ]
    },
    {
     "data": {
      "application/vnd.jupyter.widget-view+json": {
       "model_id": "42a5527b48b0449faf05d0a1e119c2c2"
      }
     },
     "metadata": {},
     "output_type": "display_data"
    },
    {
     "name": "stdout",
     "output_type": "stream",
     "text": [
      "Epoch 28/200\n",
      "780/781 [============================>.] - ETA: 0s - loss: 0.5833 - acc: 0.6599Epoch 00027: val_acc improved from 0.73265 to 0.73410, saving model to model_checkpoint_cifar110_vgg8_wu_0.5.h5\n",
      "781/781 [==============================] - 89s - loss: 0.5834 - acc: 0.6598 - val_loss: 0.7611 - val_acc: 0.7341\n"
     ]
    },
    {
     "data": {
      "application/vnd.jupyter.widget-view+json": {
       "model_id": "576a487c42ba4f1a86da807ceb544221"
      }
     },
     "metadata": {},
     "output_type": "display_data"
    },
    {
     "name": "stdout",
     "output_type": "stream",
     "text": [
      "Epoch 29/200\n",
      "780/781 [============================>.] - ETA: 0s - loss: 0.5748 - acc: 0.6630Epoch 00028: val_acc improved from 0.73410 to 0.73460, saving model to model_checkpoint_cifar110_vgg8_wu_0.5.h5\n",
      "781/781 [==============================] - 89s - loss: 0.5747 - acc: 0.6630 - val_loss: 0.7606 - val_acc: 0.7346\n"
     ]
    },
    {
     "data": {
      "application/vnd.jupyter.widget-view+json": {
       "model_id": "f5598d572b5247fb9e6143cc0fab0e39"
      }
     },
     "metadata": {},
     "output_type": "display_data"
    },
    {
     "name": "stdout",
     "output_type": "stream",
     "text": [
      "Epoch 30/200\n",
      "780/781 [============================>.] - ETA: 0s - loss: 0.5685 - acc: 0.6666Epoch 00029: val_acc improved from 0.73460 to 0.73865, saving model to model_checkpoint_cifar110_vgg8_wu_0.5.h5\n",
      "781/781 [==============================] - 89s - loss: 0.5687 - acc: 0.6667 - val_loss: 0.7486 - val_acc: 0.7387\n"
     ]
    },
    {
     "data": {
      "application/vnd.jupyter.widget-view+json": {
       "model_id": "12d047f5edc64127818318937e91733e"
      }
     },
     "metadata": {},
     "output_type": "display_data"
    },
    {
     "name": "stdout",
     "output_type": "stream",
     "text": [
      "Epoch 31/200\n",
      "780/781 [============================>.] - ETA: 0s - loss: 0.5580 - acc: 0.6680Epoch 00030: val_acc did not improve\n",
      "781/781 [==============================] - 90s - loss: 0.5578 - acc: 0.6680 - val_loss: 0.7544 - val_acc: 0.7353\n"
     ]
    },
    {
     "data": {
      "application/vnd.jupyter.widget-view+json": {
       "model_id": "934929f5b8494f4195ac0d64d8266a0f"
      }
     },
     "metadata": {},
     "output_type": "display_data"
    },
    {
     "name": "stdout",
     "output_type": "stream",
     "text": [
      "Epoch 32/200\n",
      "780/781 [============================>.] - ETA: 0s - loss: 0.5503 - acc: 0.6722Epoch 00031: val_acc did not improve\n",
      "781/781 [==============================] - 89s - loss: 0.5501 - acc: 0.6722 - val_loss: 0.7545 - val_acc: 0.7307\n"
     ]
    },
    {
     "data": {
      "application/vnd.jupyter.widget-view+json": {
       "model_id": "cacfce76f4be4e9db73d6029e31fb1eb"
      }
     },
     "metadata": {},
     "output_type": "display_data"
    },
    {
     "name": "stdout",
     "output_type": "stream",
     "text": [
      "Epoch 33/200\n",
      "780/781 [============================>.] - ETA: 0s - loss: 0.5416 - acc: 0.6745Epoch 00032: val_acc did not improve\n",
      "781/781 [==============================] - 89s - loss: 0.5417 - acc: 0.6745 - val_loss: 0.7419 - val_acc: 0.7380\n"
     ]
    },
    {
     "data": {
      "application/vnd.jupyter.widget-view+json": {
       "model_id": "3e8355f0aebe4f7d8d6635b0c296dd99"
      }
     },
     "metadata": {},
     "output_type": "display_data"
    },
    {
     "name": "stdout",
     "output_type": "stream",
     "text": [
      "Epoch 34/200\n",
      "780/781 [============================>.] - ETA: 0s - loss: 0.5348 - acc: 0.6752Epoch 00033: val_acc did not improve\n",
      "781/781 [==============================] - 89s - loss: 0.5348 - acc: 0.6751 - val_loss: 0.7527 - val_acc: 0.7321\n"
     ]
    },
    {
     "data": {
      "application/vnd.jupyter.widget-view+json": {
       "model_id": "92308ec0d13d4beaab0458c5146edb83"
      }
     },
     "metadata": {},
     "output_type": "display_data"
    },
    {
     "name": "stdout",
     "output_type": "stream",
     "text": [
      "Epoch 35/200\n",
      "780/781 [============================>.] - ETA: 0s - loss: 0.5248 - acc: 0.6785Epoch 00034: val_acc improved from 0.73865 to 0.73870, saving model to model_checkpoint_cifar110_vgg8_wu_0.5.h5\n",
      "781/781 [==============================] - 89s - loss: 0.5248 - acc: 0.6786 - val_loss: 0.7434 - val_acc: 0.7387\n"
     ]
    },
    {
     "data": {
      "application/vnd.jupyter.widget-view+json": {
       "model_id": "b74bacc6b34141e0a84099e764c4086a"
      }
     },
     "metadata": {},
     "output_type": "display_data"
    },
    {
     "name": "stdout",
     "output_type": "stream",
     "text": [
      "Epoch 36/200\n",
      "780/781 [============================>.] - ETA: 0s - loss: 0.5249 - acc: 0.6795Epoch 00035: val_acc improved from 0.73870 to 0.74065, saving model to model_checkpoint_cifar110_vgg8_wu_0.5.h5\n",
      "781/781 [==============================] - 89s - loss: 0.5248 - acc: 0.6795 - val_loss: 0.7395 - val_acc: 0.7407\n"
     ]
    },
    {
     "data": {
      "application/vnd.jupyter.widget-view+json": {
       "model_id": "dee709cd8fbb4556bfb48e1757e6bde5"
      }
     },
     "metadata": {},
     "output_type": "display_data"
    },
    {
     "name": "stdout",
     "output_type": "stream",
     "text": [
      "Epoch 37/200\n",
      "780/781 [============================>.] - ETA: 0s - loss: 0.5138 - acc: 0.6827Epoch 00036: val_acc did not improve\n",
      "781/781 [==============================] - 89s - loss: 0.5138 - acc: 0.6827 - val_loss: 0.7520 - val_acc: 0.7371\n"
     ]
    },
    {
     "data": {
      "application/vnd.jupyter.widget-view+json": {
       "model_id": "b01bbab4c84a4c57861045ef37ffb0eb"
      }
     },
     "metadata": {},
     "output_type": "display_data"
    },
    {
     "name": "stdout",
     "output_type": "stream",
     "text": [
      "Epoch 38/200\n",
      "780/781 [============================>.] - ETA: 0s - loss: 0.5067 - acc: 0.6851Epoch 00037: val_acc improved from 0.74065 to 0.74420, saving model to model_checkpoint_cifar110_vgg8_wu_0.5.h5\n",
      "781/781 [==============================] - 89s - loss: 0.5066 - acc: 0.6851 - val_loss: 0.7352 - val_acc: 0.7442\n"
     ]
    },
    {
     "data": {
      "application/vnd.jupyter.widget-view+json": {
       "model_id": "2e0b1186c7a848bda7b218a5cd9fc349"
      }
     },
     "metadata": {},
     "output_type": "display_data"
    },
    {
     "name": "stdout",
     "output_type": "stream",
     "text": [
      "Epoch 39/200\n",
      "780/781 [============================>.] - ETA: 0s - loss: 0.5023 - acc: 0.6840Epoch 00038: val_acc did not improve\n",
      "781/781 [==============================] - 89s - loss: 0.5024 - acc: 0.6840 - val_loss: 0.7426 - val_acc: 0.7416\n"
     ]
    },
    {
     "data": {
      "application/vnd.jupyter.widget-view+json": {
       "model_id": "3be72649636844d8afb7fb2ad2f67384"
      }
     },
     "metadata": {},
     "output_type": "display_data"
    },
    {
     "name": "stdout",
     "output_type": "stream",
     "text": [
      "Epoch 40/200\n",
      "780/781 [============================>.] - ETA: 0s - loss: 0.4943 - acc: 0.6901Epoch 00039: val_acc did not improve\n",
      "781/781 [==============================] - 89s - loss: 0.4944 - acc: 0.6901 - val_loss: 0.7435 - val_acc: 0.7402\n"
     ]
    },
    {
     "data": {
      "application/vnd.jupyter.widget-view+json": {
       "model_id": "7701561508b04aefa789a8122d26466a"
      }
     },
     "metadata": {},
     "output_type": "display_data"
    },
    {
     "name": "stdout",
     "output_type": "stream",
     "text": [
      "Epoch 41/200\n",
      "780/781 [============================>.] - ETA: 0s - loss: 0.4847 - acc: 0.6921Epoch 00040: val_acc did not improve\n",
      "781/781 [==============================] - 89s - loss: 0.4849 - acc: 0.6921 - val_loss: 0.7432 - val_acc: 0.7430\n"
     ]
    },
    {
     "data": {
      "application/vnd.jupyter.widget-view+json": {
       "model_id": "f9407a7cee2b49e8acfecc7742b88700"
      }
     },
     "metadata": {},
     "output_type": "display_data"
    },
    {
     "name": "stdout",
     "output_type": "stream",
     "text": [
      "Epoch 42/200\n",
      "780/781 [============================>.] - ETA: 0s - loss: 0.4864 - acc: 0.6941Epoch 00041: val_acc improved from 0.74420 to 0.74690, saving model to model_checkpoint_cifar110_vgg8_wu_0.5.h5\n",
      "781/781 [==============================] - 89s - loss: 0.4863 - acc: 0.6941 - val_loss: 0.7413 - val_acc: 0.7469\n"
     ]
    },
    {
     "data": {
      "application/vnd.jupyter.widget-view+json": {
       "model_id": "57835de12166445693f3139a0b3fee71"
      }
     },
     "metadata": {},
     "output_type": "display_data"
    },
    {
     "name": "stdout",
     "output_type": "stream",
     "text": [
      "Epoch 43/200\n",
      "780/781 [============================>.] - ETA: 0s - loss: 0.4756 - acc: 0.6963Epoch 00042: val_acc did not improve\n",
      "781/781 [==============================] - 89s - loss: 0.4755 - acc: 0.6963 - val_loss: 0.7439 - val_acc: 0.7407\n"
     ]
    },
    {
     "data": {
      "application/vnd.jupyter.widget-view+json": {
       "model_id": "040e0fe904024d588fc9830e26c0f7f0"
      }
     },
     "metadata": {},
     "output_type": "display_data"
    },
    {
     "name": "stdout",
     "output_type": "stream",
     "text": [
      "Epoch 44/200\n",
      "780/781 [============================>.] - ETA: 0s - loss: 0.4694 - acc: 0.6993Epoch 00043: val_acc did not improve\n",
      "781/781 [==============================] - 90s - loss: 0.4695 - acc: 0.6993 - val_loss: 0.7548 - val_acc: 0.7353\n"
     ]
    },
    {
     "data": {
      "application/vnd.jupyter.widget-view+json": {
       "model_id": "3e62a86da0c64720bee9f820fa87fa94"
      }
     },
     "metadata": {},
     "output_type": "display_data"
    },
    {
     "name": "stdout",
     "output_type": "stream",
     "text": [
      "Epoch 45/200\n",
      "780/781 [============================>.] - ETA: 0s - loss: 0.4656 - acc: 0.7005Epoch 00044: val_acc did not improve\n",
      "781/781 [==============================] - 90s - loss: 0.4656 - acc: 0.7004 - val_loss: 0.7457 - val_acc: 0.7422\n"
     ]
    },
    {
     "data": {
      "application/vnd.jupyter.widget-view+json": {
       "model_id": "3e7fb967f5764535abb4a441de29cea2"
      }
     },
     "metadata": {},
     "output_type": "display_data"
    },
    {
     "name": "stdout",
     "output_type": "stream",
     "text": [
      "Epoch 46/200\n",
      "780/781 [============================>.] - ETA: 0s - loss: 0.4592 - acc: 0.7060Epoch 00045: val_acc did not improve\n",
      "781/781 [==============================] - 90s - loss: 0.4591 - acc: 0.7061 - val_loss: 0.7463 - val_acc: 0.7409\n"
     ]
    },
    {
     "data": {
      "application/vnd.jupyter.widget-view+json": {
       "model_id": "dd9135cd02ca47a9a22e5524c61c30c8"
      }
     },
     "metadata": {},
     "output_type": "display_data"
    },
    {
     "name": "stdout",
     "output_type": "stream",
     "text": [
      "Epoch 47/200\n",
      "780/781 [============================>.] - ETA: 0s - loss: 0.4522 - acc: 0.7048Epoch 00046: val_acc did not improve\n",
      "781/781 [==============================] - 89s - loss: 0.4524 - acc: 0.7047 - val_loss: 0.7397 - val_acc: 0.7450\n"
     ]
    },
    {
     "data": {
      "application/vnd.jupyter.widget-view+json": {
       "model_id": "5e8eb45415c8422bb7b1e53317f8e166"
      }
     },
     "metadata": {},
     "output_type": "display_data"
    },
    {
     "name": "stdout",
     "output_type": "stream",
     "text": [
      "Epoch 48/200\n",
      "780/781 [============================>.] - ETA: 0s - loss: 0.4459 - acc: 0.7097Epoch 00047: val_acc did not improve\n",
      "781/781 [==============================] - 90s - loss: 0.4460 - acc: 0.7098 - val_loss: 0.7442 - val_acc: 0.7457\n"
     ]
    },
    {
     "data": {
      "application/vnd.jupyter.widget-view+json": {
       "model_id": "22658d8037ce4ab598a445e1cd928d63"
      }
     },
     "metadata": {},
     "output_type": "display_data"
    },
    {
     "name": "stdout",
     "output_type": "stream",
     "text": [
      "Epoch 49/200\n",
      "780/781 [============================>.] - ETA: 0s - loss: 0.4439 - acc: 0.7083Epoch 00048: val_acc did not improve\n",
      "781/781 [==============================] - 89s - loss: 0.4438 - acc: 0.7084 - val_loss: 0.7540 - val_acc: 0.7399\n"
     ]
    },
    {
     "data": {
      "application/vnd.jupyter.widget-view+json": {
       "model_id": "c327b61dcf274aa5ae46b49039181f2e"
      }
     },
     "metadata": {},
     "output_type": "display_data"
    },
    {
     "name": "stdout",
     "output_type": "stream",
     "text": [
      "Epoch 50/200\n",
      "780/781 [============================>.] - ETA: 0s - loss: 0.4338 - acc: 0.7137Epoch 00049: val_acc did not improve\n",
      "781/781 [==============================] - 90s - loss: 0.4337 - acc: 0.7137 - val_loss: 0.7466 - val_acc: 0.7408\n"
     ]
    },
    {
     "data": {
      "application/vnd.jupyter.widget-view+json": {
       "model_id": "a4a39ca146494694a8dcd85542534f62"
      }
     },
     "metadata": {},
     "output_type": "display_data"
    },
    {
     "name": "stdout",
     "output_type": "stream",
     "text": [
      "Epoch 51/200\n",
      "780/781 [============================>.] - ETA: 0s - loss: 0.4337 - acc: 0.7145Epoch 00050: val_acc did not improve\n",
      "781/781 [==============================] - 89s - loss: 0.4337 - acc: 0.7144 - val_loss: 0.7560 - val_acc: 0.7367\n"
     ]
    },
    {
     "data": {
      "application/vnd.jupyter.widget-view+json": {
       "model_id": "1fe8f32f662a456ca7d2a6184ca597e8"
      }
     },
     "metadata": {},
     "output_type": "display_data"
    },
    {
     "name": "stdout",
     "output_type": "stream",
     "text": [
      "Epoch 52/200\n",
      "780/781 [============================>.] - ETA: 0s - loss: 0.4282 - acc: 0.7173Epoch 00051: val_acc did not improve\n",
      "781/781 [==============================] - 89s - loss: 0.4284 - acc: 0.7172 - val_loss: 0.7597 - val_acc: 0.7402\n"
     ]
    },
    {
     "data": {
      "application/vnd.jupyter.widget-view+json": {
       "model_id": "1d1da80d56e64df3b8f2a056d155ede7"
      }
     },
     "metadata": {},
     "output_type": "display_data"
    },
    {
     "name": "stdout",
     "output_type": "stream",
     "text": [
      "Epoch 53/200\n",
      "780/781 [============================>.] - ETA: 0s - loss: 0.4262 - acc: 0.7178Epoch 00052: val_acc did not improve\n",
      "781/781 [==============================] - 89s - loss: 0.4262 - acc: 0.7178 - val_loss: 0.7582 - val_acc: 0.7418\n"
     ]
    },
    {
     "data": {
      "application/vnd.jupyter.widget-view+json": {
       "model_id": "5b2d6395c86c4092aab13ab32241e6e0"
      }
     },
     "metadata": {},
     "output_type": "display_data"
    },
    {
     "name": "stdout",
     "output_type": "stream",
     "text": [
      "Epoch 54/200\n",
      "780/781 [============================>.] - ETA: 0s - loss: 0.4198 - acc: 0.7203Epoch 00053: val_acc did not improve\n",
      "781/781 [==============================] - 89s - loss: 0.4197 - acc: 0.7203 - val_loss: 0.7634 - val_acc: 0.7425\n"
     ]
    },
    {
     "data": {
      "application/vnd.jupyter.widget-view+json": {
       "model_id": "5607074e60c24d7090cec341533ba984"
      }
     },
     "metadata": {},
     "output_type": "display_data"
    },
    {
     "name": "stdout",
     "output_type": "stream",
     "text": [
      "Epoch 55/200\n",
      "780/781 [============================>.] - ETA: 0s - loss: 0.4117 - acc: 0.7237Epoch 00054: val_acc did not improve\n",
      "781/781 [==============================] - 89s - loss: 0.4116 - acc: 0.7238 - val_loss: 0.7551 - val_acc: 0.7438\n"
     ]
    },
    {
     "data": {
      "application/vnd.jupyter.widget-view+json": {
       "model_id": "9ec92bed47a34fdaa6f1606611efbd25"
      }
     },
     "metadata": {},
     "output_type": "display_data"
    },
    {
     "name": "stdout",
     "output_type": "stream",
     "text": [
      "Epoch 56/200\n",
      "780/781 [============================>.] - ETA: 0s - loss: 0.4099 - acc: 0.7250Epoch 00055: val_acc did not improve\n",
      "781/781 [==============================] - 89s - loss: 0.4100 - acc: 0.7251 - val_loss: 0.7580 - val_acc: 0.7435\n"
     ]
    },
    {
     "data": {
      "application/vnd.jupyter.widget-view+json": {
       "model_id": "a7efca47f5cf4663bb5a96bfe4dd62e3"
      }
     },
     "metadata": {},
     "output_type": "display_data"
    },
    {
     "name": "stdout",
     "output_type": "stream",
     "text": [
      "Epoch 57/200\n",
      "780/781 [============================>.] - ETA: 0s - loss: 0.4090 - acc: 0.7254Epoch 00056: val_acc did not improve\n",
      "781/781 [==============================] - 89s - loss: 0.4089 - acc: 0.7254 - val_loss: 0.7666 - val_acc: 0.7421\n"
     ]
    },
    {
     "data": {
      "application/vnd.jupyter.widget-view+json": {
       "model_id": "6d61cb8ee8f548d8a62a3d52ddf5ad75"
      }
     },
     "metadata": {},
     "output_type": "display_data"
    },
    {
     "name": "stdout",
     "output_type": "stream",
     "text": [
      "Epoch 58/200\n",
      "780/781 [============================>.] - ETA: 0s - loss: 0.3986 - acc: 0.7322Epoch 00057: val_acc did not improve\n",
      "781/781 [==============================] - 89s - loss: 0.3986 - acc: 0.7322 - val_loss: 0.7619 - val_acc: 0.7422\n"
     ]
    },
    {
     "data": {
      "application/vnd.jupyter.widget-view+json": {
       "model_id": "fdd10bcf201c42bd8681e933df04d1d1"
      }
     },
     "metadata": {},
     "output_type": "display_data"
    },
    {
     "name": "stdout",
     "output_type": "stream",
     "text": [
      "Epoch 59/200\n",
      "780/781 [============================>.] - ETA: 0s - loss: 0.4019 - acc: 0.7293Epoch 00058: val_acc did not improve\n",
      "781/781 [==============================] - 89s - loss: 0.4018 - acc: 0.7294 - val_loss: 0.7773 - val_acc: 0.7372\n"
     ]
    },
    {
     "data": {
      "application/vnd.jupyter.widget-view+json": {
       "model_id": "4177ff8ca9af497e8716325a294a26cb"
      }
     },
     "metadata": {},
     "output_type": "display_data"
    },
    {
     "name": "stdout",
     "output_type": "stream",
     "text": [
      "Epoch 60/200\n",
      "780/781 [============================>.] - ETA: 0s - loss: 0.3943 - acc: 0.7321Epoch 00059: val_acc did not improve\n",
      "781/781 [==============================] - 89s - loss: 0.3943 - acc: 0.7320 - val_loss: 0.7759 - val_acc: 0.7356\n"
     ]
    },
    {
     "data": {
      "application/vnd.jupyter.widget-view+json": {
       "model_id": "d3d90f9e0b7b46c8a122537cddc71f05"
      }
     },
     "metadata": {},
     "output_type": "display_data"
    },
    {
     "name": "stdout",
     "output_type": "stream",
     "text": [
      "Epoch 61/200\n",
      "780/781 [============================>.] - ETA: 0s - loss: 0.3884 - acc: 0.7336Epoch 00060: val_acc did not improve\n",
      "781/781 [==============================] - 90s - loss: 0.3884 - acc: 0.7337 - val_loss: 0.7752 - val_acc: 0.7458\n"
     ]
    },
    {
     "data": {
      "application/vnd.jupyter.widget-view+json": {
       "model_id": "4e2de87721c24416bc96646a939454d4"
      }
     },
     "metadata": {},
     "output_type": "display_data"
    },
    {
     "name": "stdout",
     "output_type": "stream",
     "text": [
      "Epoch 62/200\n",
      "780/781 [============================>.] - ETA: 0s - loss: 0.3876 - acc: 0.7364Epoch 00061: val_acc did not improve\n",
      "781/781 [==============================] - 90s - loss: 0.3876 - acc: 0.7364 - val_loss: 0.7705 - val_acc: 0.7441\n"
     ]
    },
    {
     "data": {
      "application/vnd.jupyter.widget-view+json": {
       "model_id": "313d6cd1a8fc4a5ba97836d6449fa9d0"
      }
     },
     "metadata": {},
     "output_type": "display_data"
    },
    {
     "name": "stdout",
     "output_type": "stream",
     "text": [
      "Epoch 63/200\n",
      "780/781 [============================>.] - ETA: 0s - loss: 0.3831 - acc: 0.7378Epoch 00062: val_acc did not improve\n",
      "781/781 [==============================] - 89s - loss: 0.3830 - acc: 0.7378 - val_loss: 0.7877 - val_acc: 0.7367\n"
     ]
    },
    {
     "data": {
      "application/vnd.jupyter.widget-view+json": {
       "model_id": "921a634ed36140d8aadbcec5da3ec6a3"
      }
     },
     "metadata": {},
     "output_type": "display_data"
    },
    {
     "name": "stdout",
     "output_type": "stream",
     "text": [
      "Epoch 64/200\n",
      "780/781 [============================>.] - ETA: 0s - loss: 0.3532 - acc: 0.7526Epoch 00063: val_acc improved from 0.74690 to 0.74965, saving model to model_checkpoint_cifar110_vgg8_wu_0.5.h5\n",
      "781/781 [==============================] - 89s - loss: 0.3531 - acc: 0.7526 - val_loss: 0.7750 - val_acc: 0.7497\n"
     ]
    },
    {
     "data": {
      "application/vnd.jupyter.widget-view+json": {
       "model_id": "c7b30582c9554579b983731b38e55017"
      }
     },
     "metadata": {},
     "output_type": "display_data"
    },
    {
     "name": "stdout",
     "output_type": "stream",
     "text": [
      "Epoch 65/200\n",
      "780/781 [============================>.] - ETA: 0s - loss: 0.3420 - acc: 0.7583Epoch 00064: val_acc did not improve\n",
      "781/781 [==============================] - 89s - loss: 0.3420 - acc: 0.7583 - val_loss: 0.7736 - val_acc: 0.7468\n"
     ]
    },
    {
     "data": {
      "application/vnd.jupyter.widget-view+json": {
       "model_id": "c50cd457a22d4a9198b5875e98afea64"
      }
     },
     "metadata": {},
     "output_type": "display_data"
    },
    {
     "name": "stdout",
     "output_type": "stream",
     "text": [
      "Epoch 66/200\n",
      "780/781 [============================>.] - ETA: 0s - loss: 0.3425 - acc: 0.7597Epoch 00065: val_acc did not improve\n",
      "781/781 [==============================] - 90s - loss: 0.3426 - acc: 0.7596 - val_loss: 0.7853 - val_acc: 0.7443\n"
     ]
    },
    {
     "data": {
      "application/vnd.jupyter.widget-view+json": {
       "model_id": "f44174a93bc94747a8151b5280d720a7"
      }
     },
     "metadata": {},
     "output_type": "display_data"
    },
    {
     "name": "stdout",
     "output_type": "stream",
     "text": [
      "Epoch 67/200\n",
      "780/781 [============================>.] - ETA: 0s - loss: 0.3376 - acc: 0.7606Epoch 00066: val_acc did not improve\n",
      "781/781 [==============================] - 90s - loss: 0.3376 - acc: 0.7607 - val_loss: 0.7821 - val_acc: 0.7471\n"
     ]
    },
    {
     "data": {
      "application/vnd.jupyter.widget-view+json": {
       "model_id": "907e441e725d4c4ba133e71faa19928f"
      }
     },
     "metadata": {},
     "output_type": "display_data"
    },
    {
     "name": "stdout",
     "output_type": "stream",
     "text": [
      "Epoch 68/200\n",
      "780/781 [============================>.] - ETA: 0s - loss: 0.3349 - acc: 0.7634Epoch 00067: val_acc did not improve\n",
      "781/781 [==============================] - 90s - loss: 0.3351 - acc: 0.7634 - val_loss: 0.7904 - val_acc: 0.7463\n"
     ]
    },
    {
     "data": {
      "application/vnd.jupyter.widget-view+json": {
       "model_id": "c9c11fc7942c44d4b5f624fe7ec089d8"
      }
     },
     "metadata": {},
     "output_type": "display_data"
    },
    {
     "name": "stdout",
     "output_type": "stream",
     "text": [
      "Epoch 69/200\n",
      "780/781 [============================>.] - ETA: 0s - loss: 0.3323 - acc: 0.7639Epoch 00068: val_acc did not improve\n",
      "781/781 [==============================] - 90s - loss: 0.3323 - acc: 0.7639 - val_loss: 0.7991 - val_acc: 0.7448\n"
     ]
    },
    {
     "data": {
      "application/vnd.jupyter.widget-view+json": {
       "model_id": "9b7a9665ec9642a28d592fd39fa35166"
      }
     },
     "metadata": {},
     "output_type": "display_data"
    },
    {
     "name": "stdout",
     "output_type": "stream",
     "text": [
      "Epoch 70/200\n",
      "780/781 [============================>.] - ETA: 0s - loss: 0.3285 - acc: 0.7671Epoch 00069: val_acc did not improve\n",
      "781/781 [==============================] - 90s - loss: 0.3288 - acc: 0.7670 - val_loss: 0.7984 - val_acc: 0.7431\n"
     ]
    },
    {
     "data": {
      "application/vnd.jupyter.widget-view+json": {
       "model_id": "6f10fe4a75354068bb953b61a832e71d"
      }
     },
     "metadata": {},
     "output_type": "display_data"
    },
    {
     "name": "stdout",
     "output_type": "stream",
     "text": [
      "Epoch 71/200\n",
      "780/781 [============================>.] - ETA: 0s - loss: 0.3275 - acc: 0.7654Epoch 00070: val_acc did not improve\n",
      "781/781 [==============================] - 90s - loss: 0.3275 - acc: 0.7654 - val_loss: 0.8017 - val_acc: 0.7449\n"
     ]
    },
    {
     "data": {
      "application/vnd.jupyter.widget-view+json": {
       "model_id": "0698433ca29446b4b9f674759a1dd2e5"
      }
     },
     "metadata": {},
     "output_type": "display_data"
    },
    {
     "name": "stdout",
     "output_type": "stream",
     "text": [
      "Epoch 72/200\n",
      "780/781 [============================>.] - ETA: 0s - loss: 0.3232 - acc: 0.7691Epoch 00071: val_acc did not improve\n",
      "781/781 [==============================] - 90s - loss: 0.3232 - acc: 0.7691 - val_loss: 0.7997 - val_acc: 0.7457\n"
     ]
    },
    {
     "data": {
      "application/vnd.jupyter.widget-view+json": {
       "model_id": "38bea23044994b1598a3c5f02c72e8bd"
      }
     },
     "metadata": {},
     "output_type": "display_data"
    },
    {
     "name": "stdout",
     "output_type": "stream",
     "text": [
      "Epoch 73/200\n",
      "780/781 [============================>.] - ETA: 0s - loss: 0.3261 - acc: 0.7679Epoch 00072: val_acc did not improve\n",
      "781/781 [==============================] - 90s - loss: 0.3261 - acc: 0.7679 - val_loss: 0.8030 - val_acc: 0.7418\n"
     ]
    },
    {
     "data": {
      "application/vnd.jupyter.widget-view+json": {
       "model_id": "7233670cff5343dda5c93fd1fffdc7c2"
      }
     },
     "metadata": {},
     "output_type": "display_data"
    },
    {
     "name": "stdout",
     "output_type": "stream",
     "text": [
      "Epoch 74/200\n",
      "780/781 [============================>.] - ETA: 0s - loss: 0.3227 - acc: 0.7709Epoch 00073: val_acc did not improve\n",
      "781/781 [==============================] - 90s - loss: 0.3227 - acc: 0.7709 - val_loss: 0.8157 - val_acc: 0.7440\n"
     ]
    },
    {
     "data": {
      "application/vnd.jupyter.widget-view+json": {
       "model_id": "67ba6979de3449bd88d26a44eb88059e"
      }
     },
     "metadata": {},
     "output_type": "display_data"
    },
    {
     "name": "stdout",
     "output_type": "stream",
     "text": [
      "Epoch 75/200\n",
      "780/781 [============================>.] - ETA: 0s - loss: 0.3221 - acc: 0.7688Epoch 00074: val_acc did not improve\n",
      "781/781 [==============================] - 91s - loss: 0.3221 - acc: 0.7688 - val_loss: 0.8113 - val_acc: 0.7429\n"
     ]
    },
    {
     "data": {
      "application/vnd.jupyter.widget-view+json": {
       "model_id": "de1d1b0e9c6c41a1907c30d73d00c455"
      }
     },
     "metadata": {},
     "output_type": "display_data"
    },
    {
     "name": "stdout",
     "output_type": "stream",
     "text": [
      "Epoch 76/200\n",
      "780/781 [============================>.] - ETA: 0s - loss: 0.3173 - acc: 0.7729Epoch 00075: val_acc did not improve\n",
      "781/781 [==============================] - 90s - loss: 0.3174 - acc: 0.7730 - val_loss: 0.8033 - val_acc: 0.7415\n"
     ]
    },
    {
     "data": {
      "application/vnd.jupyter.widget-view+json": {
       "model_id": "5abe169f240843a9a5c70381d6d2c545"
      }
     },
     "metadata": {},
     "output_type": "display_data"
    },
    {
     "name": "stdout",
     "output_type": "stream",
     "text": [
      "Epoch 77/200\n",
      "780/781 [============================>.] - ETA: 0s - loss: 0.3169 - acc: 0.7745Epoch 00076: val_acc did not improve\n",
      "781/781 [==============================] - 90s - loss: 0.3169 - acc: 0.7745 - val_loss: 0.8143 - val_acc: 0.7412\n"
     ]
    },
    {
     "data": {
      "application/vnd.jupyter.widget-view+json": {
       "model_id": "464d2ca5f2e04a2f8329f8a04dacaf5f"
      }
     },
     "metadata": {},
     "output_type": "display_data"
    },
    {
     "name": "stdout",
     "output_type": "stream",
     "text": [
      "Epoch 78/200\n",
      "780/781 [============================>.] - ETA: 0s - loss: 0.3175 - acc: 0.7721Epoch 00077: val_acc did not improve\n",
      "781/781 [==============================] - 90s - loss: 0.3175 - acc: 0.7720 - val_loss: 0.8212 - val_acc: 0.7425\n"
     ]
    },
    {
     "data": {
      "application/vnd.jupyter.widget-view+json": {
       "model_id": "9c2ac74697c34b3d99d012b972a202c9"
      }
     },
     "metadata": {},
     "output_type": "display_data"
    },
    {
     "name": "stdout",
     "output_type": "stream",
     "text": [
      "Epoch 79/200\n",
      "780/781 [============================>.] - ETA: 0s - loss: 0.3151 - acc: 0.7750Epoch 00078: val_acc did not improve\n",
      "781/781 [==============================] - 90s - loss: 0.3151 - acc: 0.7750 - val_loss: 0.8295 - val_acc: 0.7380\n"
     ]
    },
    {
     "data": {
      "application/vnd.jupyter.widget-view+json": {
       "model_id": "0840d082429140349a62b0f2389c941c"
      }
     },
     "metadata": {},
     "output_type": "display_data"
    },
    {
     "name": "stdout",
     "output_type": "stream",
     "text": [
      "Epoch 80/200\n",
      "780/781 [============================>.] - ETA: 0s - loss: 0.3133 - acc: 0.7743Epoch 00079: val_acc did not improve\n",
      "781/781 [==============================] - 90s - loss: 0.3133 - acc: 0.7743 - val_loss: 0.8228 - val_acc: 0.7428\n"
     ]
    },
    {
     "data": {
      "application/vnd.jupyter.widget-view+json": {
       "model_id": "32ff18c9ab974daf9650bccd2c97d751"
      }
     },
     "metadata": {},
     "output_type": "display_data"
    },
    {
     "name": "stdout",
     "output_type": "stream",
     "text": [
      "Epoch 81/200\n",
      "780/781 [============================>.] - ETA: 0s - loss: 0.3091 - acc: 0.7771Epoch 00080: val_acc did not improve\n",
      "781/781 [==============================] - 90s - loss: 0.3091 - acc: 0.7771 - val_loss: 0.8205 - val_acc: 0.7430\n"
     ]
    },
    {
     "data": {
      "application/vnd.jupyter.widget-view+json": {
       "model_id": "151eda52be8d4720806019c1fcc6b722"
      }
     },
     "metadata": {},
     "output_type": "display_data"
    },
    {
     "name": "stdout",
     "output_type": "stream",
     "text": [
      "Epoch 82/200\n",
      "780/781 [============================>.] - ETA: 0s - loss: 0.3104 - acc: 0.7770Epoch 00081: val_acc did not improve\n",
      "781/781 [==============================] - 90s - loss: 0.3103 - acc: 0.7770 - val_loss: 0.8314 - val_acc: 0.7355\n"
     ]
    },
    {
     "data": {
      "application/vnd.jupyter.widget-view+json": {
       "model_id": "76e4f48f8b22478da5eae24be46f4c38"
      }
     },
     "metadata": {},
     "output_type": "display_data"
    },
    {
     "name": "stdout",
     "output_type": "stream",
     "text": [
      "Epoch 83/200\n",
      "780/781 [============================>.] - ETA: 0s - loss: 0.3091 - acc: 0.7787Epoch 00082: val_acc did not improve\n",
      "781/781 [==============================] - 91s - loss: 0.3091 - acc: 0.7787 - val_loss: 0.8296 - val_acc: 0.7409\n"
     ]
    },
    {
     "data": {
      "application/vnd.jupyter.widget-view+json": {
       "model_id": "05d04a89cd37442e9948ecd36c6721b1"
      }
     },
     "metadata": {},
     "output_type": "display_data"
    },
    {
     "name": "stdout",
     "output_type": "stream",
     "text": [
      "Epoch 84/200\n",
      "780/781 [============================>.] - ETA: 0s - loss: 0.3074 - acc: 0.7788Epoch 00083: val_acc did not improve\n",
      "781/781 [==============================] - 90s - loss: 0.3075 - acc: 0.7787 - val_loss: 0.8326 - val_acc: 0.7385\n"
     ]
    },
    {
     "data": {
      "application/vnd.jupyter.widget-view+json": {
       "model_id": "c6023a61c0ab4f63832935c4a5b1eea8"
      }
     },
     "metadata": {},
     "output_type": "display_data"
    },
    {
     "name": "stdout",
     "output_type": "stream",
     "text": [
      "Epoch 85/200\n",
      "780/781 [============================>.] - ETA: 0s - loss: 0.3025 - acc: 0.7821Epoch 00084: val_acc did not improve\n",
      "781/781 [==============================] - 90s - loss: 0.3027 - acc: 0.7820 - val_loss: 0.8326 - val_acc: 0.7413\n"
     ]
    },
    {
     "data": {
      "application/vnd.jupyter.widget-view+json": {
       "model_id": "cea838fb27e7405c925f7c0da6076d8c"
      }
     },
     "metadata": {},
     "output_type": "display_data"
    },
    {
     "name": "stdout",
     "output_type": "stream",
     "text": [
      "Epoch 86/200\n",
      "780/781 [============================>.] - ETA: 0s - loss: 0.2949 - acc: 0.7873Epoch 00085: val_acc did not improve\n",
      "781/781 [==============================] - 90s - loss: 0.2949 - acc: 0.7874 - val_loss: 0.8290 - val_acc: 0.7410\n"
     ]
    },
    {
     "data": {
      "application/vnd.jupyter.widget-view+json": {
       "model_id": "357784df83754cb8acf5286d218b5229"
      }
     },
     "metadata": {},
     "output_type": "display_data"
    },
    {
     "name": "stdout",
     "output_type": "stream",
     "text": [
      "Epoch 87/200\n",
      "780/781 [============================>.] - ETA: 0s - loss: 0.2912 - acc: 0.7883Epoch 00086: val_acc did not improve\n",
      "781/781 [==============================] - 90s - loss: 0.2911 - acc: 0.7884 - val_loss: 0.8371 - val_acc: 0.7413\n"
     ]
    },
    {
     "data": {
      "application/vnd.jupyter.widget-view+json": {
       "model_id": "42e6f7425ad94ec5a674bdc87bec257d"
      }
     },
     "metadata": {},
     "output_type": "display_data"
    },
    {
     "name": "stdout",
     "output_type": "stream",
     "text": [
      "Epoch 88/200\n",
      "780/781 [============================>.] - ETA: 0s - loss: 0.2895 - acc: 0.7884Epoch 00087: val_acc did not improve\n",
      "781/781 [==============================] - 90s - loss: 0.2895 - acc: 0.7884 - val_loss: 0.8387 - val_acc: 0.7408\n"
     ]
    },
    {
     "data": {
      "application/vnd.jupyter.widget-view+json": {
       "model_id": "0b5d223a00a645a589a68f72217abe67"
      }
     },
     "metadata": {},
     "output_type": "display_data"
    },
    {
     "name": "stdout",
     "output_type": "stream",
     "text": [
      "Epoch 89/200\n",
      "780/781 [============================>.] - ETA: 0s - loss: 0.2931 - acc: 0.7899Epoch 00088: val_acc did not improve\n",
      "781/781 [==============================] - 90s - loss: 0.2930 - acc: 0.7900 - val_loss: 0.8377 - val_acc: 0.7425\n"
     ]
    },
    {
     "data": {
      "application/vnd.jupyter.widget-view+json": {
       "model_id": "7b0a835df65a45cd88706f02edac7ba5"
      }
     },
     "metadata": {},
     "output_type": "display_data"
    },
    {
     "name": "stdout",
     "output_type": "stream",
     "text": [
      "Epoch 90/200\n",
      "780/781 [============================>.] - ETA: 0s - loss: 0.2918 - acc: 0.7876Epoch 00089: val_acc did not improve\n",
      "781/781 [==============================] - 90s - loss: 0.2918 - acc: 0.7875 - val_loss: 0.8399 - val_acc: 0.7413\n"
     ]
    },
    {
     "data": {
      "application/vnd.jupyter.widget-view+json": {
       "model_id": "868de2ba18774a38ac3dae67a436b71d"
      }
     },
     "metadata": {},
     "output_type": "display_data"
    },
    {
     "name": "stdout",
     "output_type": "stream",
     "text": [
      "Epoch 91/200\n",
      "780/781 [============================>.] - ETA: 0s - loss: 0.2900 - acc: 0.7895Epoch 00090: val_acc did not improve\n",
      "781/781 [==============================] - 90s - loss: 0.2900 - acc: 0.7895 - val_loss: 0.8387 - val_acc: 0.7422\n"
     ]
    },
    {
     "data": {
      "application/vnd.jupyter.widget-view+json": {
       "model_id": "99e1da06414a4e82a4943aba9c086ebe"
      }
     },
     "metadata": {},
     "output_type": "display_data"
    },
    {
     "name": "stdout",
     "output_type": "stream",
     "text": [
      "Epoch 92/200\n",
      "780/781 [============================>.] - ETA: 0s - loss: 0.2872 - acc: 0.7911Epoch 00091: val_acc did not improve\n",
      "781/781 [==============================] - 90s - loss: 0.2872 - acc: 0.7910 - val_loss: 0.8377 - val_acc: 0.7415\n"
     ]
    },
    {
     "data": {
      "application/vnd.jupyter.widget-view+json": {
       "model_id": "345a7d2e386e4eb0bf2304112f4b4ca0"
      }
     },
     "metadata": {},
     "output_type": "display_data"
    },
    {
     "name": "stdout",
     "output_type": "stream",
     "text": [
      "Epoch 93/200\n",
      "780/781 [============================>.] - ETA: 0s - loss: 0.2882 - acc: 0.7889Epoch 00092: val_acc did not improve\n",
      "781/781 [==============================] - 91s - loss: 0.2881 - acc: 0.7890 - val_loss: 0.8366 - val_acc: 0.7406\n"
     ]
    },
    {
     "data": {
      "application/vnd.jupyter.widget-view+json": {
       "model_id": "a112e5cac79f4d8d8788c0f8c6a63cdd"
      }
     },
     "metadata": {},
     "output_type": "display_data"
    },
    {
     "name": "stdout",
     "output_type": "stream",
     "text": [
      "Epoch 94/200\n",
      "780/781 [============================>.] - ETA: 0s - loss: 0.2913 - acc: 0.7892Epoch 00093: val_acc did not improve\n",
      "781/781 [==============================] - 90s - loss: 0.2915 - acc: 0.7892 - val_loss: 0.8447 - val_acc: 0.7421\n"
     ]
    },
    {
     "data": {
      "application/vnd.jupyter.widget-view+json": {
       "model_id": "f3b363a87e054d038a9ed5677b2de982"
      }
     },
     "metadata": {},
     "output_type": "display_data"
    },
    {
     "name": "stdout",
     "output_type": "stream",
     "text": [
      "Epoch 95/200\n",
      "780/781 [============================>.] - ETA: 0s - loss: 0.2846 - acc: 0.7914Epoch 00094: val_acc did not improve\n",
      "781/781 [==============================] - 90s - loss: 0.2846 - acc: 0.7914 - val_loss: 0.8420 - val_acc: 0.7397\n"
     ]
    },
    {
     "data": {
      "application/vnd.jupyter.widget-view+json": {
       "model_id": "5c1fe9c026e9427283079e2442390bff"
      }
     },
     "metadata": {},
     "output_type": "display_data"
    },
    {
     "name": "stdout",
     "output_type": "stream",
     "text": [
      "Epoch 96/200\n",
      "780/781 [============================>.] - ETA: 0s - loss: 0.2895 - acc: 0.7890Epoch 00095: val_acc did not improve\n",
      "781/781 [==============================] - 90s - loss: 0.2896 - acc: 0.7889 - val_loss: 0.8459 - val_acc: 0.7430\n"
     ]
    },
    {
     "data": {
      "application/vnd.jupyter.widget-view+json": {
       "model_id": "ae331e1efaf14cdc94e8db3527ccb2b0"
      }
     },
     "metadata": {},
     "output_type": "display_data"
    },
    {
     "name": "stdout",
     "output_type": "stream",
     "text": [
      "Epoch 97/200\n",
      "780/781 [============================>.] - ETA: 0s - loss: 0.2854 - acc: 0.7927Epoch 00096: val_acc did not improve\n",
      "781/781 [==============================] - 90s - loss: 0.2853 - acc: 0.7928 - val_loss: 0.8477 - val_acc: 0.7396\n"
     ]
    },
    {
     "data": {
      "application/vnd.jupyter.widget-view+json": {
       "model_id": "e42c7a5992d1452abb5e717c650dbaef"
      }
     },
     "metadata": {},
     "output_type": "display_data"
    },
    {
     "name": "stdout",
     "output_type": "stream",
     "text": [
      "Epoch 98/200\n",
      "780/781 [============================>.] - ETA: 0s - loss: 0.2836 - acc: 0.7936Epoch 00097: val_acc did not improve\n",
      "781/781 [==============================] - 90s - loss: 0.2836 - acc: 0.7937 - val_loss: 0.8514 - val_acc: 0.7397\n"
     ]
    },
    {
     "data": {
      "application/vnd.jupyter.widget-view+json": {
       "model_id": "543cdc0bda2e4113bd908f44e0366b4f"
      }
     },
     "metadata": {},
     "output_type": "display_data"
    },
    {
     "name": "stdout",
     "output_type": "stream",
     "text": [
      "Epoch 99/200\n",
      "780/781 [============================>.] - ETA: 0s - loss: 0.2839 - acc: 0.7928Epoch 00098: val_acc did not improve\n",
      "781/781 [==============================] - 90s - loss: 0.2838 - acc: 0.7928 - val_loss: 0.8485 - val_acc: 0.7412\n"
     ]
    },
    {
     "data": {
      "application/vnd.jupyter.widget-view+json": {
       "model_id": "01eac31b7d924e64921e7f3596c9cb76"
      }
     },
     "metadata": {},
     "output_type": "display_data"
    },
    {
     "name": "stdout",
     "output_type": "stream",
     "text": [
      "Epoch 100/200\n",
      "780/781 [============================>.] - ETA: 0s - loss: 0.2848 - acc: 0.7917Epoch 00099: val_acc did not improve\n",
      "781/781 [==============================] - 90s - loss: 0.2847 - acc: 0.7918 - val_loss: 0.8496 - val_acc: 0.7417\n"
     ]
    },
    {
     "data": {
      "application/vnd.jupyter.widget-view+json": {
       "model_id": "567adf4fff0e48a4b4eb7a639d7bde27"
      }
     },
     "metadata": {},
     "output_type": "display_data"
    },
    {
     "name": "stdout",
     "output_type": "stream",
     "text": [
      "Epoch 101/200\n",
      "780/781 [============================>.] - ETA: 0s - loss: 0.2830 - acc: 0.7949Epoch 00100: val_acc did not improve\n",
      "781/781 [==============================] - 90s - loss: 0.2830 - acc: 0.7949 - val_loss: 0.8495 - val_acc: 0.7421\n"
     ]
    },
    {
     "data": {
      "application/vnd.jupyter.widget-view+json": {
       "model_id": "306bf9c40155442ea7e78d832d8b021e"
      }
     },
     "metadata": {},
     "output_type": "display_data"
    },
    {
     "name": "stdout",
     "output_type": "stream",
     "text": [
      "Epoch 102/200\n",
      "780/781 [============================>.] - ETA: 0s - loss: 0.2828 - acc: 0.7919Epoch 00101: val_acc did not improve\n",
      "781/781 [==============================] - 90s - loss: 0.2829 - acc: 0.7918 - val_loss: 0.8515 - val_acc: 0.7416\n"
     ]
    },
    {
     "data": {
      "application/vnd.jupyter.widget-view+json": {
       "model_id": "676458d8603c480989921182ec60a8e5"
      }
     },
     "metadata": {},
     "output_type": "display_data"
    },
    {
     "name": "stdout",
     "output_type": "stream",
     "text": [
      "Epoch 103/200\n",
      "780/781 [============================>.] - ETA: 0s - loss: 0.2774 - acc: 0.7964Epoch 00102: val_acc did not improve\n",
      "781/781 [==============================] - 91s - loss: 0.2774 - acc: 0.7963 - val_loss: 0.8551 - val_acc: 0.7405\n"
     ]
    },
    {
     "data": {
      "application/vnd.jupyter.widget-view+json": {
       "model_id": "add8c3feda6c4c8d8c37f0c42cddc05e"
      }
     },
     "metadata": {},
     "output_type": "display_data"
    },
    {
     "name": "stdout",
     "output_type": "stream",
     "text": [
      "Epoch 104/200\n",
      "780/781 [============================>.] - ETA: 0s - loss: 0.2817 - acc: 0.7952Epoch 00103: val_acc did not improve\n",
      "781/781 [==============================] - 90s - loss: 0.2818 - acc: 0.7952 - val_loss: 0.8580 - val_acc: 0.7415\n"
     ]
    },
    {
     "data": {
      "application/vnd.jupyter.widget-view+json": {
       "model_id": "fe88b3cb081d4f7faf72b115f164de82"
      }
     },
     "metadata": {},
     "output_type": "display_data"
    },
    {
     "name": "stdout",
     "output_type": "stream",
     "text": [
      "Epoch 105/200\n",
      "780/781 [============================>.] - ETA: 0s - loss: 0.2798 - acc: 0.7956Epoch 00104: val_acc did not improve\n",
      "781/781 [==============================] - 90s - loss: 0.2799 - acc: 0.7956 - val_loss: 0.8545 - val_acc: 0.7393\n"
     ]
    },
    {
     "data": {
      "application/vnd.jupyter.widget-view+json": {
       "model_id": "7b07d58dd4dc4191b4d7c65c3c060f30"
      }
     },
     "metadata": {},
     "output_type": "display_data"
    },
    {
     "name": "stdout",
     "output_type": "stream",
     "text": [
      "Epoch 106/200\n",
      "780/781 [============================>.] - ETA: 0s - loss: 0.2796 - acc: 0.7947Epoch 00105: val_acc did not improve\n",
      "781/781 [==============================] - 90s - loss: 0.2796 - acc: 0.7947 - val_loss: 0.8556 - val_acc: 0.7416\n"
     ]
    },
    {
     "data": {
      "application/vnd.jupyter.widget-view+json": {
       "model_id": "d90cbfc432604c84bc542134a0a8d2fd"
      }
     },
     "metadata": {},
     "output_type": "display_data"
    },
    {
     "name": "stdout",
     "output_type": "stream",
     "text": [
      "Epoch 107/200\n",
      "780/781 [============================>.] - ETA: 0s - loss: 0.2763 - acc: 0.7981Epoch 00106: val_acc did not improve\n",
      "781/781 [==============================] - 90s - loss: 0.2763 - acc: 0.7981 - val_loss: 0.8613 - val_acc: 0.7406\n"
     ]
    },
    {
     "data": {
      "application/vnd.jupyter.widget-view+json": {
       "model_id": "d9ae097873dd4b9bbc76c499953ee368"
      }
     },
     "metadata": {},
     "output_type": "display_data"
    },
    {
     "name": "stdout",
     "output_type": "stream",
     "text": [
      "Epoch 108/200\n",
      "780/781 [============================>.] - ETA: 0s - loss: 0.2737 - acc: 0.7992Epoch 00107: val_acc did not improve\n",
      "781/781 [==============================] - 90s - loss: 0.2737 - acc: 0.7992 - val_loss: 0.8572 - val_acc: 0.7408\n"
     ]
    },
    {
     "data": {
      "application/vnd.jupyter.widget-view+json": {
       "model_id": "4810911b857b42b09ca85a7868a252a0"
      }
     },
     "metadata": {},
     "output_type": "display_data"
    },
    {
     "name": "stdout",
     "output_type": "stream",
     "text": [
      "Epoch 109/200\n",
      "780/781 [============================>.] - ETA: 0s - loss: 0.2763 - acc: 0.7971Epoch 00108: val_acc did not improve\n",
      "781/781 [==============================] - 90s - loss: 0.2763 - acc: 0.7971 - val_loss: 0.8607 - val_acc: 0.7415\n"
     ]
    },
    {
     "data": {
      "application/vnd.jupyter.widget-view+json": {
       "model_id": "bbe87bf08e5c401486d172538a5b4379"
      }
     },
     "metadata": {},
     "output_type": "display_data"
    },
    {
     "name": "stdout",
     "output_type": "stream",
     "text": [
      "Epoch 110/200\n",
      "780/781 [============================>.] - ETA: 0s - loss: 0.2748 - acc: 0.7977Epoch 00109: val_acc did not improve\n",
      "781/781 [==============================] - 90s - loss: 0.2750 - acc: 0.7977 - val_loss: 0.8617 - val_acc: 0.7409\n"
     ]
    },
    {
     "data": {
      "application/vnd.jupyter.widget-view+json": {
       "model_id": "7f5212cd24a9489292514df2ef85230a"
      }
     },
     "metadata": {},
     "output_type": "display_data"
    },
    {
     "name": "stdout",
     "output_type": "stream",
     "text": [
      "Epoch 111/200\n",
      "780/781 [============================>.] - ETA: 0s - loss: 0.2766 - acc: 0.7970Epoch 00110: val_acc did not improve\n",
      "781/781 [==============================] - 90s - loss: 0.2766 - acc: 0.7970 - val_loss: 0.8556 - val_acc: 0.7418\n"
     ]
    },
    {
     "data": {
      "application/vnd.jupyter.widget-view+json": {
       "model_id": "97a59196db8b451c8a5ca0aaeccc98e6"
      }
     },
     "metadata": {},
     "output_type": "display_data"
    },
    {
     "name": "stdout",
     "output_type": "stream",
     "text": [
      "Epoch 112/200\n",
      "780/781 [============================>.] - ETA: 0s - loss: 0.2756 - acc: 0.7973Epoch 00111: val_acc did not improve\n",
      "781/781 [==============================] - 90s - loss: 0.2757 - acc: 0.7973 - val_loss: 0.8616 - val_acc: 0.7420\n"
     ]
    },
    {
     "data": {
      "application/vnd.jupyter.widget-view+json": {
       "model_id": "236af73799944cb599b27d42015f806d"
      }
     },
     "metadata": {},
     "output_type": "display_data"
    },
    {
     "name": "stdout",
     "output_type": "stream",
     "text": [
      "Epoch 113/200\n",
      "780/781 [============================>.] - ETA: 0s - loss: 0.2774 - acc: 0.7960Epoch 00112: val_acc did not improve\n",
      "781/781 [==============================] - 90s - loss: 0.2775 - acc: 0.7959 - val_loss: 0.8588 - val_acc: 0.7421\n"
     ]
    },
    {
     "data": {
      "application/vnd.jupyter.widget-view+json": {
       "model_id": "0c897ccaa8624aeba1e5f443b76ee3e2"
      }
     },
     "metadata": {},
     "output_type": "display_data"
    },
    {
     "name": "stdout",
     "output_type": "stream",
     "text": [
      "Epoch 114/200\n",
      "780/781 [============================>.] - ETA: 0s - loss: 0.2740 - acc: 0.7981Epoch 00113: val_acc did not improve\n",
      "781/781 [==============================] - 90s - loss: 0.2740 - acc: 0.7981 - val_loss: 0.8606 - val_acc: 0.7418\n"
     ]
    },
    {
     "data": {
      "application/vnd.jupyter.widget-view+json": {
       "model_id": "fd8927e444684f81a2beb4d400596da6"
      }
     },
     "metadata": {},
     "output_type": "display_data"
    },
    {
     "name": "stdout",
     "output_type": "stream",
     "text": [
      "Epoch 115/200\n",
      "780/781 [============================>.] - ETA: 0s - loss: 0.2745 - acc: 0.7981Epoch 00114: val_acc did not improve\n",
      "781/781 [==============================] - 90s - loss: 0.2745 - acc: 0.7981 - val_loss: 0.8624 - val_acc: 0.7410\n",
      "\n"
     ]
    }
   ],
   "source": [
    "if not data_augmentation:\n",
    "    print('No data augmentation applied.')\n",
    "    model.fit(x_train, y_train,\n",
    "              batch_size=batch_size,\n",
    "              epochs=epochs,\n",
    "              validation_data=(x_test, y_test),\n",
    "              class_weight=class_weight,\n",
    "              shuffle=True,\n",
    "              callbacks=[csv_logger, checkpointer, early_stopper]) \n",
    "else:\n",
    "    print('Using real-time data augmentation.')\n",
    "    # This will do preprocessing and realtime data augmentation:\n",
    "    datagen = ImageDataGenerator(\n",
    "        featurewise_center=False,  # set input mean to 0 over the dataset\n",
    "        samplewise_center=False,  # set each sample mean to 0\n",
    "        featurewise_std_normalization=False,  # divide inputs by std\n",
    "        samplewise_std_normalization=False,  # divide each input by its std\n",
    "        zca_whitening=False,  # apply ZCA whitening\n",
    "        # randomly rotate images in the range (degrees, 0 to 180)\n",
    "        rotation_range=0,\n",
    "        # randomly shift images horizontally (fraction of total width)\n",
    "        width_shift_range=0.1,\n",
    "        # randomly shift images vertically (fraction of total height)\n",
    "        height_shift_range=0.1,\n",
    "        horizontal_flip=True,  # randomly flip images\n",
    "        vertical_flip=False)  # randomly flip images\n",
    "\n",
    "    # Compute quantities required for feature-wise normalization\n",
    "    # (std, mean, and principal components if ZCA whitening is applied).\n",
    "    datagen.fit(x_train)\n",
    "\n",
    "    # Fit the model on the batches generated by datagen.flow().\n",
    "    model.fit_generator(datagen.flow(x_train, y_train_pu[pct_missing],\n",
    "                                     batch_size=batch_size),\n",
    "                        steps_per_epoch=x_train.shape[0] // batch_size,\n",
    "                        epochs=epochs,\n",
    "                        validation_data=(x_test, y_test),\n",
    "                        class_weight=class_weight,\n",
    "                        callbacks=[csv_logger, checkpointer, early_stopper,\n",
    "                                   lr_reducer, TQDMNotebookCallback()])\n",
    "    model.save('{}_wu_{}.h5'.format(title, pct_missing))\n",
    "    \n",
    "    # Predict\n",
    "    y_train_pred_enc = model.predict(x_train)\n",
    "    y_test_pred_enc = model.predict(x_test)\n",
    "    \n",
    "    lst = []\n",
    "    y_train_pred = np.argmax(y_train_pred_enc, axis=-1)\n",
    "    y_train_true = np.argmax(y_train, axis=-1)\n",
    "    y_train_label = np.argmax(y_train_pu[pct_missing], axis=-1)\n",
    "    for y_pred, y_true, y_label in zip(y_train_pred, y_train_true, y_train_label):\n",
    "        lst.append(dict(y_pred=y_pred, y_true=y_true, y_label=y_label, split='train'))\n",
    "\n",
    "    y_test_pred = np.argmax(y_test_pred_enc, axis=-1)\n",
    "    y_test_true = np.argmax(y_test, axis=-1)\n",
    "    for y_pred, y_true in zip(y_test_pred, y_test_true):\n",
    "        lst.append(dict(y_pred=y_pred, y_true=y_true, y_label=y_true, split='test'))\n",
    "    \n",
    "    df = pd.DataFrame(lst)\n",
    "    df.to_csv('prediction_{}_wu_{}.csv'.format(title, pct_missing), index=False, mode='a')"
   ]
  },
  {
   "cell_type": "code",
   "execution_count": null,
   "metadata": {
    "collapsed": true
   },
   "outputs": [],
   "source": []
  }
 ],
 "metadata": {
  "kernelspec": {
   "display_name": "Python 2",
   "language": "python",
   "name": "python2"
  },
  "language_info": {
   "codemirror_mode": {
    "name": "ipython",
    "version": 2
   },
   "file_extension": ".py",
   "mimetype": "text/x-python",
   "name": "python",
   "nbconvert_exporter": "python",
   "pygments_lexer": "ipython2",
   "version": "2.7.12"
  }
 },
 "nbformat": 4,
 "nbformat_minor": 2
}
