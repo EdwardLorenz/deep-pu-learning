{
 "cells": [
  {
   "cell_type": "code",
   "execution_count": 1,
   "metadata": {},
   "outputs": [
    {
     "name": "stderr",
     "output_type": "stream",
     "text": [
      "Using TensorFlow backend.\n"
     ]
    }
   ],
   "source": [
    "from __future__ import (print_function, absolute_import)\n",
    "import os\n",
    "import numpy as np\n",
    "import pandas as pd\n",
    "import keras\n",
    "import keras.backend as K\n",
    "from keras import datasets\n",
    "from keras.preprocessing.image import ImageDataGenerator\n",
    "from keras.models import load_model\n",
    "\n",
    "from models import CNN, VGG8\n",
    "from wide_resnet import WideResidualNetwork\n",
    "from pulearn.utils import synthesize_pu_labels\n",
    "\n",
    "from keras.callbacks import (\n",
    "    ReduceLROnPlateau,\n",
    "    LearningRateScheduler,\n",
    "    CSVLogger,\n",
    "    EarlyStopping,\n",
    "    ModelCheckpoint)\n",
    "\n",
    "from keras_tqdm import TQDMNotebookCallback\n",
    "\n",
    "import tensorflow as tf\n",
    "\n",
    "os.environ[\"CUDA_VISIBLE_DEVICES\"]=\"0\"\n",
    "\n",
    "global _SESSION\n",
    "config = tf.ConfigProto(allow_soft_placement=True)\n",
    "config.gpu_options.allow_growth = True\n",
    "_SESSION = tf.Session(config=config)\n",
    "K.set_session(_SESSION)"
   ]
  },
  {
   "cell_type": "markdown",
   "metadata": {},
   "source": [
    "# CIFAR110"
   ]
  },
  {
   "cell_type": "code",
   "execution_count": 2,
   "metadata": {
    "collapsed": true
   },
   "outputs": [],
   "source": [
    "num_classes = 11\n",
    "batch_size = 128\n",
    "epochs = 200\n",
    "data_augmentation = True\n",
    "checkpoint = None\n",
    "# checkpoint = 'model_checkpoint_cifar10_wide_resnet.h5'\n",
    "title = 'cifar110_vgg8'\n",
    "# title = 'cifar110_wide_resnet'"
   ]
  },
  {
   "cell_type": "code",
   "execution_count": 3,
   "metadata": {
    "collapsed": true
   },
   "outputs": [],
   "source": [
    "(x_train_10, y_train_10), (x_test_10, y_test_10) = datasets.cifar10.load_data()\n",
    "(x_train_100, y_train_100), (x_test_100, y_test_100) = datasets.cifar100.load_data()\n",
    "\n",
    "y_train_10 = y_train_10 + 1\n",
    "y_test_10 = y_test_10 + 1\n",
    "y_train_100[...] = 0\n",
    "y_test_100[...] = 0\n",
    "\n",
    "x_train = np.concatenate((x_train_10, x_train_100), axis=0).astype('float32')\n",
    "y_train = np.concatenate((y_train_10, y_train_100), axis=0).astype('int8')\n",
    "x_test = np.concatenate((x_test_10, x_test_100), axis=0).astype('float32')\n",
    "y_test = np.concatenate((y_test_10, y_test_100), axis=0).astype('int8')\n",
    "\n",
    "x_train = x_train.astype(K.floatx())\n",
    "x_test = x_test.astype(K.floatx())\n",
    "\n",
    "y_train = keras.utils.to_categorical(y_train, num_classes)\n",
    "y_test = keras.utils.to_categorical(y_test, num_classes)\n"
   ]
  },
  {
   "cell_type": "code",
   "execution_count": 4,
   "metadata": {},
   "outputs": [
    {
     "name": "stdout",
     "output_type": "stream",
     "text": [
      "(100000, 32, 32, 3) (100000, 11)\n",
      "(20000, 32, 32, 3) (20000, 11)\n"
     ]
    }
   ],
   "source": [
    "print(x_train.shape, y_train.shape)\n",
    "print(x_test.shape, y_test.shape)"
   ]
  },
  {
   "cell_type": "code",
   "execution_count": 5,
   "metadata": {},
   "outputs": [
    {
     "name": "stdout",
     "output_type": "stream",
     "text": [
      "('Positive (pct_missing=0.0):', 275000, ' vs.', 275000)\n",
      "('Positive (pct_missing=0.1):', 275000, ' vs.', 247600)\n",
      "('Positive (pct_missing=0.2):', 275000, ' vs.', 220445)\n",
      "('Positive (pct_missing=0.3):', 275000, ' vs.', 191504)\n",
      "('Positive (pct_missing=0.4):', 275000, ' vs.', 165099)\n",
      "('Positive (pct_missing=0.5):', 275000, ' vs.', 137356)\n",
      "('Positive (pct_missing=0.6):', 275000, ' vs.', 109480)\n",
      "('Positive (pct_missing=0.7):', 275000, ' vs.', 81796)\n",
      "('Positive (pct_missing=0.8):', 275000, ' vs.', 55673)\n",
      "('Positive (pct_missing=0.9):', 275000, ' vs.', 27323)\n",
      "('Positive (pct_missing=1.0):', 275000, ' vs.', 0)\n",
      "class_weight [ 0.06058021  3.62331969  3.69699434  3.61180337  3.63490967  3.6161134\n",
      "  3.65831352  3.7000037   3.56926152  3.67904051  3.62476439]\n"
     ]
    }
   ],
   "source": [
    "pct_missing = 0.5\n",
    "y_train_pu = synthesize_pu_labels(y_train, random_state=42, verbose=True)\n",
    "\n",
    "from sklearn.utils import class_weight\n",
    "y_train_enc = y_train_pu[pct_missing]\n",
    "y_train_dec = np.argmax(y_train_enc, axis=1)\n",
    "class_weight = class_weight.compute_class_weight('balanced', np.unique(y_train_dec), y_train_dec)\n",
    "class_weight[0] = class_weight[0] * 0.5\n",
    "print('class_weight', class_weight)"
   ]
  },
  {
   "cell_type": "code",
   "execution_count": 6,
   "metadata": {},
   "outputs": [
    {
     "name": "stdout",
     "output_type": "stream",
     "text": [
      "_________________________________________________________________\n",
      "Layer (type)                 Output Shape              Param #   \n",
      "=================================================================\n",
      "conv2d_1 (Conv2D)            (None, 32, 32, 32)        896       \n",
      "_________________________________________________________________\n",
      "leaky_re_lu_1 (LeakyReLU)    (None, 32, 32, 32)        0         \n",
      "_________________________________________________________________\n",
      "conv2d_2 (Conv2D)            (None, 32, 32, 32)        9248      \n",
      "_________________________________________________________________\n",
      "leaky_re_lu_2 (LeakyReLU)    (None, 32, 32, 32)        0         \n",
      "_________________________________________________________________\n",
      "max_pooling2d_1 (MaxPooling2 (None, 16, 16, 32)        0         \n",
      "_________________________________________________________________\n",
      "dropout_1 (Dropout)          (None, 16, 16, 32)        0         \n",
      "_________________________________________________________________\n",
      "conv2d_3 (Conv2D)            (None, 16, 16, 64)        18496     \n",
      "_________________________________________________________________\n",
      "leaky_re_lu_3 (LeakyReLU)    (None, 16, 16, 64)        0         \n",
      "_________________________________________________________________\n",
      "conv2d_4 (Conv2D)            (None, 16, 16, 64)        36928     \n",
      "_________________________________________________________________\n",
      "leaky_re_lu_4 (LeakyReLU)    (None, 16, 16, 64)        0         \n",
      "_________________________________________________________________\n",
      "max_pooling2d_2 (MaxPooling2 (None, 8, 8, 64)          0         \n",
      "_________________________________________________________________\n",
      "dropout_2 (Dropout)          (None, 8, 8, 64)          0         \n",
      "_________________________________________________________________\n",
      "conv2d_5 (Conv2D)            (None, 8, 8, 128)         73856     \n",
      "_________________________________________________________________\n",
      "leaky_re_lu_5 (LeakyReLU)    (None, 8, 8, 128)         0         \n",
      "_________________________________________________________________\n",
      "conv2d_6 (Conv2D)            (None, 8, 8, 128)         147584    \n",
      "_________________________________________________________________\n",
      "leaky_re_lu_6 (LeakyReLU)    (None, 8, 8, 128)         0         \n",
      "_________________________________________________________________\n",
      "max_pooling2d_3 (MaxPooling2 (None, 4, 4, 128)         0         \n",
      "_________________________________________________________________\n",
      "dropout_3 (Dropout)          (None, 4, 4, 128)         0         \n",
      "_________________________________________________________________\n",
      "flatten_1 (Flatten)          (None, 2048)              0         \n",
      "_________________________________________________________________\n",
      "dense_1 (Dense)              (None, 512)               1049088   \n",
      "_________________________________________________________________\n",
      "activation_1 (Activation)    (None, 512)               0         \n",
      "_________________________________________________________________\n",
      "dropout_4 (Dropout)          (None, 512)               0         \n",
      "_________________________________________________________________\n",
      "dense_2 (Dense)              (None, 11)                5643      \n",
      "_________________________________________________________________\n",
      "activation_2 (Activation)    (None, 11)                0         \n",
      "=================================================================\n",
      "Total params: 1,341,739\n",
      "Trainable params: 1,341,739\n",
      "Non-trainable params: 0\n",
      "_________________________________________________________________\n"
     ]
    }
   ],
   "source": [
    "if title == 'cifar110_vgg8':\n",
    "    model = VGG8(input_shape=x_train.shape[1:], num_classes=num_classes)\n",
    "elif title == 'cifar110_wide_resnet':\n",
    "    model = WideResidualNetwork(depth=28, width=8, dropout_rate=0.5,\n",
    "                                classes=num_classes, include_top=True,\n",
    "                                weights=None)\n",
    "if checkpoint is not None:\n",
    "    model = load_model(checkpoint)\n",
    "    \n",
    "optimizer = keras.optimizers.Adam(lr=1e-4)\n",
    "model.compile(loss='categorical_crossentropy',\n",
    "              optimizer=optimizer,\n",
    "              metrics=['accuracy'])\n",
    "model.summary()"
   ]
  },
  {
   "cell_type": "code",
   "execution_count": 9,
   "metadata": {
    "collapsed": true
   },
   "outputs": [],
   "source": [
    "# Checkpoint\n",
    "checkpointer = ModelCheckpoint(\n",
    "    filepath=\"model_checkpoint_{}_wu_{}.h5\".format(title, pct_missing),\n",
    "    verbose=1,\n",
    "    save_best_only=True)\n",
    "\n",
    "# csvlogger\n",
    "csv_logger = CSVLogger(\n",
    "    'csv_logger_{}_wu_{}.csv'.format(title, pct_missing))\n",
    "\n",
    "# EarlyStopping\n",
    "early_stopper = EarlyStopping(monitor='val_loss',\n",
    "                              min_delta=0.001,\n",
    "                              patience=50)\n",
    "# Reduce lr with schedule\n",
    "# def schedule(epoch):\n",
    "#     lr = K.get_value(model.optimizer.lr)\n",
    "#     if epoch in [60, 120, 160]:\n",
    "#         lr = lr * np.sqrt(0.1)\n",
    "#     return lr\n",
    "# lr_scheduler = LearningRateScheduler(schedule)\n",
    "\n",
    "# Reduce lr on plateau\n",
    "lr_reducer = ReduceLROnPlateau(factor=np.sqrt(0.1),\n",
    "                               cooldown=0,\n",
    "                               patience=20,\n",
    "                               min_lr=1e-6)"
   ]
  },
  {
   "cell_type": "code",
   "execution_count": null,
   "metadata": {},
   "outputs": [
    {
     "name": "stdout",
     "output_type": "stream",
     "text": [
      "Using real-time data augmentation.\n"
     ]
    },
    {
     "data": {
      "application/vnd.jupyter.widget-view+json": {
       "model_id": "0d81d743cc0f43c4b76994c2f5cab347"
      }
     },
     "metadata": {},
     "output_type": "display_data"
    },
    {
     "data": {
      "application/vnd.jupyter.widget-view+json": {
       "model_id": "5b0c3d09717946c3a511bf8a5fcf2fb3"
      }
     },
     "metadata": {},
     "output_type": "display_data"
    },
    {
     "name": "stdout",
     "output_type": "stream",
     "text": [
      "Epoch 1/200\n",
      "780/781 [============================>.] - ETA: 0s - loss: 1.1941 - acc: 0.7502Epoch 00000: val_loss improved from inf to 2.06657, saving model to model_checkpoint_cifar110_vgg8_wu_0.5.h5\n",
      "781/781 [==============================] - 44s - loss: 1.1940 - acc: 0.7502 - val_loss: 2.0666 - val_acc: 0.5000\n"
     ]
    },
    {
     "data": {
      "application/vnd.jupyter.widget-view+json": {
       "model_id": "11f21be48a7745cbbd8f695f8da47f93"
      }
     },
     "metadata": {},
     "output_type": "display_data"
    },
    {
     "name": "stdout",
     "output_type": "stream",
     "text": [
      "Epoch 2/200\n",
      "780/781 [============================>.] - ETA: 0s - loss: 1.1580 - acc: 0.7503Epoch 00001: val_loss did not improve\n",
      "781/781 [==============================] - 44s - loss: 1.1579 - acc: 0.7504 - val_loss: 2.0784 - val_acc: 0.5000\n"
     ]
    },
    {
     "data": {
      "application/vnd.jupyter.widget-view+json": {
       "model_id": "aa65ee2d1fd94b639abc85049dd16b19"
      }
     },
     "metadata": {},
     "output_type": "display_data"
    },
    {
     "name": "stdout",
     "output_type": "stream",
     "text": [
      "Epoch 3/200\n",
      "780/781 [============================>.] - ETA: 0s - loss: 1.0990 - acc: 0.7504Epoch 00002: val_loss improved from 2.06657 to 1.64420, saving model to model_checkpoint_cifar110_vgg8_wu_0.5.h5\n",
      "781/781 [==============================] - 69s - loss: 1.0988 - acc: 0.7505 - val_loss: 1.6442 - val_acc: 0.5000\n"
     ]
    },
    {
     "data": {
      "application/vnd.jupyter.widget-view+json": {
       "model_id": "1db86fe4950c446280cb37120cfd2f95"
      }
     },
     "metadata": {},
     "output_type": "display_data"
    },
    {
     "name": "stdout",
     "output_type": "stream",
     "text": [
      "Epoch 4/200\n",
      "780/781 [============================>.] - ETA: 0s - loss: 0.9825 - acc: 0.7504Epoch 00003: val_loss improved from 1.64420 to 1.46413, saving model to model_checkpoint_cifar110_vgg8_wu_0.5.h5\n",
      "781/781 [==============================] - 85s - loss: 0.9823 - acc: 0.7504 - val_loss: 1.4641 - val_acc: 0.5006\n"
     ]
    },
    {
     "data": {
      "application/vnd.jupyter.widget-view+json": {
       "model_id": "fb33be4de6d54096b3df6d0b725218af"
      }
     },
     "metadata": {},
     "output_type": "display_data"
    },
    {
     "name": "stdout",
     "output_type": "stream",
     "text": [
      "Epoch 5/200\n",
      "780/781 [============================>.] - ETA: 0s - loss: 0.8917 - acc: 0.7505Epoch 00004: val_loss improved from 1.46413 to 1.21241, saving model to model_checkpoint_cifar110_vgg8_wu_0.5.h5\n",
      "781/781 [==============================] - 85s - loss: 0.8920 - acc: 0.7504 - val_loss: 1.2124 - val_acc: 0.5243\n"
     ]
    },
    {
     "data": {
      "application/vnd.jupyter.widget-view+json": {
       "model_id": "d29eac8ab18f4425924e4987eee9ecf8"
      }
     },
     "metadata": {},
     "output_type": "display_data"
    },
    {
     "name": "stdout",
     "output_type": "stream",
     "text": [
      "Epoch 6/200\n",
      "780/781 [============================>.] - ETA: 0s - loss: 0.8298 - acc: 0.7502Epoch 00005: val_loss improved from 1.21241 to 1.18256, saving model to model_checkpoint_cifar110_vgg8_wu_0.5.h5\n",
      "781/781 [==============================] - 85s - loss: 0.8300 - acc: 0.7501 - val_loss: 1.1826 - val_acc: 0.5249\n"
     ]
    },
    {
     "data": {
      "application/vnd.jupyter.widget-view+json": {
       "model_id": "1728dcb4ecea4a30ba8f24a9b9851af9"
      }
     },
     "metadata": {},
     "output_type": "display_data"
    },
    {
     "name": "stdout",
     "output_type": "stream",
     "text": [
      "Epoch 7/200\n",
      "780/781 [============================>.] - ETA: 0s - loss: 0.7899 - acc: 0.7500Epoch 00006: val_loss improved from 1.18256 to 1.17425, saving model to model_checkpoint_cifar110_vgg8_wu_0.5.h5\n",
      "781/781 [==============================] - 85s - loss: 0.7900 - acc: 0.7500 - val_loss: 1.1742 - val_acc: 0.5454\n"
     ]
    },
    {
     "data": {
      "application/vnd.jupyter.widget-view+json": {
       "model_id": "c2ce01dc15914f9390457c2173d1dcdf"
      }
     },
     "metadata": {},
     "output_type": "display_data"
    },
    {
     "name": "stdout",
     "output_type": "stream",
     "text": [
      "Epoch 8/200\n",
      "780/781 [============================>.] - ETA: 0s - loss: 0.7663 - acc: 0.7501Epoch 00007: val_loss improved from 1.17425 to 1.09669, saving model to model_checkpoint_cifar110_vgg8_wu_0.5.h5\n",
      "781/781 [==============================] - 85s - loss: 0.7663 - acc: 0.7501 - val_loss: 1.0967 - val_acc: 0.5471\n"
     ]
    },
    {
     "data": {
      "application/vnd.jupyter.widget-view+json": {
       "model_id": "056f24b612224c35b848494f519da2b3"
      }
     },
     "metadata": {},
     "output_type": "display_data"
    },
    {
     "name": "stdout",
     "output_type": "stream",
     "text": [
      "Epoch 9/200\n",
      "780/781 [============================>.] - ETA: 0s - loss: 0.7493 - acc: 0.7501Epoch 00008: val_loss improved from 1.09669 to 1.05198, saving model to model_checkpoint_cifar110_vgg8_wu_0.5.h5\n",
      "781/781 [==============================] - 85s - loss: 0.7494 - acc: 0.7501 - val_loss: 1.0520 - val_acc: 0.5818\n"
     ]
    },
    {
     "data": {
      "application/vnd.jupyter.widget-view+json": {
       "model_id": "2690ec921af34eababc31a57f3724d29"
      }
     },
     "metadata": {},
     "output_type": "display_data"
    },
    {
     "name": "stdout",
     "output_type": "stream",
     "text": [
      "Epoch 10/200\n",
      "780/781 [============================>.] - ETA: 0s - loss: 0.7263 - acc: 0.7511Epoch 00009: val_loss did not improve\n",
      "781/781 [==============================] - 85s - loss: 0.7262 - acc: 0.7512 - val_loss: 1.2136 - val_acc: 0.5355\n"
     ]
    },
    {
     "data": {
      "application/vnd.jupyter.widget-view+json": {
       "model_id": "9f766144d5794f30a0616660bff8b9e4"
      }
     },
     "metadata": {},
     "output_type": "display_data"
    },
    {
     "name": "stdout",
     "output_type": "stream",
     "text": [
      "Epoch 11/200\n",
      "780/781 [============================>.] - ETA: 0s - loss: 0.7125 - acc: 0.7514Epoch 00010: val_loss improved from 1.05198 to 1.02055, saving model to model_checkpoint_cifar110_vgg8_wu_0.5.h5\n",
      "781/781 [==============================] - 86s - loss: 0.7123 - acc: 0.7515 - val_loss: 1.0205 - val_acc: 0.5736\n"
     ]
    },
    {
     "data": {
      "application/vnd.jupyter.widget-view+json": {
       "model_id": "f556c48aa4d7430e996c715cb3319305"
      }
     },
     "metadata": {},
     "output_type": "display_data"
    },
    {
     "name": "stdout",
     "output_type": "stream",
     "text": [
      "Epoch 12/200\n",
      "780/781 [============================>.] - ETA: 0s - loss: 0.7028 - acc: 0.7523Epoch 00011: val_loss improved from 1.02055 to 0.98134, saving model to model_checkpoint_cifar110_vgg8_wu_0.5.h5\n",
      "781/781 [==============================] - 85s - loss: 0.7029 - acc: 0.7522 - val_loss: 0.9813 - val_acc: 0.5924\n"
     ]
    },
    {
     "data": {
      "application/vnd.jupyter.widget-view+json": {
       "model_id": "b9b872f3d09f4f019532dc28c6c313ba"
      }
     },
     "metadata": {},
     "output_type": "display_data"
    },
    {
     "name": "stdout",
     "output_type": "stream",
     "text": [
      "Epoch 13/200\n",
      "780/781 [============================>.] - ETA: 0s - loss: 0.6919 - acc: 0.7524Epoch 00012: val_loss improved from 0.98134 to 0.95675, saving model to model_checkpoint_cifar110_vgg8_wu_0.5.h5\n",
      "781/781 [==============================] - 85s - loss: 0.6920 - acc: 0.7524 - val_loss: 0.9567 - val_acc: 0.5790\n"
     ]
    },
    {
     "data": {
      "application/vnd.jupyter.widget-view+json": {
       "model_id": "2853c53bb03342739f2b1a6c928dad1d"
      }
     },
     "metadata": {},
     "output_type": "display_data"
    },
    {
     "name": "stdout",
     "output_type": "stream",
     "text": [
      "Epoch 14/200\n",
      "780/781 [============================>.] - ETA: 0s - loss: 0.6843 - acc: 0.7540Epoch 00013: val_loss improved from 0.95675 to 0.92140, saving model to model_checkpoint_cifar110_vgg8_wu_0.5.h5\n",
      "781/781 [==============================] - 85s - loss: 0.6843 - acc: 0.7540 - val_loss: 0.9214 - val_acc: 0.5950\n"
     ]
    },
    {
     "data": {
      "application/vnd.jupyter.widget-view+json": {
       "model_id": "c487cb735ad74e7aa2d139988b417cbe"
      }
     },
     "metadata": {},
     "output_type": "display_data"
    },
    {
     "name": "stdout",
     "output_type": "stream",
     "text": [
      "Epoch 15/200\n",
      "780/781 [============================>.] - ETA: 0s - loss: 0.6789 - acc: 0.7537Epoch 00014: val_loss improved from 0.92140 to 0.91598, saving model to model_checkpoint_cifar110_vgg8_wu_0.5.h5\n",
      "781/781 [==============================] - 85s - loss: 0.6788 - acc: 0.7537 - val_loss: 0.9160 - val_acc: 0.5874\n"
     ]
    },
    {
     "data": {
      "application/vnd.jupyter.widget-view+json": {
       "model_id": "8a7642cd0b77469a87e65f48c46a19de"
      }
     },
     "metadata": {},
     "output_type": "display_data"
    },
    {
     "name": "stdout",
     "output_type": "stream",
     "text": [
      "Epoch 16/200\n",
      "780/781 [============================>.] - ETA: 0s - loss: 0.6669 - acc: 0.7533Epoch 00015: val_loss did not improve\n",
      "781/781 [==============================] - 85s - loss: 0.6669 - acc: 0.7533 - val_loss: 0.9879 - val_acc: 0.5908\n"
     ]
    },
    {
     "data": {
      "application/vnd.jupyter.widget-view+json": {
       "model_id": "59f88acd614c4ad5a9aa6834023f96b0"
      }
     },
     "metadata": {},
     "output_type": "display_data"
    },
    {
     "name": "stdout",
     "output_type": "stream",
     "text": [
      "Epoch 17/200\n",
      "780/781 [============================>.] - ETA: 0s - loss: 0.6654 - acc: 0.7542Epoch 00016: val_loss improved from 0.91598 to 0.87041, saving model to model_checkpoint_cifar110_vgg8_wu_0.5.h5\n",
      "781/781 [==============================] - 85s - loss: 0.6654 - acc: 0.7542 - val_loss: 0.8704 - val_acc: 0.6271\n"
     ]
    },
    {
     "data": {
      "application/vnd.jupyter.widget-view+json": {
       "model_id": "60e68b2aca1b43b68d2d11d16d7328d5"
      }
     },
     "metadata": {},
     "output_type": "display_data"
    },
    {
     "name": "stdout",
     "output_type": "stream",
     "text": [
      "Epoch 18/200\n",
      "780/781 [============================>.] - ETA: 0s - loss: 0.6577 - acc: 0.7547Epoch 00017: val_loss did not improve\n",
      "781/781 [==============================] - 85s - loss: 0.6576 - acc: 0.7547 - val_loss: 0.9177 - val_acc: 0.6026\n"
     ]
    },
    {
     "data": {
      "application/vnd.jupyter.widget-view+json": {
       "model_id": "5dbbe2a99f474bf098cfe9b644bba78d"
      }
     },
     "metadata": {},
     "output_type": "display_data"
    },
    {
     "name": "stdout",
     "output_type": "stream",
     "text": [
      "Epoch 19/200\n",
      "780/781 [============================>.] - ETA: 0s - loss: 0.6563 - acc: 0.7560Epoch 00018: val_loss did not improve\n",
      "781/781 [==============================] - 85s - loss: 0.6562 - acc: 0.7561 - val_loss: 0.9250 - val_acc: 0.6038\n"
     ]
    },
    {
     "data": {
      "application/vnd.jupyter.widget-view+json": {
       "model_id": "8a565503a6de402387845ad11a9969bc"
      }
     },
     "metadata": {},
     "output_type": "display_data"
    },
    {
     "name": "stdout",
     "output_type": "stream",
     "text": [
      "Epoch 20/200\n",
      "780/781 [============================>.] - ETA: 0s - loss: 0.6481 - acc: 0.7559Epoch 00019: val_loss did not improve\n",
      "781/781 [==============================] - 86s - loss: 0.6481 - acc: 0.7558 - val_loss: 0.8827 - val_acc: 0.6002\n"
     ]
    },
    {
     "data": {
      "application/vnd.jupyter.widget-view+json": {
       "model_id": "3556e9c404324881ade3bd85fc5b3e24"
      }
     },
     "metadata": {},
     "output_type": "display_data"
    },
    {
     "name": "stdout",
     "output_type": "stream",
     "text": [
      "Epoch 21/200\n",
      "780/781 [============================>.] - ETA: 0s - loss: 0.6486 - acc: 0.7563Epoch 00020: val_loss did not improve\n",
      "781/781 [==============================] - 86s - loss: 0.6486 - acc: 0.7563 - val_loss: 0.8902 - val_acc: 0.6087\n"
     ]
    },
    {
     "data": {
      "application/vnd.jupyter.widget-view+json": {
       "model_id": "6120df4ae4234debab0b4bbea56cb561"
      }
     },
     "metadata": {},
     "output_type": "display_data"
    },
    {
     "name": "stdout",
     "output_type": "stream",
     "text": [
      "Epoch 22/200\n",
      "780/781 [============================>.] - ETA: 0s - loss: 0.6443 - acc: 0.7556Epoch 00021: val_loss did not improve\n",
      "781/781 [==============================] - 86s - loss: 0.6445 - acc: 0.7556 - val_loss: 0.9439 - val_acc: 0.5993\n"
     ]
    },
    {
     "data": {
      "application/vnd.jupyter.widget-view+json": {
       "model_id": "925fadb531c948599ede4586a85dfd11"
      }
     },
     "metadata": {},
     "output_type": "display_data"
    },
    {
     "name": "stdout",
     "output_type": "stream",
     "text": [
      "Epoch 23/200\n",
      "780/781 [============================>.] - ETA: 0s - loss: 0.6364 - acc: 0.7561Epoch 00022: val_loss did not improve\n",
      "781/781 [==============================] - 86s - loss: 0.6364 - acc: 0.7562 - val_loss: 0.8763 - val_acc: 0.6099\n"
     ]
    },
    {
     "data": {
      "application/vnd.jupyter.widget-view+json": {
       "model_id": "82e42e3627ca400ea9098e596b5fd7f2"
      }
     },
     "metadata": {},
     "output_type": "display_data"
    },
    {
     "name": "stdout",
     "output_type": "stream",
     "text": [
      "Epoch 24/200\n",
      "780/781 [============================>.] - ETA: 0s - loss: 0.6344 - acc: 0.7562Epoch 00023: val_loss improved from 0.87041 to 0.86131, saving model to model_checkpoint_cifar110_vgg8_wu_0.5.h5\n",
      "781/781 [==============================] - 86s - loss: 0.6345 - acc: 0.7563 - val_loss: 0.8613 - val_acc: 0.6240\n"
     ]
    },
    {
     "data": {
      "application/vnd.jupyter.widget-view+json": {
       "model_id": "c6f1b2a11b6945258da2dfaeb92f6d6a"
      }
     },
     "metadata": {},
     "output_type": "display_data"
    },
    {
     "name": "stdout",
     "output_type": "stream",
     "text": [
      "Epoch 25/200\n",
      "780/781 [============================>.] - ETA: 0s - loss: 0.6346 - acc: 0.7572Epoch 00024: val_loss did not improve\n",
      "781/781 [==============================] - 85s - loss: 0.6344 - acc: 0.7573 - val_loss: 0.8698 - val_acc: 0.6231\n"
     ]
    },
    {
     "data": {
      "application/vnd.jupyter.widget-view+json": {
       "model_id": "278e8021244a4814a9394e3e2b12193c"
      }
     },
     "metadata": {},
     "output_type": "display_data"
    },
    {
     "name": "stdout",
     "output_type": "stream",
     "text": [
      "Epoch 26/200\n",
      "780/781 [============================>.] - ETA: 0s - loss: 0.6340 - acc: 0.7575Epoch 00025: val_loss did not improve\n",
      "781/781 [==============================] - 85s - loss: 0.6341 - acc: 0.7575 - val_loss: 0.8888 - val_acc: 0.6192\n"
     ]
    },
    {
     "data": {
      "application/vnd.jupyter.widget-view+json": {
       "model_id": "0d1900aa5d5d4571b8f9347594fa1f57"
      }
     },
     "metadata": {},
     "output_type": "display_data"
    },
    {
     "name": "stdout",
     "output_type": "stream",
     "text": [
      "Epoch 27/200\n",
      "780/781 [============================>.] - ETA: 0s - loss: 0.6258 - acc: 0.7568Epoch 00026: val_loss did not improve\n",
      "781/781 [==============================] - 85s - loss: 0.6257 - acc: 0.7568 - val_loss: 0.8619 - val_acc: 0.6241\n"
     ]
    },
    {
     "data": {
      "application/vnd.jupyter.widget-view+json": {
       "model_id": "fd256928e7a34e29b38e529ec1d87059"
      }
     },
     "metadata": {},
     "output_type": "display_data"
    },
    {
     "name": "stdout",
     "output_type": "stream",
     "text": [
      "Epoch 28/200\n",
      "780/781 [============================>.] - ETA: 0s - loss: 0.6227 - acc: 0.7570Epoch 00027: val_loss did not improve\n",
      "781/781 [==============================] - 86s - loss: 0.6228 - acc: 0.7570 - val_loss: 0.8747 - val_acc: 0.6224\n"
     ]
    },
    {
     "data": {
      "application/vnd.jupyter.widget-view+json": {
       "model_id": "aab7ba5fd3364bf396d44a8346c10193"
      }
     },
     "metadata": {},
     "output_type": "display_data"
    },
    {
     "name": "stdout",
     "output_type": "stream",
     "text": [
      "Epoch 29/200\n",
      "780/781 [============================>.] - ETA: 0s - loss: 0.6245 - acc: 0.7572Epoch 00028: val_loss improved from 0.86131 to 0.83041, saving model to model_checkpoint_cifar110_vgg8_wu_0.5.h5\n",
      "781/781 [==============================] - 85s - loss: 0.6245 - acc: 0.7572 - val_loss: 0.8304 - val_acc: 0.6494\n"
     ]
    },
    {
     "data": {
      "application/vnd.jupyter.widget-view+json": {
       "model_id": "4d56baad074e4a088c21292d91298358"
      }
     },
     "metadata": {},
     "output_type": "display_data"
    },
    {
     "name": "stdout",
     "output_type": "stream",
     "text": [
      "Epoch 30/200\n",
      "780/781 [============================>.] - ETA: 0s - loss: 0.6194 - acc: 0.7586Epoch 00029: val_loss did not improve\n",
      "781/781 [==============================] - 85s - loss: 0.6193 - acc: 0.7587 - val_loss: 0.8798 - val_acc: 0.6086\n"
     ]
    },
    {
     "data": {
      "application/vnd.jupyter.widget-view+json": {
       "model_id": "6b29edab96b94774907c0197371e646c"
      }
     },
     "metadata": {},
     "output_type": "display_data"
    },
    {
     "name": "stdout",
     "output_type": "stream",
     "text": [
      "Epoch 31/200\n",
      "780/781 [============================>.] - ETA: 0s - loss: 0.6216 - acc: 0.7585Epoch 00030: val_loss did not improve\n",
      "781/781 [==============================] - 85s - loss: 0.6215 - acc: 0.7586 - val_loss: 0.8353 - val_acc: 0.6226\n"
     ]
    },
    {
     "data": {
      "application/vnd.jupyter.widget-view+json": {
       "model_id": "2c17fbcb031e41ddb4266e722c543d83"
      }
     },
     "metadata": {},
     "output_type": "display_data"
    },
    {
     "name": "stdout",
     "output_type": "stream",
     "text": [
      "Epoch 32/200\n",
      "780/781 [============================>.] - ETA: 0s - loss: 0.6163 - acc: 0.7576Epoch 00031: val_loss did not improve\n",
      "781/781 [==============================] - 85s - loss: 0.6163 - acc: 0.7576 - val_loss: 0.8651 - val_acc: 0.6263\n"
     ]
    },
    {
     "data": {
      "application/vnd.jupyter.widget-view+json": {
       "model_id": "ef7147c50af54428b39ebde20b0b9df1"
      }
     },
     "metadata": {},
     "output_type": "display_data"
    },
    {
     "name": "stdout",
     "output_type": "stream",
     "text": [
      "Epoch 33/200\n",
      "780/781 [============================>.] - ETA: 0s - loss: 0.6160 - acc: 0.7592Epoch 00032: val_loss did not improve\n",
      "781/781 [==============================] - 85s - loss: 0.6160 - acc: 0.7592 - val_loss: 0.8360 - val_acc: 0.6331\n"
     ]
    },
    {
     "data": {
      "application/vnd.jupyter.widget-view+json": {
       "model_id": "12af023defa649c0a9bf1f6f4254d524"
      }
     },
     "metadata": {},
     "output_type": "display_data"
    },
    {
     "name": "stdout",
     "output_type": "stream",
     "text": [
      "Epoch 34/200\n",
      "780/781 [============================>.] - ETA: 0s - loss: 0.6111 - acc: 0.7603Epoch 00033: val_loss did not improve\n",
      "781/781 [==============================] - 85s - loss: 0.6113 - acc: 0.7603 - val_loss: 0.8534 - val_acc: 0.6290\n"
     ]
    },
    {
     "data": {
      "application/vnd.jupyter.widget-view+json": {
       "model_id": "220cff7dee88453aa1327976d815b8f3"
      }
     },
     "metadata": {},
     "output_type": "display_data"
    },
    {
     "name": "stdout",
     "output_type": "stream",
     "text": [
      "Epoch 35/200\n",
      "780/781 [============================>.] - ETA: 0s - loss: 0.6133 - acc: 0.7580Epoch 00034: val_loss did not improve\n",
      "781/781 [==============================] - 85s - loss: 0.6134 - acc: 0.7580 - val_loss: 0.8698 - val_acc: 0.6268\n"
     ]
    },
    {
     "data": {
      "application/vnd.jupyter.widget-view+json": {
       "model_id": "045dbe11021b4f87b115bd6e173df64c"
      }
     },
     "metadata": {},
     "output_type": "display_data"
    },
    {
     "name": "stdout",
     "output_type": "stream",
     "text": [
      "Epoch 36/200\n",
      "780/781 [============================>.] - ETA: 0s - loss: 0.6088 - acc: 0.7598Epoch 00035: val_loss did not improve\n",
      "781/781 [==============================] - 85s - loss: 0.6087 - acc: 0.7598 - val_loss: 0.8373 - val_acc: 0.6352\n"
     ]
    },
    {
     "data": {
      "application/vnd.jupyter.widget-view+json": {
       "model_id": "2b2ffda7ae8943948b22b87745c5d301"
      }
     },
     "metadata": {},
     "output_type": "display_data"
    },
    {
     "name": "stdout",
     "output_type": "stream",
     "text": [
      "Epoch 37/200\n",
      "780/781 [============================>.] - ETA: 0s - loss: 0.6052 - acc: 0.7606Epoch 00036: val_loss improved from 0.83041 to 0.82297, saving model to model_checkpoint_cifar110_vgg8_wu_0.5.h5\n",
      "781/781 [==============================] - 85s - loss: 0.6051 - acc: 0.7606 - val_loss: 0.8230 - val_acc: 0.6426\n"
     ]
    },
    {
     "data": {
      "application/vnd.jupyter.widget-view+json": {
       "model_id": "b0743971ce994355b0248bcdca9fce86"
      }
     },
     "metadata": {},
     "output_type": "display_data"
    },
    {
     "name": "stdout",
     "output_type": "stream",
     "text": [
      "Epoch 38/200\n",
      "780/781 [============================>.] - ETA: 0s - loss: 0.6055 - acc: 0.7604Epoch 00037: val_loss did not improve\n",
      "781/781 [==============================] - 85s - loss: 0.6055 - acc: 0.7605 - val_loss: 0.8465 - val_acc: 0.6203\n"
     ]
    },
    {
     "data": {
      "application/vnd.jupyter.widget-view+json": {
       "model_id": "1425f845cba44407939ca04c0937cd19"
      }
     },
     "metadata": {},
     "output_type": "display_data"
    },
    {
     "name": "stdout",
     "output_type": "stream",
     "text": [
      "Epoch 39/200\n",
      "780/781 [============================>.] - ETA: 0s - loss: 0.6042 - acc: 0.7594- ETA:Epoch 00038: val_loss did not improve\n",
      "781/781 [==============================] - 85s - loss: 0.6040 - acc: 0.7595 - val_loss: 0.8887 - val_acc: 0.6202\n"
     ]
    },
    {
     "data": {
      "application/vnd.jupyter.widget-view+json": {
       "model_id": "684daecfc93142218f3e1ac12a4a321a"
      }
     },
     "metadata": {},
     "output_type": "display_data"
    },
    {
     "name": "stdout",
     "output_type": "stream",
     "text": [
      "Epoch 40/200\n",
      "780/781 [============================>.] - ETA: 0s - loss: 0.6034 - acc: 0.7614Epoch 00039: val_loss did not improve\n",
      "781/781 [==============================] - 85s - loss: 0.6034 - acc: 0.7614 - val_loss: 0.8573 - val_acc: 0.6238\n"
     ]
    },
    {
     "data": {
      "application/vnd.jupyter.widget-view+json": {
       "model_id": "e5fd86a426934b249fa1fed8c4a2b501"
      }
     },
     "metadata": {},
     "output_type": "display_data"
    },
    {
     "name": "stdout",
     "output_type": "stream",
     "text": [
      "Epoch 41/200\n",
      "780/781 [============================>.] - ETA: 0s - loss: 0.5994 - acc: 0.7596Epoch 00040: val_loss did not improve\n",
      "781/781 [==============================] - 85s - loss: 0.5994 - acc: 0.7595 - val_loss: 0.8480 - val_acc: 0.6468\n"
     ]
    },
    {
     "data": {
      "application/vnd.jupyter.widget-view+json": {
       "model_id": "7de1e646e71c41f2afa40948a85a74c6"
      }
     },
     "metadata": {},
     "output_type": "display_data"
    },
    {
     "name": "stdout",
     "output_type": "stream",
     "text": [
      "Epoch 42/200\n",
      "780/781 [============================>.] - ETA: 0s - loss: 0.5996 - acc: 0.7613Epoch 00041: val_loss did not improve\n",
      "781/781 [==============================] - 85s - loss: 0.5998 - acc: 0.7612 - val_loss: 0.8492 - val_acc: 0.6368\n"
     ]
    },
    {
     "data": {
      "application/vnd.jupyter.widget-view+json": {
       "model_id": "ef0f2f5298454f52a1d414245b788cec"
      }
     },
     "metadata": {},
     "output_type": "display_data"
    },
    {
     "name": "stdout",
     "output_type": "stream",
     "text": [
      "Epoch 43/200\n",
      "780/781 [============================>.] - ETA: 0s - loss: 0.5981 - acc: 0.7610Epoch 00042: val_loss did not improve\n",
      "781/781 [==============================] - 86s - loss: 0.5981 - acc: 0.7611 - val_loss: 0.8289 - val_acc: 0.6360\n"
     ]
    },
    {
     "data": {
      "application/vnd.jupyter.widget-view+json": {
       "model_id": "4334d287b7db40bdae62406db622fc20"
      }
     },
     "metadata": {},
     "output_type": "display_data"
    },
    {
     "name": "stdout",
     "output_type": "stream",
     "text": [
      "Epoch 44/200\n",
      "780/781 [============================>.] - ETA: 0s - loss: 0.5978 - acc: 0.7624Epoch 00043: val_loss did not improve\n",
      "781/781 [==============================] - 85s - loss: 0.5978 - acc: 0.7623 - val_loss: 0.8407 - val_acc: 0.6287\n"
     ]
    },
    {
     "data": {
      "application/vnd.jupyter.widget-view+json": {
       "model_id": "6070b82876cc4800aa0ba0971f44f453"
      }
     },
     "metadata": {},
     "output_type": "display_data"
    },
    {
     "name": "stdout",
     "output_type": "stream",
     "text": [
      "Epoch 45/200\n",
      "780/781 [============================>.] - ETA: 0s - loss: 0.5932 - acc: 0.7620Epoch 00044: val_loss did not improve\n",
      "781/781 [==============================] - 85s - loss: 0.5935 - acc: 0.7620 - val_loss: 0.8826 - val_acc: 0.6272\n"
     ]
    },
    {
     "data": {
      "application/vnd.jupyter.widget-view+json": {
       "model_id": "739c895e15d5487182fcd80ca577d92d"
      }
     },
     "metadata": {},
     "output_type": "display_data"
    },
    {
     "name": "stdout",
     "output_type": "stream",
     "text": [
      "Epoch 46/200\n",
      "780/781 [============================>.] - ETA: 0s - loss: 0.5944 - acc: 0.7611Epoch 00045: val_loss did not improve\n",
      "781/781 [==============================] - 85s - loss: 0.5945 - acc: 0.7611 - val_loss: 0.8660 - val_acc: 0.6221\n"
     ]
    },
    {
     "data": {
      "application/vnd.jupyter.widget-view+json": {
       "model_id": "44936d2e499a48319551a9351af561c9"
      }
     },
     "metadata": {},
     "output_type": "display_data"
    },
    {
     "name": "stdout",
     "output_type": "stream",
     "text": [
      "Epoch 47/200\n",
      "780/781 [============================>.] - ETA: 0s - loss: 0.5942 - acc: 0.7620Epoch 00046: val_loss did not improve\n",
      "781/781 [==============================] - 85s - loss: 0.5942 - acc: 0.7620 - val_loss: 0.8592 - val_acc: 0.6163\n"
     ]
    },
    {
     "data": {
      "application/vnd.jupyter.widget-view+json": {
       "model_id": "502a481b37e740cab81e2a981cc42aad"
      }
     },
     "metadata": {},
     "output_type": "display_data"
    },
    {
     "name": "stdout",
     "output_type": "stream",
     "text": [
      "Epoch 48/200\n",
      "780/781 [============================>.] - ETA: 0s - loss: 0.5969 - acc: 0.7612Epoch 00047: val_loss improved from 0.82297 to 0.80561, saving model to model_checkpoint_cifar110_vgg8_wu_0.5.h5\n",
      "781/781 [==============================] - 85s - loss: 0.5970 - acc: 0.7612 - val_loss: 0.8056 - val_acc: 0.6421\n"
     ]
    },
    {
     "data": {
      "application/vnd.jupyter.widget-view+json": {
       "model_id": "b4373bc6f2894cbdb6cd3c1f184bb7fe"
      }
     },
     "metadata": {},
     "output_type": "display_data"
    },
    {
     "name": "stdout",
     "output_type": "stream",
     "text": [
      "Epoch 49/200\n",
      "780/781 [============================>.] - ETA: 0s - loss: 0.5874 - acc: 0.7629Epoch 00048: val_loss did not improve\n",
      "781/781 [==============================] - 85s - loss: 0.5874 - acc: 0.7629 - val_loss: 0.8214 - val_acc: 0.6321\n"
     ]
    },
    {
     "data": {
      "application/vnd.jupyter.widget-view+json": {
       "model_id": "79ffeafae26142b5b7c5202f4c2e41a4"
      }
     },
     "metadata": {},
     "output_type": "display_data"
    },
    {
     "name": "stdout",
     "output_type": "stream",
     "text": [
      "Epoch 50/200\n",
      "780/781 [============================>.] - ETA: 0s - loss: 0.5922 - acc: 0.7625Epoch 00049: val_loss did not improve\n",
      "781/781 [==============================] - 85s - loss: 0.5921 - acc: 0.7625 - val_loss: 0.8460 - val_acc: 0.6410\n"
     ]
    },
    {
     "data": {
      "application/vnd.jupyter.widget-view+json": {
       "model_id": "9008f5807fa04c75949b5525488f6fbc"
      }
     },
     "metadata": {},
     "output_type": "display_data"
    },
    {
     "name": "stdout",
     "output_type": "stream",
     "text": [
      "Epoch 51/200\n",
      "780/781 [============================>.] - ETA: 0s - loss: 0.5884 - acc: 0.7622Epoch 00050: val_loss did not improve\n",
      "781/781 [==============================] - 85s - loss: 0.5883 - acc: 0.7622 - val_loss: 0.8662 - val_acc: 0.6238\n"
     ]
    },
    {
     "data": {
      "application/vnd.jupyter.widget-view+json": {
       "model_id": "2005d04243aa4d6ebe8a414e790eb2e5"
      }
     },
     "metadata": {},
     "output_type": "display_data"
    },
    {
     "name": "stdout",
     "output_type": "stream",
     "text": [
      "Epoch 52/200\n",
      "780/781 [============================>.] - ETA: 0s - loss: 0.5897 - acc: 0.7614Epoch 00051: val_loss did not improve\n",
      "781/781 [==============================] - 85s - loss: 0.5897 - acc: 0.7613 - val_loss: 0.8267 - val_acc: 0.6357\n"
     ]
    },
    {
     "data": {
      "application/vnd.jupyter.widget-view+json": {
       "model_id": "7d8b013d89ef44f6986c13e92b0ed91a"
      }
     },
     "metadata": {},
     "output_type": "display_data"
    },
    {
     "name": "stdout",
     "output_type": "stream",
     "text": [
      "Epoch 53/200\n",
      "780/781 [============================>.] - ETA: 0s - loss: 0.5844 - acc: 0.7619Epoch 00052: val_loss did not improve\n",
      "781/781 [==============================] - 85s - loss: 0.5843 - acc: 0.7619 - val_loss: 0.8125 - val_acc: 0.6321\n"
     ]
    },
    {
     "data": {
      "application/vnd.jupyter.widget-view+json": {
       "model_id": "4433a7496e8f423d9e735f17aaa74a97"
      }
     },
     "metadata": {},
     "output_type": "display_data"
    },
    {
     "name": "stdout",
     "output_type": "stream",
     "text": [
      "Epoch 54/200\n",
      "780/781 [============================>.] - ETA: 0s - loss: 0.5859 - acc: 0.7638Epoch 00053: val_loss did not improve\n",
      "781/781 [==============================] - 85s - loss: 0.5859 - acc: 0.7638 - val_loss: 0.8254 - val_acc: 0.6358\n"
     ]
    },
    {
     "data": {
      "application/vnd.jupyter.widget-view+json": {
       "model_id": "960c6fc75e6f4dc7a3d7786b53d6308f"
      }
     },
     "metadata": {},
     "output_type": "display_data"
    },
    {
     "name": "stdout",
     "output_type": "stream",
     "text": [
      "Epoch 55/200\n",
      "780/781 [============================>.] - ETA: 0s - loss: 0.5874 - acc: 0.7617Epoch 00054: val_loss did not improve\n",
      "781/781 [==============================] - 85s - loss: 0.5875 - acc: 0.7617 - val_loss: 0.8352 - val_acc: 0.6350\n"
     ]
    },
    {
     "data": {
      "application/vnd.jupyter.widget-view+json": {
       "model_id": "eca4b0798867428382087bf648320adf"
      }
     },
     "metadata": {},
     "output_type": "display_data"
    },
    {
     "name": "stdout",
     "output_type": "stream",
     "text": [
      "Epoch 56/200\n",
      "780/781 [============================>.] - ETA: 0s - loss: 0.5837 - acc: 0.7632Epoch 00055: val_loss did not improve\n",
      "781/781 [==============================] - 85s - loss: 0.5836 - acc: 0.7632 - val_loss: 0.8491 - val_acc: 0.6137\n"
     ]
    },
    {
     "data": {
      "application/vnd.jupyter.widget-view+json": {
       "model_id": "1a1aea798d9147e39fa31c3ada7473ad"
      }
     },
     "metadata": {},
     "output_type": "display_data"
    },
    {
     "name": "stdout",
     "output_type": "stream",
     "text": [
      "Epoch 57/200\n",
      "780/781 [============================>.] - ETA: 0s - loss: 0.5851 - acc: 0.7634Epoch 00056: val_loss did not improve\n",
      "781/781 [==============================] - 85s - loss: 0.5851 - acc: 0.7634 - val_loss: 0.8295 - val_acc: 0.6276\n"
     ]
    },
    {
     "data": {
      "application/vnd.jupyter.widget-view+json": {
       "model_id": "1e3276de32fa40b78f6bf017427412e3"
      }
     },
     "metadata": {},
     "output_type": "display_data"
    },
    {
     "name": "stdout",
     "output_type": "stream",
     "text": [
      "Epoch 58/200\n",
      "780/781 [============================>.] - ETA: 0s - loss: 0.5841 - acc: 0.7636Epoch 00057: val_loss did not improve\n",
      "781/781 [==============================] - 85s - loss: 0.5842 - acc: 0.7636 - val_loss: 0.8064 - val_acc: 0.6351\n"
     ]
    },
    {
     "data": {
      "application/vnd.jupyter.widget-view+json": {
       "model_id": "8d6d552accb947509fcd761003b510be"
      }
     },
     "metadata": {},
     "output_type": "display_data"
    },
    {
     "name": "stdout",
     "output_type": "stream",
     "text": [
      "Epoch 59/200\n",
      "780/781 [============================>.] - ETA: 0s - loss: 0.5821 - acc: 0.7634Epoch 00058: val_loss did not improve\n",
      "781/781 [==============================] - 85s - loss: 0.5821 - acc: 0.7634 - val_loss: 0.8285 - val_acc: 0.6514\n"
     ]
    },
    {
     "data": {
      "application/vnd.jupyter.widget-view+json": {
       "model_id": "e2b6fd21e9fb4123882528eab77ac14d"
      }
     },
     "metadata": {},
     "output_type": "display_data"
    },
    {
     "name": "stdout",
     "output_type": "stream",
     "text": [
      "Epoch 60/200\n",
      "780/781 [============================>.] - ETA: 0s - loss: 0.5809 - acc: 0.7632Epoch 00059: val_loss did not improve\n",
      "781/781 [==============================] - 85s - loss: 0.5808 - acc: 0.7633 - val_loss: 0.8058 - val_acc: 0.6360\n"
     ]
    },
    {
     "data": {
      "application/vnd.jupyter.widget-view+json": {
       "model_id": "66296b8986ac48ef9c994688358a834f"
      }
     },
     "metadata": {},
     "output_type": "display_data"
    },
    {
     "name": "stdout",
     "output_type": "stream",
     "text": [
      "Epoch 61/200\n",
      "780/781 [============================>.] - ETA: 0s - loss: 0.5807 - acc: 0.7640- ETA: 3Epoch 00060: val_loss did not improve\n",
      "781/781 [==============================] - 85s - loss: 0.5806 - acc: 0.7640 - val_loss: 0.8171 - val_acc: 0.6452\n"
     ]
    },
    {
     "data": {
      "application/vnd.jupyter.widget-view+json": {
       "model_id": "8de2873439014f0e9a3668963b91d38e"
      }
     },
     "metadata": {},
     "output_type": "display_data"
    },
    {
     "name": "stdout",
     "output_type": "stream",
     "text": [
      "Epoch 62/200\n",
      "780/781 [============================>.] - ETA: 0s - loss: 0.5773 - acc: 0.7648Epoch 00061: val_loss did not improve\n",
      "781/781 [==============================] - 85s - loss: 0.5774 - acc: 0.7648 - val_loss: 0.8129 - val_acc: 0.6466\n"
     ]
    },
    {
     "data": {
      "application/vnd.jupyter.widget-view+json": {
       "model_id": "119e407f1efd4532b65e9a13672ba115"
      }
     },
     "metadata": {},
     "output_type": "display_data"
    },
    {
     "name": "stdout",
     "output_type": "stream",
     "text": [
      "Epoch 63/200\n",
      "780/781 [============================>.] - ETA: 0s - loss: 0.5776 - acc: 0.7638Epoch 00062: val_loss improved from 0.80561 to 0.80016, saving model to model_checkpoint_cifar110_vgg8_wu_0.5.h5\n",
      "781/781 [==============================] - 85s - loss: 0.5774 - acc: 0.7639 - val_loss: 0.8002 - val_acc: 0.6470\n"
     ]
    },
    {
     "data": {
      "application/vnd.jupyter.widget-view+json": {
       "model_id": "fba857bf64584decad7890ab1dec1324"
      }
     },
     "metadata": {},
     "output_type": "display_data"
    },
    {
     "name": "stdout",
     "output_type": "stream",
     "text": [
      "Epoch 64/200\n",
      "780/781 [============================>.] - ETA: 0s - loss: 0.5810 - acc: 0.7644Epoch 00063: val_loss did not improve\n",
      "781/781 [==============================] - 85s - loss: 0.5808 - acc: 0.7644 - val_loss: 0.8698 - val_acc: 0.6206\n"
     ]
    },
    {
     "data": {
      "application/vnd.jupyter.widget-view+json": {
       "model_id": "fe078fc007534733a3c6f73285c9e463"
      }
     },
     "metadata": {},
     "output_type": "display_data"
    },
    {
     "name": "stdout",
     "output_type": "stream",
     "text": [
      "Epoch 65/200\n",
      "780/781 [============================>.] - ETA: 0s - loss: 0.5736 - acc: 0.7645Epoch 00064: val_loss did not improve\n",
      "781/781 [==============================] - 86s - loss: 0.5736 - acc: 0.7645 - val_loss: 0.8311 - val_acc: 0.6462\n"
     ]
    },
    {
     "data": {
      "application/vnd.jupyter.widget-view+json": {
       "model_id": "8408fc26908349929c3f6eb8b77dcfce"
      }
     },
     "metadata": {},
     "output_type": "display_data"
    },
    {
     "name": "stdout",
     "output_type": "stream",
     "text": [
      "Epoch 66/200\n",
      "780/781 [============================>.] - ETA: 0s - loss: 0.5777 - acc: 0.7632Epoch 00065: val_loss did not improve\n",
      "781/781 [==============================] - 86s - loss: 0.5777 - acc: 0.7632 - val_loss: 0.8258 - val_acc: 0.6313\n"
     ]
    },
    {
     "data": {
      "application/vnd.jupyter.widget-view+json": {
       "model_id": "8ea3fe8c148248529fa632f4c9d3e204"
      }
     },
     "metadata": {},
     "output_type": "display_data"
    },
    {
     "name": "stdout",
     "output_type": "stream",
     "text": [
      "Epoch 67/200\n",
      "780/781 [============================>.] - ETA: 0s - loss: 0.5780 - acc: 0.7645Epoch 00066: val_loss improved from 0.80016 to 0.78856, saving model to model_checkpoint_cifar110_vgg8_wu_0.5.h5\n",
      "781/781 [==============================] - 85s - loss: 0.5782 - acc: 0.7644 - val_loss: 0.7886 - val_acc: 0.6732\n"
     ]
    },
    {
     "data": {
      "application/vnd.jupyter.widget-view+json": {
       "model_id": "f1192987e1d14d12a31e64e1f191d121"
      }
     },
     "metadata": {},
     "output_type": "display_data"
    },
    {
     "name": "stdout",
     "output_type": "stream",
     "text": [
      "Epoch 68/200\n",
      "780/781 [============================>.] - ETA: 0s - loss: 0.5737 - acc: 0.7637Epoch 00067: val_loss did not improve\n",
      "781/781 [==============================] - 85s - loss: 0.5737 - acc: 0.7637 - val_loss: 0.8254 - val_acc: 0.6330\n"
     ]
    },
    {
     "data": {
      "application/vnd.jupyter.widget-view+json": {
       "model_id": "a623cb422f4e4c709b744b365b609219"
      }
     },
     "metadata": {},
     "output_type": "display_data"
    },
    {
     "name": "stdout",
     "output_type": "stream",
     "text": [
      "Epoch 69/200\n",
      "780/781 [============================>.] - ETA: 0s - loss: 0.5687 - acc: 0.7665Epoch 00068: val_loss did not improve\n",
      "781/781 [==============================] - 85s - loss: 0.5686 - acc: 0.7666 - val_loss: 0.8394 - val_acc: 0.6335\n"
     ]
    },
    {
     "data": {
      "application/vnd.jupyter.widget-view+json": {
       "model_id": "753a94485afa4366841a4dd043319a0a"
      }
     },
     "metadata": {},
     "output_type": "display_data"
    },
    {
     "name": "stdout",
     "output_type": "stream",
     "text": [
      "Epoch 70/200\n",
      "780/781 [============================>.] - ETA: 0s - loss: 0.5721 - acc: 0.7653Epoch 00069: val_loss did not improve\n",
      "781/781 [==============================] - 85s - loss: 0.5721 - acc: 0.7652 - val_loss: 0.8145 - val_acc: 0.6439\n"
     ]
    },
    {
     "data": {
      "application/vnd.jupyter.widget-view+json": {
       "model_id": "e0609c538eb349b0951639add224af46"
      }
     },
     "metadata": {},
     "output_type": "display_data"
    },
    {
     "name": "stdout",
     "output_type": "stream",
     "text": [
      "Epoch 71/200\n",
      "780/781 [============================>.] - ETA: 0s - loss: 0.5724 - acc: 0.7647Epoch 00070: val_loss did not improve\n",
      "781/781 [==============================] - 85s - loss: 0.5725 - acc: 0.7646 - val_loss: 0.8240 - val_acc: 0.6333\n"
     ]
    },
    {
     "data": {
      "application/vnd.jupyter.widget-view+json": {
       "model_id": "734c14efafe54d8ebdc146e6a9c39170"
      }
     },
     "metadata": {},
     "output_type": "display_data"
    },
    {
     "name": "stdout",
     "output_type": "stream",
     "text": [
      "Epoch 72/200\n",
      "780/781 [============================>.] - ETA: 0s - loss: 0.5704 - acc: 0.7662Epoch 00071: val_loss did not improve\n",
      "781/781 [==============================] - 85s - loss: 0.5703 - acc: 0.7663 - val_loss: 0.8408 - val_acc: 0.6298\n"
     ]
    },
    {
     "data": {
      "application/vnd.jupyter.widget-view+json": {
       "model_id": "cade5cc0f938454f9355c94e88b2a66b"
      }
     },
     "metadata": {},
     "output_type": "display_data"
    },
    {
     "name": "stdout",
     "output_type": "stream",
     "text": [
      "Epoch 73/200\n",
      "780/781 [============================>.] - ETA: 0s - loss: 0.5703 - acc: 0.7671Epoch 00072: val_loss did not improve\n",
      "781/781 [==============================] - 85s - loss: 0.5703 - acc: 0.7671 - val_loss: 0.8289 - val_acc: 0.6394\n"
     ]
    },
    {
     "data": {
      "application/vnd.jupyter.widget-view+json": {
       "model_id": "050f3893d10a426e91ea5ef5a4d60882"
      }
     },
     "metadata": {},
     "output_type": "display_data"
    },
    {
     "name": "stdout",
     "output_type": "stream",
     "text": [
      "Epoch 74/200\n",
      "780/781 [============================>.] - ETA: 0s - loss: 0.5728 - acc: 0.7643Epoch 00073: val_loss did not improve\n",
      "781/781 [==============================] - 85s - loss: 0.5729 - acc: 0.7643 - val_loss: 0.8295 - val_acc: 0.6357\n"
     ]
    },
    {
     "data": {
      "application/vnd.jupyter.widget-view+json": {
       "model_id": "4f93fd2becbe4478a50428b52759cada"
      }
     },
     "metadata": {},
     "output_type": "display_data"
    },
    {
     "name": "stdout",
     "output_type": "stream",
     "text": [
      "Epoch 75/200\n",
      "780/781 [============================>.] - ETA: 0s - loss: 0.5685 - acc: 0.7674Epoch 00074: val_loss did not improve\n",
      "781/781 [==============================] - 85s - loss: 0.5684 - acc: 0.7674 - val_loss: 0.8003 - val_acc: 0.6417\n"
     ]
    },
    {
     "data": {
      "application/vnd.jupyter.widget-view+json": {
       "model_id": "321959d7573e492a8be237c136235ace"
      }
     },
     "metadata": {},
     "output_type": "display_data"
    },
    {
     "name": "stdout",
     "output_type": "stream",
     "text": [
      "Epoch 76/200\n",
      "780/781 [============================>.] - ETA: 0s - loss: 0.5687 - acc: 0.7669Epoch 00075: val_loss did not improve\n",
      "781/781 [==============================] - 85s - loss: 0.5689 - acc: 0.7669 - val_loss: 0.8109 - val_acc: 0.6301\n"
     ]
    },
    {
     "data": {
      "application/vnd.jupyter.widget-view+json": {
       "model_id": "b5f123fe2bd241b496f973f728f3a313"
      }
     },
     "metadata": {},
     "output_type": "display_data"
    },
    {
     "name": "stdout",
     "output_type": "stream",
     "text": [
      "Epoch 77/200\n",
      "780/781 [============================>.] - ETA: 0s - loss: 0.5694 - acc: 0.7641Epoch 00076: val_loss did not improve\n",
      "781/781 [==============================] - 86s - loss: 0.5695 - acc: 0.7641 - val_loss: 0.8124 - val_acc: 0.6308\n"
     ]
    },
    {
     "data": {
      "application/vnd.jupyter.widget-view+json": {
       "model_id": "2d7727cf959a4e82b0b0406dd0d45620"
      }
     },
     "metadata": {},
     "output_type": "display_data"
    },
    {
     "name": "stdout",
     "output_type": "stream",
     "text": [
      "Epoch 78/200\n",
      "780/781 [============================>.] - ETA: 0s - loss: 0.5625 - acc: 0.7676Epoch 00077: val_loss did not improve\n",
      "781/781 [==============================] - 85s - loss: 0.5625 - acc: 0.7676 - val_loss: 0.8179 - val_acc: 0.6444\n"
     ]
    },
    {
     "data": {
      "application/vnd.jupyter.widget-view+json": {
       "model_id": "880a0b5d3213427db65985b35d3d7de5"
      }
     },
     "metadata": {},
     "output_type": "display_data"
    },
    {
     "name": "stdout",
     "output_type": "stream",
     "text": [
      "Epoch 79/200\n",
      "780/781 [============================>.] - ETA: 0s - loss: 0.5683 - acc: 0.7646Epoch 00078: val_loss improved from 0.78856 to 0.78385, saving model to model_checkpoint_cifar110_vgg8_wu_0.5.h5\n",
      "781/781 [==============================] - 86s - loss: 0.5683 - acc: 0.7646 - val_loss: 0.7838 - val_acc: 0.6559\n"
     ]
    },
    {
     "data": {
      "application/vnd.jupyter.widget-view+json": {
       "model_id": "d8701af64bfb4d6e9b4f0f12d7a645a6"
      }
     },
     "metadata": {},
     "output_type": "display_data"
    },
    {
     "name": "stdout",
     "output_type": "stream",
     "text": [
      "Epoch 80/200\n",
      "780/781 [============================>.] - ETA: 0s - loss: 0.5655 - acc: 0.7669Epoch 00079: val_loss did not improve\n",
      "781/781 [==============================] - 85s - loss: 0.5656 - acc: 0.7669 - val_loss: 0.8014 - val_acc: 0.6364\n"
     ]
    },
    {
     "data": {
      "application/vnd.jupyter.widget-view+json": {
       "model_id": "47c48b32e4dc44e5a2d55c4ee49b6393"
      }
     },
     "metadata": {},
     "output_type": "display_data"
    },
    {
     "name": "stdout",
     "output_type": "stream",
     "text": [
      "Epoch 81/200\n",
      "166/781 [=====>........................] - ETA: 64s - loss: 0.5742 - acc: 0.7652"
     ]
    }
   ],
   "source": [
    "def normalize(x):\n",
    "    \"\"\"Substract mean and Divide by std.\"\"\"\n",
    "    x -= np.array([125.3, 123.0, 113.9], dtype=K.floatx())\n",
    "    x /= np.array([63.0, 62.1, 66.7], dtype=K.floatx())\n",
    "    return x\n",
    "\n",
    "\n",
    "x_train = normalize(x_train)\n",
    "x_test = normalize(x_test)\n",
    "\n",
    "if not data_augmentation:\n",
    "    print('No data augmentation applied.')\n",
    "    model.fit(x_train, y_train,\n",
    "              batch_size=batch_size,\n",
    "              epochs=epochs,\n",
    "              validation_data=(x_test, y_test),\n",
    "              class_weight=class_weight,\n",
    "              shuffle=True,\n",
    "              callbacks=[csv_logger, checkpointer, early_stopper]) \n",
    "else:\n",
    "    print('Using real-time data augmentation.')\n",
    "    # This will do preprocessing and realtime data augmentation:\n",
    "    datagen = ImageDataGenerator(\n",
    "        featurewise_center=False,  # set input mean to 0 over the dataset\n",
    "        samplewise_center=False,  # set each sample mean to 0\n",
    "        featurewise_std_normalization=False,  # divide inputs by std\n",
    "        samplewise_std_normalization=False,  # divide each input by its std\n",
    "        zca_whitening=False,  # apply ZCA whitening\n",
    "        # randomly rotate images in the range (degrees, 0 to 180)\n",
    "        rotation_range=0,\n",
    "        # randomly shift images horizontally (fraction of total width)\n",
    "        width_shift_range=0.1,\n",
    "        # randomly shift images vertically (fraction of total height)\n",
    "        height_shift_range=0.1,\n",
    "        horizontal_flip=True,  # randomly flip images\n",
    "        vertical_flip=False)  # randomly flip images\n",
    "\n",
    "    # Compute quantities required for feature-wise normalization\n",
    "    # (std, mean, and principal components if ZCA whitening is applied).\n",
    "    datagen.fit(x_train)\n",
    "\n",
    "    # Fit the model on the batches generated by datagen.flow().\n",
    "    model.fit_generator(datagen.flow(x_train, y_train_pu[pct_missing],\n",
    "                                     batch_size=batch_size),\n",
    "                        steps_per_epoch=x_train.shape[0] // batch_size,\n",
    "                        epochs=epochs,\n",
    "                        validation_data=(x_test, y_test),\n",
    "                        class_weight=class_weight,\n",
    "                        callbacks=[csv_logger, checkpointer, early_stopper,\n",
    "                                   lr_reducer, TQDMNotebookCallback()])\n",
    "    model.save('{}_wu_{}.h5'.format(title, pct_missing))\n",
    "    \n",
    "    # Predict\n",
    "    y_train_pred_enc = model.predict(x_train)\n",
    "    y_test_pred_enc = model.predict(x_test)\n",
    "    \n",
    "    lst = []\n",
    "    y_train_pred = np.argmax(y_train_pred_enc, axis=-1)\n",
    "    y_train_true = np.argmax(y_train, axis=-1)\n",
    "    y_train_label = np.argmax(y_train_pu[pct_missing], axis=-1)\n",
    "    for y_pred, y_true, y_label in zip(y_train_pred, y_train_true, y_train_label):\n",
    "        lst.append(dict(y_pred=y_pred, y_true=y_true, y_label=y_label, split='train'))\n",
    "\n",
    "    y_test_pred = np.argmax(y_test_pred_enc, axis=-1)\n",
    "    y_test_true = np.argmax(y_test, axis=-1)\n",
    "    for y_pred, y_true in zip(y_test_pred, y_test_true):\n",
    "        lst.append(dict(y_pred=y_pred, y_true=y_true, y_label=y_true, split='test'))\n",
    "    \n",
    "    df = pd.DataFrame(lst)\n",
    "    df.to_csv('prediction_{}_wu_{}.csv'.format(title, pct_missing), index=False, mode='a')"
   ]
  },
  {
   "cell_type": "code",
   "execution_count": null,
   "metadata": {
    "collapsed": true
   },
   "outputs": [],
   "source": []
  }
 ],
 "metadata": {
  "kernelspec": {
   "display_name": "Python 2",
   "language": "python",
   "name": "python2"
  },
  "language_info": {
   "codemirror_mode": {
    "name": "ipython",
    "version": 2
   },
   "file_extension": ".py",
   "mimetype": "text/x-python",
   "name": "python",
   "nbconvert_exporter": "python",
   "pygments_lexer": "ipython2",
   "version": "2.7.12"
  }
 },
 "nbformat": 4,
 "nbformat_minor": 2
}
